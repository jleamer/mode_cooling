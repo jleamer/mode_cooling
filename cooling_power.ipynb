{
 "cells": [
  {
   "cell_type": "markdown",
   "id": "757c4f54-6422-4f92-b508-9cb4bc652f54",
   "metadata": {},
   "source": [
    "## Imports and Functions"
   ]
  },
  {
   "cell_type": "code",
   "execution_count": 1,
   "id": "2f6141ce-8744-418f-8995-cf5aa055d65a",
   "metadata": {},
   "outputs": [],
   "source": [
    "import numpy as np\n",
    "import matplotlib.pyplot as plt"
   ]
  },
  {
   "cell_type": "code",
   "execution_count": 2,
   "id": "f0989cc0-7993-4479-b3a2-46916ca3e78b",
   "metadata": {},
   "outputs": [],
   "source": [
    "# Set font size of plot elements\\n\",\n",
    "SMALL_SIZE = 12\n",
    "MEDIUM_SIZE = 14\n",
    "BIGGER_SIZE = 18\n",
    "plt.rc('font', size=SMALL_SIZE)          # controls default text sizes\n",
    "plt.rc('axes', titlesize=SMALL_SIZE)     # fontsize of the axes title\n",
    "plt.rc('axes', labelsize=MEDIUM_SIZE)    # fontsize of the x and y labels\n",
    "plt.rc('xtick', labelsize=SMALL_SIZE)    # fontsize of the tick labels\n",
    "plt.rc('ytick', labelsize=SMALL_SIZE)    # fontsize of the tick labels\n",
    "plt.rc('legend', fontsize=SMALL_SIZE)    # legend fontsize\n",
    "plt.rc('figure', titlesize=BIGGER_SIZE)  # fontsize of the figure title"
   ]
  },
  {
   "cell_type": "code",
   "execution_count": 3,
   "id": "a0fa902d-958e-41df-a0c6-b5e10e09011a",
   "metadata": {},
   "outputs": [],
   "source": [
    "def photons_from_temp(ω_c, temp):\n",
    "    hbar_ov_k = 7.639e-12\n",
    "    return (np.exp(hbar_ov_k * ω_c / temp) - 1) ** -1"
   ]
  },
  {
   "cell_type": "code",
   "execution_count": 4,
   "id": "79cfca6a-5793-4956-be2c-ed3a16f7268d",
   "metadata": {},
   "outputs": [],
   "source": [
    "def temp_from_photons(ω_c, num_photons):\n",
    "    hbar_ov_k = 7.639e-12 \n",
    "    return hbar_ov_k * ω_c / np.log(1 / num_photons + 1)"
   ]
  },
  {
   "cell_type": "markdown",
   "id": "a1f5cd1e-04ee-4f31-9574-c278eada5a52",
   "metadata": {},
   "source": [
    "## Cooling Power"
   ]
  },
  {
   "cell_type": "markdown",
   "id": "c1c1e907-c7d9-430f-981d-ac45077ec958",
   "metadata": {},
   "source": [
    "From what I could tell, the cooling power of different cyrogenic technologies is how much heat power is removed at a given temperature.  As an example, for dilution refrigerators with liquid Helium, this is given by the difference in enthalpy of mixing phases of He at a specific temperature.  According to Kurt, the rate of photons coming into the cavity from the thermal bath is just the output coupling rate $\\kappa$ multiplied by the mean number of photons in the thermal bath $n_T$.  (Question - Matt and Ethan mentioned that $\\kappa$ can often be set to 0.  Doesn't that mean that we would get worse cooling power?)"
   ]
  },
  {
   "cell_type": "code",
   "execution_count": 5,
   "id": "2ec6429f-a7c9-4c33-8f5b-3711600430f2",
   "metadata": {},
   "outputs": [],
   "source": [
    "# First calculate the number of photons in the thermal bath at say 77 K\n",
    "T = 5\n",
    "ωc = 2.87 * 2 * np.pi * 1e9\n",
    "nT = photons_from_temp(ωc, T)"
   ]
  },
  {
   "cell_type": "code",
   "execution_count": 6,
   "id": "b8b00742-b1a2-44d3-9cd7-9b79bd073ef6",
   "metadata": {},
   "outputs": [
    {
     "name": "stdout",
     "output_type": "stream",
     "text": [
      "Energy:  1.9016620000000002e-24  J\n",
      "Cooling power:  1.3716871958789768e-18  W\n"
     ]
    }
   ],
   "source": [
    "# Now calculate the power associated with these photons\n",
    "# This is just the energy times the rate - κ\n",
    "Q = 2.5e4\n",
    "γ = ωc / Q\n",
    "energy = 6.626e-34 * ωc / (2 * np.pi)\n",
    "pow = energy * γ\n",
    "print(\"Energy: \", energy, \" J\")\n",
    "print(\"Cooling power: \", pow, \" W\")"
   ]
  },
  {
   "cell_type": "markdown",
   "id": "864d9f0d-4208-4956-9dd1-defd5a9ddca9",
   "metadata": {},
   "source": [
    "### Power consumption\n",
    "According to Hanfeng, the optical excitation rate $\\gamma_{opt}$ is given by\n",
    "$\\gamma_{opt} = P / \\hbar\\omega / A * \\sigma_A$,\n",
    "where $P$ is the power, $A$ is the area of the laser light, and $\\sigma_A$ is the cross-section of the NV center.  Then the polarization is given by\n",
    "$p = 0.29\\gamma_{opt} / (3\\gamma_{th} + 0.38\\gamma_{opt})$\n",
    "where $\\gamma_{th} \\sim 90 s^{-1}$ is the thermalization rate.  So, we can calculate the power required to achieve a desired steady-state polarization."
   ]
  },
  {
   "cell_type": "code",
   "execution_count": 7,
   "id": "a8f4e944-9f01-4fc8-bfc5-79e74ff55ede",
   "metadata": {},
   "outputs": [
    {
     "name": "stdout",
     "output_type": "stream",
     "text": [
      "Number of NVs: 6.371988e+14\n"
     ]
    }
   ],
   "source": [
    "# Seems that this is unnecessary given what Hanfeng said, but I'll keep it here in case it ends up being useful later.\n",
    "ρ = 800 # ppb\n",
    "Vd = 0.3 * 0.3 * 0.05 # cm^3\n",
    "N = 800 * 1e-9 * 3.53 * Vd / 12.01 * 6.022e23\n",
    "print(\"Number of NVs: %3e\" % N)"
   ]
  },
  {
   "cell_type": "code",
   "execution_count": 8,
   "id": "7c272248-985a-4d03-bbd8-49f52b5514e7",
   "metadata": {},
   "outputs": [
    {
     "name": "stdout",
     "output_type": "stream",
     "text": [
      "γ_opt:  7874.999999999993\n"
     ]
    }
   ],
   "source": [
    "# First define the desired polarization.  For now we'll use the ideal case 1\n",
    "p = 0.7\n",
    "γ_th = 90\n",
    "γ_opt = 3 * γ_th * p / (0.29 - 0.38 * p)\n",
    "print(\"γ_opt: \", γ_opt)"
   ]
  },
  {
   "cell_type": "code",
   "execution_count": 10,
   "id": "d39bee47-f44f-4637-a13b-f98251e17b35",
   "metadata": {},
   "outputs": [
    {
     "data": {
      "text/plain": [
       "[<matplotlib.lines.Line2D at 0x7ee60c33d3d0>]"
      ]
     },
     "execution_count": 10,
     "metadata": {},
     "output_type": "execute_result"
    },
    {
     "data": {
      "image/png": "[encoded data removed]",
      "text/plain": [
       "<Figure size 640x480 with 1 Axes>"
      ]
     },
     "metadata": {},
     "output_type": "display_data"
    }
   ],
   "source": [
    "temp_p = np.linspace(0, 1, 1000)\n",
    "temp_γ_opt = 3 * γ_th * temp_p / (0.29 - 0.38 * temp_p)\n",
    "plt.plot(temp_p, temp_γ_opt)"
   ]
  },
  {
   "cell_type": "code",
   "execution_count": 11,
   "id": "6e4bdd57-fddf-496a-abae-6a71c87b9566",
   "metadata": {},
   "outputs": [],
   "source": [
    "# The cross-section is \n",
    "σ_a = 3e-17 #cm^2"
   ]
  },
  {
   "cell_type": "code",
   "execution_count": 15,
   "id": "3337715e-6cd3-442a-988e-d9055f5d5ebe",
   "metadata": {},
   "outputs": [],
   "source": [
    "# for a 532 nm laser, the energy per photon is\n",
    "h = 6.626e-34\n",
    "c = 3e8\n",
    "λ = 532e-9\n",
    "Ep = h * c / λ # J"
   ]
  },
  {
   "cell_type": "code",
   "execution_count": 16,
   "id": "33d38c2d-f92f-4b55-96e4-1838aa4bcfc6",
   "metadata": {},
   "outputs": [],
   "source": [
    "# If we assume that the diamond is oriented so that the thin edge is along the direction of propagation of the laser, the area the laser\n",
    "# should cover is 0.3 * 0.3 cm^2\n",
    "A = 0.3 * 0.3  # cm^2"
   ]
  },
  {
   "cell_type": "code",
   "execution_count": 20,
   "id": "a7ee5671-199c-46a2-875a-32cb1396ef38",
   "metadata": {},
   "outputs": [
    {
     "name": "stdout",
     "output_type": "stream",
     "text": [
      "P = 8.827401e+00 W\n"
     ]
    }
   ],
   "source": [
    "# So the power is\n",
    "P = γ_opt * Ep * A / σ_a\n",
    "print(\"P = %3e W\" % P)"
   ]
  },
  {
   "cell_type": "code",
   "execution_count": null,
   "id": "bb9477d6-a3ac-42ef-b93a-1121c915dd26",
   "metadata": {},
   "outputs": [],
   "source": []
  }
 ],
 "metadata": {
  "kernelspec": {
   "display_name": "Python 3 (ipykernel)",
   "language": "python",
   "name": "python3"
  },
  "language_info": {
   "codemirror_mode": {
    "name": "ipython",
    "version": 3
   },
   "file_extension": ".py",
   "mimetype": "text/x-python",
   "name": "python",
   "nbconvert_exporter": "python",
   "pygments_lexer": "ipython3",
   "version": "3.11.9"
  }
 },
 "nbformat": 4,
 "nbformat_minor": 5
}
