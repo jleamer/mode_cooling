{
 "cells": [
  {
   "cell_type": "markdown",
   "id": "757c4f54-6422-4f92-b508-9cb4bc652f54",
   "metadata": {},
   "source": [
    "## Imports and Functions"
   ]
  },
  {
   "cell_type": "code",
   "execution_count": 1,
   "id": "2f6141ce-8744-418f-8995-cf5aa055d65a",
   "metadata": {},
   "outputs": [],
   "source": [
    "import numpy as np\n",
    "import matplotlib.pyplot as plt"
   ]
  },
  {
   "cell_type": "code",
   "execution_count": 2,
   "id": "f0989cc0-7993-4479-b3a2-46916ca3e78b",
   "metadata": {},
   "outputs": [],
   "source": [
    "# Set font size of plot elements\\n\",\n",
    "SMALL_SIZE = 12\n",
    "MEDIUM_SIZE = 14\n",
    "BIGGER_SIZE = 18\n",
    "plt.rc('font', size=SMALL_SIZE)          # controls default text sizes\n",
    "plt.rc('axes', titlesize=SMALL_SIZE)     # fontsize of the axes title\n",
    "plt.rc('axes', labelsize=MEDIUM_SIZE)    # fontsize of the x and y labels\n",
    "plt.rc('xtick', labelsize=SMALL_SIZE)    # fontsize of the tick labels\n",
    "plt.rc('ytick', labelsize=SMALL_SIZE)    # fontsize of the tick labels\n",
    "plt.rc('legend', fontsize=SMALL_SIZE)    # legend fontsize\n",
    "plt.rc('figure', titlesize=BIGGER_SIZE)  # fontsize of the figure title"
   ]
  },
  {
   "cell_type": "code",
   "execution_count": 3,
   "id": "a0fa902d-958e-41df-a0c6-b5e10e09011a",
   "metadata": {},
   "outputs": [],
   "source": [
    "def photons_from_temp(ω_c, temp):\n",
    "    hbar_ov_k = 7.639e-12\n",
    "    return (np.exp(hbar_ov_k * ω_c / temp) - 1) ** -1"
   ]
  },
  {
   "cell_type": "code",
   "execution_count": 4,
   "id": "79cfca6a-5793-4956-be2c-ed3a16f7268d",
   "metadata": {},
   "outputs": [],
   "source": [
    "def temp_from_photons(ω_c, num_photons):\n",
    "    hbar_ov_k = 7.639e-12 \n",
    "    return hbar_ov_k * ω_c / np.log(1 / num_photons + 1)"
   ]
  },
  {
   "cell_type": "markdown",
   "id": "a1f5cd1e-04ee-4f31-9574-c278eada5a52",
   "metadata": {},
   "source": [
    "## Cooling Power"
   ]
  },
  {
   "cell_type": "markdown",
   "id": "c1c1e907-c7d9-430f-981d-ac45077ec958",
   "metadata": {},
   "source": [
    "From what I could tell, the cooling power of different cyrogenic technologies is how much heat power is removed at a given temperature.  As an example, for dilution refrigerators with liquid Helium, this is given by the difference in enthalpy of mixing phases of He at a specific temperature.  According to Kurt, the rate of photons coming into the cavity from the thermal bath is just the output coupling rate $\\kappa$ multiplied by the mean number of photons in the thermal bath $n_T$.  (Question - Matt and Ethan mentioned that $\\kappa$ can often be set to 0.  Doesn't that mean that we would get worse cooling power?)"
   ]
  },
  {
   "cell_type": "code",
   "execution_count": 5,
   "id": "2ec6429f-a7c9-4c33-8f5b-3711600430f2",
   "metadata": {},
   "outputs": [],
   "source": [
    "# First calculate the number of photons in the thermal bath at say 77 K\n",
    "T = 5\n",
    "ωc = 2.87 * 2 * np.pi * 1e9\n",
    "nT = photons_from_temp(ωc, T)"
   ]
  },
  {
   "cell_type": "code",
   "execution_count": 6,
   "id": "b8b00742-b1a2-44d3-9cd7-9b79bd073ef6",
   "metadata": {},
   "outputs": [
    {
     "name": "stdout",
     "output_type": "stream",
     "text": [
      "Energy:  1.9016620000000002e-24  J\n",
      "Cooling power:  1.3716871958789768e-18  W\n"
     ]
    }
   ],
   "source": [
    "# Now calculate the power associated with these photons\n",
    "# This is just the energy times the rate - κ\n",
    "Q = 2.5e4\n",
    "γ = ωc / Q\n",
    "energy = 6.626e-34 * ωc / (2 * np.pi)\n",
    "pow = energy * γ\n",
    "print(\"Energy: \", energy, \" J\")\n",
    "print(\"Cooling power: \", pow, \" W\")"
   ]
  },
  {
   "cell_type": "code",
   "execution_count": null,
   "id": "7df55595-a1a8-43ae-82fd-618d69413e66",
   "metadata": {},
   "outputs": [],
   "source": []
  }
 ],
 "metadata": {
  "kernelspec": {
   "display_name": "Python 3 (ipykernel)",
   "language": "python",
   "name": "python3"
  },
  "language_info": {
   "codemirror_mode": {
    "name": "ipython",
    "version": 3
   },
   "file_extension": ".py",
   "mimetype": "text/x-python",
   "name": "python",
   "nbconvert_exporter": "python",
   "pygments_lexer": "ipython3",
   "version": "3.11.9"
  }
 },
 "nbformat": 4,
 "nbformat_minor": 5
}
