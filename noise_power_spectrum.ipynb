{
 "cells": [
  {
   "cell_type": "code",
   "execution_count": 1,
   "id": "b7d7b8f6",
   "metadata": {},
   "outputs": [],
   "source": [
    "import numpy as np\n",
    "import matplotlib.pyplot as plt"
   ]
  },
  {
   "cell_type": "code",
   "execution_count": 2,
   "id": "5d7a0c8f",
   "metadata": {},
   "outputs": [],
   "source": [
    "def noise_pow(ω, ω_c, κ, r, g, Q, Δ, nc, nT):\n",
    "    \"\"\"\n",
    "    function for calculating the noise power spectrum per equation 2 in Kurt's paper\n",
    "    :param ω:      frequency offset from the cavity frequency\n",
    "    :param ω_c:    frequency of the cavity\n",
    "    :param κ:      output coupling rate of cavity\n",
    "    :param r:      effective cooling rate term\n",
    "    :param g:      collective interaction between spins and cavity\n",
    "    :param Q:      quality factor of cavity\n",
    "    :param Δ:      detuning\n",
    "    :param nc:     number of photons in the cold spin ensemble\n",
    "    :param nT:     number of photons in the thermal mode\n",
    "    :returns:      the noise power at ω\n",
    "    \"\"\"\n",
    "    a = nc - nT\n",
    "    num = κ * r * g ** 2\n",
    "    den_b = ((r ** 2 / 4) + ω ** 2) * ((κ + ω_c / Q) ** 2 / 4 + (ω - Δ) ** 2)\n",
    "    den_c = (r * (κ + ω_c / Q) / 2 - 2 * ω * (ω - Δ))\n",
    "\n",
    "    return nT + a * num / (den_b + g ** 2 * den_c + g ** 4)"
   ]
  },
  {
   "cell_type": "code",
   "execution_count": 3,
   "id": "f9505c0e",
   "metadata": {},
   "outputs": [],
   "source": [
    "# Define parameters - just use dummy ones for now\n",
    "κ = 5e6                                                                  # output coupling rate of the cavity\n",
    "r = np.linspace(0.1e6, 1e6, 1000)                           # effective cooling rate term\n",
    "g = r                                                                    # collective interaction rate b/w cavity and spins\n",
    "ω = np.linspace(0.1, 10, 100)                                            # RWA frequency in GHz\n",
    "ωc = 2.87 * 2 * np.pi * 1e9                                              # mode frequency in Hz\n",
    "Δ = 0                                                                   # cavity-spin detuning\n",
    "Q = np.linspace(0.1e5, 1e5, 1000)\n",
    "γ = ωc / Q                                                               # internal loss rate of cavity\n",
    "T = 300                                                                   # room temperature in K\n",
    "P = 0.8                                                                  # polarization of spin bath\n",
    "hbar_ov_k = 7.639e-12                                                    # units are s * K"
   ]
  },
  {
   "cell_type": "code",
   "execution_count": 4,
   "id": "9be31cba",
   "metadata": {},
   "outputs": [],
   "source": [
    "# Calculate room temperature number of photons\n",
    "nT = (np.exp(hbar_ov_k * ωc * 2 * np.pi / T) - 1) ** -1"
   ]
  },
  {
   "cell_type": "code",
   "execution_count": 5,
   "id": "a358ffd1",
   "metadata": {},
   "outputs": [],
   "source": [
    "# Calculate the cold spin bath photon number\n",
    "nc = 0.5 * (1 - P) / P"
   ]
  },
  {
   "cell_type": "code",
   "execution_count": 6,
   "id": "29556916-0f21-4028-99f8-0238139a17fe",
   "metadata": {},
   "outputs": [],
   "source": [
    "# Need to create mesh grid of g and q values\n",
    "Qm, gm = np.meshgrid(Q, g)"
   ]
  },
  {
   "cell_type": "code",
   "execution_count": 7,
   "id": "5380afc3",
   "metadata": {},
   "outputs": [],
   "source": [
    "# Calculate noise power spectrum\n",
    "NP = noise_pow(0, ωc, κ, gm, gm, Qm, Δ, nc, nT)"
   ]
  },
  {
   "cell_type": "code",
   "execution_count": 8,
   "id": "67c92edd-948b-4e80-a50f-d6153dc105e3",
   "metadata": {},
   "outputs": [
    {
     "data": {
      "text/plain": [
       "<matplotlib.colorbar.Colorbar at 0x715602a7c610>"
      ]
     },
     "execution_count": 8,
     "metadata": {},
     "output_type": "execute_result"
    },
    {
     "data": {
      "image/png": "[encoded data removed]",
      "text/plain": [
       "<Figure size 640x480 with 2 Axes>"
      ]
     },
     "metadata": {},
     "output_type": "display_data"
    }
   ],
   "source": [
    "plt.contourf(Qm, gm, NP / nT * T)\n",
    "plt.xticks([i * 1e4 for i in range(1, 11)], [f'{0.1*i:.1f}' for i in range(1, 11)])\n",
    "plt.xlabel(\"Q/$10^5$\")\n",
    "plt.ylabel(\"g/2$\\pi$\")\n",
    "plt.colorbar(label='T(K)')"
   ]
  },
  {
   "cell_type": "code",
   "execution_count": null,
   "id": "08222018-1033-4d52-adf0-561ffd20f9c4",
   "metadata": {},
   "outputs": [],
   "source": []
  }
 ],
 "metadata": {
  "kernelspec": {
   "display_name": "Python 3 (ipykernel)",
   "language": "python",
   "name": "python3"
  },
  "language_info": {
   "codemirror_mode": {
    "name": "ipython",
    "version": 3
   },
   "file_extension": ".py",
   "mimetype": "text/x-python",
   "name": "python",
   "nbconvert_exporter": "python",
   "pygments_lexer": "ipython3",
   "version": "3.11.9"
  }
 },
 "nbformat": 4,
 "nbformat_minor": 5
}
