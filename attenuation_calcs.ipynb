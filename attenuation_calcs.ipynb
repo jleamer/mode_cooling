{
 "cells": [
  {
   "cell_type": "markdown",
   "id": "0229c9ee-edb9-411b-ab72-f29a02834cfd",
   "metadata": {},
   "source": [
    "## Imports and Set up"
   ]
  },
  {
   "cell_type": "code",
   "execution_count": 1,
   "id": "e185684b-d03d-4526-b587-e92a48d3b8f9",
   "metadata": {},
   "outputs": [],
   "source": [
    "import numpy as np\n",
    "import matplotlib.pyplot as plt\n",
    "from matplotlib import ticker\n",
    "from scipy import integrate, signal\n",
    "import sympy"
   ]
  },
  {
   "cell_type": "code",
   "execution_count": 2,
   "id": "4ed3475f-9efc-49d4-a250-cd3e99c87945",
   "metadata": {},
   "outputs": [],
   "source": [
    "# Set font size of plot elements\\n\",\n",
    "SMALL_SIZE = 12\n",
    "MEDIUM_SIZE = 14\n",
    "BIGGER_SIZE = 18\n",
    "plt.rc('font', size=SMALL_SIZE)          # controls default text sizes\n",
    "plt.rc('axes', titlesize=SMALL_SIZE)     # fontsize of the axes title\n",
    "plt.rc('axes', labelsize=MEDIUM_SIZE)    # fontsize of the x and y labels\n",
    "plt.rc('xtick', labelsize=SMALL_SIZE)    # fontsize of the tick labels\n",
    "plt.rc('ytick', labelsize=SMALL_SIZE)    # fontsize of the tick labels\n",
    "plt.rc('legend', fontsize=SMALL_SIZE)    # legend fontsize\n",
    "plt.rc('figure', titlesize=BIGGER_SIZE)  # fontsize of the figure title"
   ]
  },
  {
   "cell_type": "markdown",
   "id": "d2ad7446-0f59-4eae-8e21-0a997b779fbd",
   "metadata": {},
   "source": [
    "## Functions"
   ]
  },
  {
   "cell_type": "code",
   "execution_count": 3,
   "id": "9fcb4823-5a7a-4887-9218-66fcc9ed4dc7",
   "metadata": {},
   "outputs": [],
   "source": [
    "def photons_from_temp(ω_c, temp):\n",
    "    hbar_ov_k = 7.639e-12\n",
    "    return (np.exp(hbar_ov_k * ω_c / temp) - 1) ** -1"
   ]
  },
  {
   "cell_type": "code",
   "execution_count": 4,
   "id": "0387f345-ee4d-4694-b865-7baf424bb0e1",
   "metadata": {},
   "outputs": [],
   "source": [
    "def temp_from_photons(ω_c, num_photons):\n",
    "    hbar_ov_k = 7.639e-12 \n",
    "    return hbar_ov_k * ω_c / np.log(1 / num_photons + 1)"
   ]
  },
  {
   "cell_type": "code",
   "execution_count": 5,
   "id": "7d023777-1888-4252-bcb7-b3e31b3b2d5c",
   "metadata": {},
   "outputs": [],
   "source": [
    "def get_photons_a_no_NV(ω_bounds, κ, γ, ϕ, na, ne, nb, β, Sϕ):\n",
    "    \"\"\"\n",
    "    function for calculating the number of phonts in output a (i.e. reflection) when the NV ensemble is not connected\n",
    "    :param ω_bounds:  the frequency bounds to use for integration\n",
    "    :param κ:         the output coupling rate on port a\n",
    "    :param γ:         the internal loss rate of the cavity\n",
    "    :param ϕ:         the output coupling rate on port e\n",
    "    :param na:        the number of photons associated with noise on the input port\n",
    "    :param ne:        the number of photons associated with the noise on the output port\n",
    "    :param nb:        the number of photons associated with the internal loss of the cavity\n",
    "    :param β:         the square root of the amplitude of the coherent input\n",
    "    :param Sϕ:        the phase noise power spectral density\n",
    "    :return:          the number of noise photons, signal photons, and total photons\n",
    "    \"\"\"\n",
    "    # Noise part first\n",
    "    den = np.abs((κ + γ + ϕ) / 2 - 1j * ω_bounds) ** 2\n",
    "    noise_term = (κ * γ * nb + κ * ϕ * ne + np.abs((κ - γ - ϕ) / 2 + 1j * ω_bounds) ** 2 * na) / den\n",
    "    noise_photons = integrate.simpson(noise_term, x=ω_bounds)\n",
    "\n",
    "    phase_noise_photons = integrate.simpson(np.abs((κ - γ - ϕ) / 2 + 1j * ω_bounds) ** 2  / den * Sϕ, x=ω_bounds)\n",
    "\n",
    "    noise_photons += phase_noise_photons\n",
    "\n",
    "    # Now signal term\n",
    "    signal_photons = np.abs((κ - γ - ϕ) / 2) ** 2  / np.abs((κ + γ + ϕ) / 2) ** 2 * np.abs(β) ** 2\n",
    "\n",
    "    return noise_photons, signal_photons, noise_photons + signal_photons"
   ]
  },
  {
   "cell_type": "code",
   "execution_count": 15,
   "id": "1eda5318-38d2-41e5-8f15-936a5e88afd8",
   "metadata": {},
   "outputs": [],
   "source": [
    "def get_photons_e_no_NV(ω_bounds, κ, γ, ϕ, na, ne, nb, β, Sϕ):\n",
    "    \"\"\"\n",
    "    function for calculating the number of phonts in output e (i.e. transmission) when the NV ensemble is not connected\n",
    "    :param ω_bounds:  the frequency bounds to use for integration\n",
    "    :param κ:         the output coupling rate on port a\n",
    "    :param γ:         the internal loss rate of the cavity\n",
    "    :param ϕ:         the output coupling rate on port e\n",
    "    :param na:        the number of thermal photons from the environment\n",
    "    :param ne:        the number of photons associated with the noise on the output port\n",
    "    :param nb:        the number of photons associated with the internal loss of the cavity\n",
    "    :param β:         the square root of the amplitude of the coherent input\n",
    "    :param Sϕ:        the phase noise power spectral density\n",
    "    :return:          the number of noise photons, signal photons, and total photons\n",
    "    \"\"\"\n",
    "    # Noise part first\n",
    "    den = np.abs((κ + γ + ϕ) / 2 - 1j * ω_bounds) ** 2\n",
    "    noise_term = (ϕ * κ * na + ϕ * γ * nb + np.abs((ϕ - κ - γ) / 2 + 1j * ω_bounds) ** 2 * ne) / den\n",
    "    noise_photons = integrate.simpson(noise_term, x=ω_bounds)\n",
    "\n",
    "    phase_noise_photons = integrate.simpson( ϕ * κ  / np.abs((κ + γ + ϕ) / 2 - 1j * ω_bounds) ** 2 * Sϕ, x=ω_bounds)\n",
    "\n",
    "    noise_photons += phase_noise_photons\n",
    "\n",
    "    # Now signal term\n",
    "    signal_photons = ϕ * κ  / np.abs((κ + γ + ϕ) / 2) ** 2 * np.abs(β) ** 2\n",
    "\n",
    "    return noise_photons, signal_photons, noise_photons + signal_photons"
   ]
  },
  {
   "cell_type": "code",
   "execution_count": 16,
   "id": "09a25bba-aa23-49d0-9c7f-3fb6f659228e",
   "metadata": {},
   "outputs": [],
   "source": [
    "def get_photons_a(ω_bounds, κ, γ, ϕ, g, r, na, ne, nb, nc, β, Sϕ):\n",
    "    \"\"\"\n",
    "    function for calculating the number of phonts in output a (i.e. reflection) when the NV ensemble is connected\n",
    "    :param ω_bounds:  the frequency bounds to use for integration\n",
    "    :param κ:         the output coupling rate on port a\n",
    "    :param γ:         the internal loss rate of the cavity\n",
    "    :param ϕ:         the output coupling rate on port e\n",
    "    :param g:         the collective coupling strength between the cavity and the ensemble\n",
    "    :param r:         the inhomogenous broadening of the spins\n",
    "    :param na:        the number of thermal photons from the environment\n",
    "    :param ne:        the number of photons associated with the noise on the output port\n",
    "    :param nb:        the number of photons associated with the internal loss of the cavity\n",
    "    :param nc:        the effective number of photons from the cold spin ensemble\n",
    "    :param β:         the square root of the amplitude of the coherent input\n",
    "    :param Sϕ:        the phase noise power spectral density\n",
    "    :return:          the number of noise photons, signal photons, and total photons\n",
    "    \"\"\"\n",
    "    # To do the integration, we have to separate out the β term\n",
    "    β_term = np.abs(((κ - γ - ϕ) / 2) * (r / 2) - g ** 2) ** 2 / np.abs(((κ + γ + ϕ) / 2) * (r / 2) + g ** 2) ** 2 * np.abs(β) ** 2\n",
    "    \n",
    "    # Now set up the rest\n",
    "    num = (r ** 2 / 4 + ω_bounds ** 2) * (κ * γ * nb + κ * ϕ * ne) + κ * r * g ** 2 * nc\n",
    "    num += np.abs(((κ - γ - ϕ) / 2 + 1j * ω_bounds) * (r / 2 - 1j * ω_bounds) - g ** 2) ** 2 * na\n",
    "\n",
    "    den = np.abs(((κ + γ + ϕ) / 2 - 1j * ω_bounds) * (r / 2 - 1j * ω_bounds) + g ** 2) ** 2\n",
    "\n",
    "    noise_term = integrate.simpson(num / den, x=ω_bounds) \n",
    "    noise_term += integrate.simpson(np.abs(((κ - γ - ϕ) / 2 + 1j * ω_bounds) * (r / 2 - 1j * ω_bounds) - g ** 2) ** 2 / den * Sϕ, x=ω_bounds)\n",
    "\n",
    "    return noise_term, β_term, noise_term + β_term"
   ]
  },
  {
   "cell_type": "code",
   "execution_count": 8,
   "id": "d3ecdc0d-11fa-47d2-878b-2046e0520043",
   "metadata": {},
   "outputs": [],
   "source": [
    "def get_photons_e(ω_bounds, κ, γ, ϕ, g, r, na, ne, nb, nc, β, Sϕ):\n",
    "    \"\"\"\n",
    "    function for calculating the number of phonts in output a (i.e. reflection) when the NV ensemble is connected\n",
    "    :param ω_bounds:  the frequency bounds to use for integration\n",
    "    :param κ:         the output coupling rate on port a\n",
    "    :param γ:         the internal loss rate of the cavity\n",
    "    :param ϕ:         the output coupling rate on port e\n",
    "    :param g:         the collective coupling strength between the cavity and the ensemble\n",
    "    :param r:         the inhomogenous broadening of the spins\n",
    "    :param na:        the number of thermal photons from the environment\n",
    "    :param ne:        the number of photons associated with the noise on the output port\n",
    "    :param nb:        the number of photons associated with the internal loss of the cavity\n",
    "    :param nc:        the effective number of photons from the cold spin ensemble\n",
    "    :param β:         the square root of the amplitude of the coherent input\n",
    "    :param Sϕ:        the phase noise power spectral density\n",
    "    :return:          the number of noise photons, signal photons, and total photons\n",
    "    \"\"\"\n",
    "    # To do the integration, we need to separate out the β term\n",
    "    β_term = (r ** 2 / 4) * ϕ * κ / np.abs(((κ + γ + ϕ) / 2) * (r / 2) + g ** 2) ** 2 * np.abs(β) ** 2\n",
    "\n",
    "    # Now do the rest\n",
    "    num = (r ** 2 / 4 + ω_bounds ** 2) * (ϕ * κ * na + ϕ * γ * nb) + ϕ * r * g ** 2 * nc\n",
    "    num += np.abs(((ϕ - κ - γ) / 2 + 1j * ω_bounds) * (r / 2 - 1j * ω_bounds) - g ** 2) ** 2 * ne\n",
    "    den = np.abs(((κ + γ + ϕ) / 2 - 1j * ω_bounds) * (r / 2 - 1j * ω_bounds) + g ** 2) ** 2\n",
    "\n",
    "    noise_term = integrate.simpson(num / den, x=ω_bounds) \n",
    "    noise_term += integrate.simpson((r ** 2 / 4 + ω_bounds ** 2) * ϕ * κ / den * Sϕ, x=ω_bounds)\n",
    "    \n",
    "    return noise_term, β_term, noise_term + β_term"
   ]
  },
  {
   "cell_type": "code",
   "execution_count": 19,
   "id": "25628157-07ca-41ce-88b8-c0a2ccba3ada",
   "metadata": {},
   "outputs": [],
   "source": [
    "def get_spectrum_e_no_NV(ω_bounds, κ, γ, ϕ, na, ne, nb):\n",
    "    den = np.abs((κ + γ + ϕ) / 2 - 1j * ω_bounds) ** 2\n",
    "    num = (ϕ * κ * na + ϕ * γ * nb + np.abs((ϕ - κ - γ) / 2 + 1j * ω_bounds) ** 2 * ne)\n",
    "    return num / den"
   ]
  },
  {
   "cell_type": "code",
   "execution_count": 20,
   "id": "3a335c64-f893-4773-b60d-fb5fd47696c4",
   "metadata": {},
   "outputs": [],
   "source": [
    "def get_spectrum_e(ω_bounds, κ, γ, ϕ, g, r, na, ne, nb, nc):\n",
    "    num = (r ** 2 / 4 + ω_bounds ** 2) * (ϕ * κ * na + ϕ * γ * nb) + ϕ * r * g ** 2 * nc\n",
    "    num += np.abs(((ϕ - κ - γ) / 2 + 1j * ω_bounds) * (r / 2 - 1j * ω_bounds) - g ** 2) ** 2 * ne\n",
    "    den = np.abs(((κ + γ + ϕ) / 2 - 1j * ω_bounds) * (r / 2 - 1j * ω_bounds) + g ** 2) ** 2\n",
    "    return num / den"
   ]
  },
  {
   "cell_type": "markdown",
   "id": "f8b88818-1782-48af-9786-d857f80b1a22",
   "metadata": {},
   "source": [
    "## Calculations"
   ]
  },
  {
   "cell_type": "code",
   "execution_count": 9,
   "id": "b6caead9-33b6-4d21-9ddc-0ae4320e9aee",
   "metadata": {},
   "outputs": [],
   "source": [
    "# Define parameters\n",
    "ωc = 2.87 * 2 * np.pi * 1e9\n",
    "g = 1e6\n",
    "r = 2 * g\n",
    "Q = 1e6\n",
    "γ = ωc / Q\n",
    "κ = γ\n",
    "P = 0.8\n",
    "nc = 0.5 * (1 - P) / P\n",
    "T = 5\n",
    "nT = photons_from_temp(ωc, T)\n",
    "ϕ = γ\n",
    "β = np.sqrt(1e10)\n",
    "\n",
    "# Set the power spectral density for the phase noise to a constant - we'll use nT for now\n",
    "ω_bounds = np.linspace(-γ, γ, 1000)\n",
    "Sϕ = nT * np.ones(ω_bounds.shape[0])"
   ]
  },
  {
   "cell_type": "code",
   "execution_count": 38,
   "id": "375d8cf5-9c90-44ac-bab8-7273af6ba7dd",
   "metadata": {},
   "outputs": [],
   "source": [
    "# Calculate the output signal and noise in terms of photons for the two cases - we're setting na, ne = 0 here\n",
    "output_noise_no_NV, output_signal_no_NV, temp = get_photons_e_no_NV(ω_bounds, κ, γ, ϕ, 0, 0, nT, β, 0)\n",
    "output_noise, output_signal, temp = get_photons_e(ω_bounds, κ, γ, ϕ, g, r, 0, 0, nT, nc, β, 0)"
   ]
  },
  {
   "cell_type": "code",
   "execution_count": 39,
   "id": "fbc220b8-7e0a-498b-82b0-86bea8575eb6",
   "metadata": {},
   "outputs": [
    {
     "name": "stdout",
     "output_type": "stream",
     "text": [
      "Noise Outputs\n",
      "Output noise No NV:  57298.41058417837\n",
      "Output noise:  55.21626706435202\n",
      "\n",
      "Signal Outputs\n",
      "Output signal No NV:  4444444444.444445\n",
      "Output signal:  3082769.8772317646\n",
      "\n",
      "SNR\n",
      "No NV SNR:  48.89674906764085\n",
      "NV SNR:  47.46874064195795\n"
     ]
    }
   ],
   "source": [
    "print(\"Noise Outputs\")\n",
    "print(\"Output noise No NV: \", output_noise_no_NV)\n",
    "print(\"Output noise: \", output_noise)\n",
    "print(\"\")\n",
    "print(\"Signal Outputs\")\n",
    "print(\"Output signal No NV: \", output_signal_no_NV)\n",
    "print(\"Output signal: \", output_signal)\n",
    "print(\"\")\n",
    "print(\"SNR\")\n",
    "print(\"No NV SNR: \", 10*np.log10(output_signal_no_NV / output_noise_no_NV))\n",
    "print(\"NV SNR: \", 10*np.log10(output_signal / output_noise))"
   ]
  },
  {
   "cell_type": "code",
   "execution_count": 42,
   "id": "cf0112c4-3368-4ba7-830b-cddf749ac729",
   "metadata": {},
   "outputs": [],
   "source": [
    "# Get the spectra to compare\n",
    "no_NV_spectrum = get_spectrum_e_no_NV(0.1*ω_bounds, κ, γ, ϕ, 0, 0, nT)\n",
    "NV_spectrum = get_spectrum_e(0.1*ω_bounds, κ, γ, ϕ, g, r, 0, 0, nT, nc)"
   ]
  },
  {
   "cell_type": "code",
   "execution_count": 43,
   "id": "ee359441-b3e3-4132-b7e9-3f7245e9d150",
   "metadata": {},
   "outputs": [
    {
     "data": {
      "text/plain": [
       "<matplotlib.legend.Legend at 0x72555f867b10>"
      ]
     },
     "execution_count": 43,
     "metadata": {},
     "output_type": "execute_result"
    },
    {
     "data": {
      "image/png": "[encoded data removed]",
      "text/plain": [
       "<Figure size 640x480 with 1 Axes>"
      ]
     },
     "metadata": {},
     "output_type": "display_data"
    }
   ],
   "source": [
    "plt.semilogy(0.1*ω_bounds / 1e0, no_NV_spectrum, label='No NV')\n",
    "plt.semilogy(0.1*ω_bounds / 1e0, NV_spectrum, label='NV')\n",
    "plt.xlabel(\"$\\\\omega$ (MHz)\")\n",
    "plt.ylabel(\"$S(\\\\omega)$\")\n",
    "plt.legend()"
   ]
  },
  {
   "cell_type": "code",
   "execution_count": null,
   "id": "e4384269-151e-486d-8900-1acb374d29c5",
   "metadata": {},
   "outputs": [],
   "source": []
  }
 ],
 "metadata": {
  "kernelspec": {
   "display_name": "Python 3 (ipykernel)",
   "language": "python",
   "name": "python3"
  },
  "language_info": {
   "codemirror_mode": {
    "name": "ipython",
    "version": 3
   },
   "file_extension": ".py",
   "mimetype": "text/x-python",
   "name": "python",
   "nbconvert_exporter": "python",
   "pygments_lexer": "ipython3",
   "version": "3.11.10"
  }
 },
 "nbformat": 4,
 "nbformat_minor": 5
}
