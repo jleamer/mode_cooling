{
 "cells": [
  {
   "cell_type": "code",
   "execution_count": 1,
   "id": "8702fe78-4bba-487d-8e01-c7cc0a56e2c0",
   "metadata": {},
   "outputs": [],
   "source": [
    "import sympy as sym\n",
    "import numpy as np\n",
    "import time\n",
    "import matplotlib.pyplot as plt\n",
    "import itertools as it"
   ]
  },
  {
   "cell_type": "code",
   "execution_count": 2,
   "id": "46fd3345-4446-4303-be1b-69db2449af45",
   "metadata": {},
   "outputs": [],
   "source": [
    "# Set font size of plot elements\\n\",\n",
    "SMALL_SIZE = 12\n",
    "MEDIUM_SIZE = 14\n",
    "BIGGER_SIZE = 18\n",
    "plt.rc('font', size=SMALL_SIZE)          # controls default text sizes\n",
    "plt.rc('axes', titlesize=SMALL_SIZE)     # fontsize of the axes title\n",
    "plt.rc('axes', labelsize=MEDIUM_SIZE)    # fontsize of the x and y labels\n",
    "plt.rc('xtick', labelsize=SMALL_SIZE)    # fontsize of the tick labels\n",
    "plt.rc('ytick', labelsize=SMALL_SIZE)    # fontsize of the tick labels\n",
    "plt.rc('legend', fontsize=SMALL_SIZE)    # legend fontsize\n",
    "plt.rc('figure', titlesize=BIGGER_SIZE)  # fontsize of the figure title"
   ]
  },
  {
   "cell_type": "markdown",
   "id": "0ec2458e-8614-423c-8c9e-54e9684e6397",
   "metadata": {},
   "source": [
    "## Functions"
   ]
  },
  {
   "cell_type": "code",
   "execution_count": 3,
   "id": "bcad0ba6-34a6-41b3-ac0a-9798e0a33662",
   "metadata": {},
   "outputs": [],
   "source": [
    "def generate_symbols(base, indices):\n",
    "    \"\"\"\n",
    "    Function for generating symbols to be used in expressions\n",
    "    :param base:    the string to use as the base of the symbol\n",
    "    :param indices: a list of indices to append to the base\n",
    "    :return:        the list of symbols\n",
    "    \"\"\"\n",
    "    syms = [sym.symbols(base + \"_\" + str(indices[i])) for i in range(len(indices))]\n",
    "    return syms"
   ]
  },
  {
   "cell_type": "code",
   "execution_count": 4,
   "id": "822cdb7f-aad1-4ac5-86db-17102e7c95df",
   "metadata": {},
   "outputs": [],
   "source": [
    "def generate_H(dim, freq_symbols, rabi_symbols):\n",
    "    \"\"\"\n",
    "    Function for generating the Hamiltonian matrix from lists of symbols\n",
    "    :param dim:            the number of rows/cols the matrix should have\n",
    "    :param freq_symbols:   the list of frequency symbols i.e. the diagonal elements\n",
    "    :param rabi_symbols:   the list of rabi symbols i.e. the off-diagonal elements\n",
    "    :return:               the Hamiltonian matrix\n",
    "    \"\"\"\n",
    "    # Define the basis vectors\n",
    "    basis = [sym.Array(np.eye(dim))[i] for i in range(dim)]\n",
    "\n",
    "    # Create the blank Hamiltonian\n",
    "    H = sym.Matrix([[0 for i in range(dim)] for j in range(dim)])\n",
    "\n",
    "    # Add the diagonal elements\n",
    "    for i in range(dim):\n",
    "        H += freq_symbols[i] * sym.tensorproduct(basis[i], basis[i]).reshape(dim, dim).tomatrix()\n",
    "\n",
    "    # Add the off-diagonal elements\n",
    "    for i in range(dim - 1):\n",
    "        H += rabi_symbols[0][i] * sym.tensorproduct(basis[i], basis[i+1]).reshape(dim, dim).tomatrix()\n",
    "        H += rabi_symbols[1][i] * sym.tensorproduct(basis[i+1], basis[i]).reshape(dim, dim).tomatrix()\n",
    "\n",
    "    return H\n",
    "    "
   ]
  },
  {
   "cell_type": "code",
   "execution_count": 5,
   "id": "68a34649-5315-4ca3-87ce-4c2c45c00abb",
   "metadata": {},
   "outputs": [],
   "source": [
    "def generate_ρ(dim):\n",
    "    \"\"\"\n",
    "    Function for generating the density matrix\n",
    "    :param dim:  the number of rows/cols the matrix should have\n",
    "    \"\"\"\n",
    "    # Define the basis vectors\n",
    "    basis = [sym.Array(np.eye(dim))[i] for i in range(dim)]\n",
    "\n",
    "    # Define the symbols\n",
    "    ρ_syms = [[sym.symbols(\"ρ_\" + str(i+1) + \"_\" + str(j+1)) for j in range(dim)] for i in range(dim)]\n",
    "\n",
    "    # Set the trace preserving condition\n",
    "    ρ_syms[dim-1][dim-1] = 1 - np.sum([ρ_syms[i][i] for i in range(dim-1)])\n",
    "\n",
    "    # Define the shape of the density matrix\n",
    "    ρ = sym.Matrix([[0 for i in range(dim)] for j in range(dim)])\n",
    "\n",
    "    # Fill in\n",
    "    for i in range(dim):\n",
    "        for j in range(dim):\n",
    "            ρ += ρ_syms[i][j] * sym.tensorproduct(basis[i], basis[j]).reshape(dim, dim).tomatrix()\n",
    "\n",
    "    return ρ"
   ]
  },
  {
   "cell_type": "code",
   "execution_count": 6,
   "id": "7824645b-9716-4ac9-88b5-73182f64fd12",
   "metadata": {},
   "outputs": [],
   "source": [
    "def generate_jump_ops(dim):\n",
    "    \"\"\"\n",
    "    Function for generating the jump operators\n",
    "    \"\"\"\n",
    "    # Define the basis vectors\n",
    "    basis = [sym.Array(np.eye(dim))[i] for i in range(dim)]\n",
    "\n",
    "    # Define the jump operators\n",
    "    σ = []\n",
    "    for i in range(dim-1):\n",
    "        σ.append(sym.tensorproduct(basis[i], basis[i+1]).reshape(dim, dim).tomatrix())\n",
    "\n",
    "    return σ"
   ]
  },
  {
   "cell_type": "code",
   "execution_count": 7,
   "id": "3eb6016c-1807-498b-8f12-5d189ec97763",
   "metadata": {},
   "outputs": [],
   "source": [
    "def generate_Liouvillian(ρ, H, jump_ops, γs):\n",
    "    \"\"\"\n",
    "    Function for generating the Liouvillian i.e. the rhs of the Lindblad master equation\n",
    "    :param ρ:         the density matrix\n",
    "    :param H:         the system Hamiltonian\n",
    "    :param jump_ops:  the transition operators of the system\n",
    "    :param γs:        the decay rates associated with the jump operators\n",
    "    :return:          the Liouvillian\n",
    "    \"\"\"\n",
    "    # Calculate the commutator first\n",
    "    comm = H @ ρ - ρ @ H\n",
    "\n",
    "    # Now calculate the Lindbladian term\n",
    "    lindblad_term = sym.Matrix([[0 for i in range(ρ.shape[0])] for j in range(ρ.shape[0])])\n",
    "    for i in range(len(jump_ops)):\n",
    "        lindblad_term += γs[i] * jump_ops[i] @ ρ @ jump_ops[i].H\n",
    "        lindblad_term -= γs[i] / 2 * (jump_ops[i].H @ jump_ops[i] @ ρ + ρ @ jump_ops[i].H @ jump_ops[i])\n",
    "\n",
    "    return -1j * comm + lindblad_term"
   ]
  },
  {
   "cell_type": "code",
   "execution_count": 8,
   "id": "7b020b12-9f49-425d-85fe-798f67e37ae7",
   "metadata": {},
   "outputs": [],
   "source": [
    "def generate_vector_Liouvillian(H, jump_ops, γs):\n",
    "    \"\"\"\n",
    "    Function for generating the vectorized version of the Liouvillian to be applied to the density matrix\n",
    "    \"\"\"\n",
    "    # Define the identity matrix for ease of use\n",
    "    id = sym.eye(H.shape[0])\n",
    "\n",
    "    # First do the commutator part\n",
    "    comm = sym.tensorproduct(H, id) - sym.tensorproduct(id, H.T)\n",
    "\n",
    "    # Now do the lindblad part\n",
    "    lindblad_term = sym.Array([[[[0 for i in range(H.shape[0])] for j in range(H.shape[0])]\n",
    "                                for k in range(H.shape[0])] for l in range(H.shape[0])])\n",
    "    for i in range(len(jump_ops)):\n",
    "        lindblad_term += γs[i] * sym.tensorproduct(jump_ops[i], jump_ops[i].conjugate())\n",
    "        lindblad_term -= γs[i] / 2 * sym.tensorproduct(jump_ops[i].H @ jump_ops[i], id)\n",
    "        lindblad_term -= γs[i] / 2 * sym.tensorproduct(id, (jump_ops[i].H @ jump_ops[i]).T)\n",
    "\n",
    "    # Combine\n",
    "    L = -1j * comm + lindblad_term\n",
    "    \n",
    "    # Using reshape to get this to a 4x4 doesn't work like we want, so we have to do this manually\n",
    "    # First, permute the first two axes\n",
    "    L = sym.permutedims(L, (1, 0, 2, 3))\n",
    "\n",
    "    # Then loop over the 4 sets of dimensions to get things in the right order\n",
    "    L_matrix = []\n",
    "    for i in range(H.shape[0]):\n",
    "        for j in range(H.shape[0]):\n",
    "            temp = []\n",
    "            for k in range(H.shape[0]):\n",
    "                for l in range(H.shape[0]):\n",
    "                    temp.append(L[k][i][j][l])\n",
    "            L_matrix.append(temp)\n",
    "    L_matrix = sym.Matrix(L_matrix)\n",
    "\n",
    "    return L_matrix"
   ]
  },
  {
   "cell_type": "markdown",
   "id": "cf1347ea-8753-446b-8e09-f4f5e8f49a1d",
   "metadata": {},
   "source": [
    "## 2 Level Case\n",
    "We want to start with sysem with levels $|1\\rangle$ and $|2\\rangle$ to confirm that sympy is able to symbolically calculate the bloch equations.  We'll consider that we have a laser with frequency $\\omega_L$ interacting with the atom and that the frequency associated with the transition is $\\omega_{21} = \\omega_2 - \\omega_1$."
   ]
  },
  {
   "cell_type": "code",
   "execution_count": 9,
   "id": "d34067f0-a3f0-4eb7-9233-4e27c834b5e1",
   "metadata": {},
   "outputs": [],
   "source": [
    "# Define the dimensionality here\n",
    "dim = 2"
   ]
  },
  {
   "cell_type": "code",
   "execution_count": 21,
   "id": "d7840300-2982-4580-bd97-8b233ebad9bc",
   "metadata": {},
   "outputs": [],
   "source": [
    "# Define the symbols we need\n",
    "freq_syms = generate_symbols(\"ω\", [i+1 for i in range(dim)])\n",
    "rabi_syms = [generate_symbols(\"Ω\", [str(i+1) + \"_\" + str(i+2) for i in range(dim-1)]),\n",
    "             generate_symbols(\"Ω\", [str(i+2) + \"_\" + str(i+1) for i in range(dim-1)])]"
   ]
  },
  {
   "cell_type": "code",
   "execution_count": 11,
   "id": "52c01b64-c3e9-44b7-8f97-be1fedc1baa9",
   "metadata": {},
   "outputs": [],
   "source": [
    "# Define the Hamiltonian under the RWA and with zero detuning between the laser and transition\n",
    "H = generate_H(dim, freq_syms, rabi_syms)\n",
    "\n",
    "# Define the density matrix\n",
    "ρ = generate_ρ(dim)"
   ]
  },
  {
   "cell_type": "code",
   "execution_count": 12,
   "id": "af280b8e-619a-43be-8bb6-74468881babd",
   "metadata": {},
   "outputs": [],
   "source": [
    "# Define damping rate\n",
    "γ12 = sym.symbols(\"γ_1_2\")\n",
    "\n",
    "# Define jump operator\n",
    "σ12 = generate_jump_ops(dim)[0]"
   ]
  },
  {
   "cell_type": "code",
   "execution_count": 13,
   "id": "5cd5d357-d4cd-47e9-a826-841eb3eb62d9",
   "metadata": {},
   "outputs": [
    {
     "data": {
      "text/latex": [
       "$\\displaystyle \\left[\\begin{matrix}1.0 γ_{1 2} \\left(1.0 - 1.0 ρ_{1 1}\\right) - 1.0 i \\left(1.0 Ω_{1 2} ρ_{2 1} - 1.0 Ω_{2 1} ρ_{1 2}\\right) & - 0.5 γ_{1 2} ρ_{1 2} - 1.0 i \\left(- 1.0 Ω_{1 2} ρ_{1 1} + 1.0 Ω_{1 2} \\left(1.0 - 1.0 ρ_{1 1}\\right) + 1.0 ρ_{1 2} ω_{1} - 1.0 ρ_{1 2} ω_{2}\\right)\\\\- 0.5 γ_{1 2} ρ_{2 1} - 1.0 i \\left(1.0 Ω_{2 1} ρ_{1 1} - 1.0 Ω_{2 1} \\left(1.0 - 1.0 ρ_{1 1}\\right) - 1.0 ρ_{2 1} ω_{1} + 1.0 ρ_{2 1} ω_{2}\\right) & - \\frac{γ_{1 2} \\left(2.0 - 2.0 ρ_{1 1}\\right)}{2} - 1.0 i \\left(- 1.0 Ω_{1 2} ρ_{2 1} + 1.0 Ω_{2 1} ρ_{1 2}\\right)\\end{matrix}\\right]$"
      ],
      "text/plain": [
       "Matrix([\n",
       "[                                 1.0*γ_1_2*(1.0 - 1.0*ρ_1_1) - 1.0*I*(1.0*Ω_1_2*ρ_2_1 - 1.0*Ω_2_1*ρ_1_2), -0.5*γ_1_2*ρ_1_2 - 1.0*I*(-1.0*Ω_1_2*ρ_1_1 + 1.0*Ω_1_2*(1.0 - 1.0*ρ_1_1) + 1.0*ρ_1_2*ω_1 - 1.0*ρ_1_2*ω_2)],\n",
       "[-0.5*γ_1_2*ρ_2_1 - 1.0*I*(1.0*Ω_2_1*ρ_1_1 - 1.0*Ω_2_1*(1.0 - 1.0*ρ_1_1) - 1.0*ρ_2_1*ω_1 + 1.0*ρ_2_1*ω_2),                                   -γ_1_2*(2.0 - 2.0*ρ_1_1)/2 - 1.0*I*(-1.0*Ω_1_2*ρ_2_1 + 1.0*Ω_2_1*ρ_1_2)]])"
      ]
     },
     "execution_count": 13,
     "metadata": {},
     "output_type": "execute_result"
    }
   ],
   "source": [
    "# Get the master equation\n",
    "dρ = generate_Liouvillian(ρ, H, [σ12], [γ12])\n",
    "dρ"
   ]
  },
  {
   "cell_type": "markdown",
   "id": "1b14f984-14d0-4f4c-9fa6-34885d3f800e",
   "metadata": {},
   "source": [
    "We want to try working with the vectorized master equation to see if we can obtain the steady state solution numerically."
   ]
  },
  {
   "cell_type": "code",
   "execution_count": 17,
   "id": "4cb5ee9d-140f-4b3a-ae92-64dc42441733",
   "metadata": {},
   "outputs": [
    {
     "data": {
      "text/latex": [
       "$\\displaystyle \\left[\\begin{matrix}0 & 1.0 i Ω_{2 1} & - 1.0 i Ω_{1 2} & 1.0 γ_{1 2}\\\\1.0 i Ω_{1 2} & - 0.5 γ_{1 2} - 1.0 i \\left(1.0 ω_{1} - 1.0 ω_{2}\\right) & 0 & - 1.0 i Ω_{1 2}\\\\- 1.0 i Ω_{2 1} & 0 & - 0.5 γ_{1 2} - 1.0 i \\left(- 1.0 ω_{1} + 1.0 ω_{2}\\right) & 1.0 i Ω_{2 1}\\\\0 & - 1.0 i Ω_{2 1} & 1.0 i Ω_{1 2} & - 1.0 γ_{1 2}\\end{matrix}\\right]$"
      ],
      "text/plain": [
       "Matrix([\n",
       "[           0,                            1.0*I*Ω_2_1,                            -1.0*I*Ω_1_2,    1.0*γ_1_2],\n",
       "[ 1.0*I*Ω_1_2, -0.5*γ_1_2 - 1.0*I*(1.0*ω_1 - 1.0*ω_2),                                       0, -1.0*I*Ω_1_2],\n",
       "[-1.0*I*Ω_2_1,                                      0, -0.5*γ_1_2 - 1.0*I*(-1.0*ω_1 + 1.0*ω_2),  1.0*I*Ω_2_1],\n",
       "[           0,                           -1.0*I*Ω_2_1,                             1.0*I*Ω_1_2,   -1.0*γ_1_2]])"
      ]
     },
     "execution_count": 17,
     "metadata": {},
     "output_type": "execute_result"
    }
   ],
   "source": [
    "# Get the vectorized Liouvillian operator\n",
    "vec_L = generate_vector_Liouvillian(H, [σ12], [γ12])\n",
    "vec_L"
   ]
  },
  {
   "cell_type": "code",
   "execution_count": 15,
   "id": "15ce850e-29b4-41c8-9f87-7ce40b9db918",
   "metadata": {},
   "outputs": [
    {
     "data": {
      "text/latex": [
       "$\\displaystyle \\left[\\begin{matrix}0\\\\0\\\\0\\\\0\\end{matrix}\\right]$"
      ],
      "text/plain": [
       "Matrix([\n",
       "[0],\n",
       "[0],\n",
       "[0],\n",
       "[0]])"
      ]
     },
     "execution_count": 15,
     "metadata": {},
     "output_type": "execute_result"
    }
   ],
   "source": [
    "# Check that the vectorized Liouvillian applied to the vectorized density matrix gives the same thing\n",
    "dρ_vec = vec_L @ ρ.reshape(4, 1)\n",
    "sym.simplify(dρ_vec - dρ.reshape(4, 1))"
   ]
  },
  {
   "cell_type": "code",
   "execution_count": 24,
   "id": "b72b7297-1767-4534-9816-41d71ffe29ba",
   "metadata": {},
   "outputs": [
    {
     "data": {
      "text/plain": [
       "EigResult(eigenvalues=array([-1.00317840e+00-5.01596818e+01j, -1.00317840e+00+5.01596818e+01j,\n",
       "       -3.41646459e-15+1.48322006e-19j, -1.99364319e+00-2.15877561e-17j]), eigenvectors=array([[ 0.0398569 -7.93335949e-04j,  0.0398569 +7.93335949e-04j,\n",
       "         0.99840828+0.00000000e+00j,  0.70485573+0.00000000e+00j],\n",
       "       [-0.00159174+3.16323351e-05j,  0.99840826+0.00000000e+00j,\n",
       "        -0.03985662+7.97132357e-04j, -0.0563662 -1.12015777e-03j],\n",
       "       [ 0.99840826+0.00000000e+00j, -0.00159174-3.16323351e-05j,\n",
       "        -0.03985662-7.97132357e-04j, -0.0563662 +1.12015777e-03j],\n",
       "       [-0.0398569 +7.93335949e-04j, -0.0398569 -7.93335949e-04j,\n",
       "         0.00159426+1.08472194e-17j, -0.70485573+7.66644809e-20j]]))"
      ]
     },
     "execution_count": 24,
     "metadata": {},
     "output_type": "execute_result"
    }
   ],
   "source": [
    "# Now diagonalize the vectorized Liouvillian to find the 0 eigenvalue and the eigenvector corresponding to the steady state\n",
    "vec_L_fun = sym.lambdify(freq_syms + rabi_syms[0] + rabi_syms[1] + [γ12], vec_L)\n",
    "\n",
    "vec_L_val = vec_L_fun(50, 100, 2, 2, 2)\n",
    "eigs = np.linalg.eig(vec_L_val)\n",
    "eigs"
   ]
  },
  {
   "cell_type": "code",
   "execution_count": 26,
   "id": "79962ccf-9d59-4d3b-b6f7-9cfb5a639859",
   "metadata": {},
   "outputs": [
    {
     "data": {
      "text/plain": [
       "((-3.416464590201822e-15+1.483220062922092e-19j),\n",
       " array([ 0.99840828+0.00000000e+00j, -0.03985662+7.97132357e-04j,\n",
       "        -0.03985662-7.97132357e-04j,  0.00159426+1.08472194e-17j]))"
      ]
     },
     "execution_count": 26,
     "metadata": {},
     "output_type": "execute_result"
    }
   ],
   "source": [
    "# Looks like the third eigenvalue is basically 0\n",
    "eigs[0][2], eigs[1][:, 2]"
   ]
  },
  {
   "cell_type": "code",
   "execution_count": 27,
   "id": "84ac8331-8df5-4cb0-8a8d-9fd2433fa700",
   "metadata": {},
   "outputs": [
    {
     "data": {
      "text/plain": [
       "array([ 3.64725611e-16+1.52655666e-16j,  2.33928500e-15+3.77475828e-15j,\n",
       "        6.70209375e-15-5.67254577e-16j, -3.64725611e-16-1.52655666e-16j])"
      ]
     },
     "execution_count": 27,
     "metadata": {},
     "output_type": "execute_result"
    }
   ],
   "source": [
    "# Confirm that applying the Liouvillian to this eigenvalue basically gives back 0\n",
    "vec_L_val @ eigs[1][:, 2] "
   ]
  },
  {
   "cell_type": "markdown",
   "id": "788df5d9-7144-4a28-b322-b0bf0b51e907",
   "metadata": {},
   "source": [
    "## 3 Level Case\n",
    "Now we'll move on to considering a 3 level system in the same fashion.  In this case, the atom has levels $|1\\rangle, |2\\rangle, |3\\rangle$ with frequencies $\\omega_1, \\omega_2, \\omega_3$ respectively.  We consider having two lasers.  One laser incoherently drives the $|1\\rangle$ and $|2\\rangle$ transition with frequency $\\omega_{L1}$ and the other incoherently drives the $|2\\rangle$ and $|3\\rangle$ transition with frequency $\\omega_{L2}$."
   ]
  },
  {
   "cell_type": "code",
   "execution_count": 28,
   "id": "6a1ecef0-27e1-4db6-ae47-72a613565dd9",
   "metadata": {},
   "outputs": [],
   "source": [
    "# Define the dimensionality\n",
    "dim = 3"
   ]
  },
  {
   "cell_type": "code",
   "execution_count": 29,
   "id": "60fa70cfad2e6bc9",
   "metadata": {},
   "outputs": [],
   "source": [
    "# Define the symbols we need\n",
    "freq_syms = generate_symbols(\"ω\", [i+1 for i in range(dim)])\n",
    "rabi_syms = [generate_symbols(\"Ω\", [str(i+1) + \"_\" + str(i+2) for i in range(dim-1)]),\n",
    "             generate_symbols(\"Ω\", [str(i+2) + \"_\" + str(i+1) for i in range(dim-1)])]"
   ]
  },
  {
   "cell_type": "code",
   "execution_count": 31,
   "id": "8010067e5cbd8119",
   "metadata": {},
   "outputs": [],
   "source": [
    "# Define the Hamiltonian under the RWA and with zero detuning between the laser and transition\n",
    "H = generate_H(dim, freq_syms, rabi_syms)\n",
    "\n",
    "# Define the density matrix\n",
    "ρ = generate_ρ(dim)"
   ]
  },
  {
   "cell_type": "code",
   "execution_count": 36,
   "id": "eeb56c6ce1ccf292",
   "metadata": {},
   "outputs": [],
   "source": [
    "# Define damping rate\n",
    "γ12, γ23 = sym.symbols(\"γ_1_2, γ_2_3\")\n",
    "\n",
    "# Define jump operator\n",
    "σ = generate_jump_ops(dim)"
   ]
  },
  {
   "cell_type": "code",
   "execution_count": 37,
   "id": "e5c36cc5f71b3ba4",
   "metadata": {},
   "outputs": [
    {
     "data": {
      "text/latex": [
       "$\\displaystyle \\left[\\begin{matrix}1.0 γ_{1 2} ρ_{2 2} - 1.0 i \\left(1.0 Ω_{1 2} ρ_{2 1} - 1.0 Ω_{2 1} ρ_{1 2}\\right) & - 0.5 γ_{1 2} ρ_{1 2} - 1.0 i \\left(- 1.0 Ω_{1 2} ρ_{1 1} + 1.0 Ω_{1 2} ρ_{2 2} - 1.0 Ω_{3 2} ρ_{1 3} + 1.0 ρ_{1 2} ω_{1} - 1.0 ρ_{1 2} ω_{2}\\right) & - 0.5 γ_{2 3} ρ_{1 3} - 1.0 i \\left(1.0 Ω_{1 2} ρ_{2 3} - 1.0 Ω_{2 3} ρ_{1 2} + 1.0 ρ_{1 3} ω_{1} - 1.0 ρ_{1 3} ω_{3}\\right)\\\\- 0.5 γ_{1 2} ρ_{2 1} - 1.0 i \\left(1.0 Ω_{2 1} ρ_{1 1} - 1.0 Ω_{2 1} ρ_{2 2} + 1.0 Ω_{2 3} ρ_{3 1} - 1.0 ρ_{2 1} ω_{1} + 1.0 ρ_{2 1} ω_{2}\\right) & - 1.0 γ_{1 2} ρ_{2 2} + 1.0 γ_{2 3} \\left(- 1.0 ρ_{1 1} - 1.0 ρ_{2 2} + 1.0\\right) - 1.0 i \\left(- 1.0 Ω_{1 2} ρ_{2 1} + 1.0 Ω_{2 1} ρ_{1 2} + 1.0 Ω_{2 3} ρ_{3 2} - 1.0 Ω_{3 2} ρ_{2 3}\\right) & - 0.5 γ_{1 2} ρ_{2 3} - 0.5 γ_{2 3} ρ_{2 3} - 1.0 i \\left(1.0 Ω_{2 1} ρ_{1 3} - 1.0 Ω_{2 3} ρ_{2 2} + 1.0 Ω_{2 3} \\left(- 1.0 ρ_{1 1} - 1.0 ρ_{2 2} + 1.0\\right) + 1.0 ρ_{2 3} ω_{2} - 1.0 ρ_{2 3} ω_{3}\\right)\\\\- 0.5 γ_{2 3} ρ_{3 1} - 1.0 i \\left(- 1.0 Ω_{2 1} ρ_{3 2} + 1.0 Ω_{3 2} ρ_{2 1} - 1.0 ρ_{3 1} ω_{1} + 1.0 ρ_{3 1} ω_{3}\\right) & - 0.5 γ_{1 2} ρ_{3 2} - 0.5 γ_{2 3} ρ_{3 2} - 1.0 i \\left(- 1.0 Ω_{1 2} ρ_{3 1} + 1.0 Ω_{3 2} ρ_{2 2} - 1.0 Ω_{3 2} \\left(- 1.0 ρ_{1 1} - 1.0 ρ_{2 2} + 1.0\\right) - 1.0 ρ_{3 2} ω_{2} + 1.0 ρ_{3 2} ω_{3}\\right) & - \\frac{γ_{2 3} \\left(- 2.0 ρ_{1 1} - 2.0 ρ_{2 2} + 2.0\\right)}{2} - 1.0 i \\left(- 1.0 Ω_{2 3} ρ_{3 2} + 1.0 Ω_{3 2} ρ_{2 3}\\right)\\end{matrix}\\right]$"
      ],
      "text/plain": [
       "Matrix([\n",
       "[                                                   1.0*γ_1_2*ρ_2_2 - 1.0*I*(1.0*Ω_1_2*ρ_2_1 - 1.0*Ω_2_1*ρ_1_2),                                            -0.5*γ_1_2*ρ_1_2 - 1.0*I*(-1.0*Ω_1_2*ρ_1_1 + 1.0*Ω_1_2*ρ_2_2 - 1.0*Ω_3_2*ρ_1_3 + 1.0*ρ_1_2*ω_1 - 1.0*ρ_1_2*ω_2),                                                              -0.5*γ_2_3*ρ_1_3 - 1.0*I*(1.0*Ω_1_2*ρ_2_3 - 1.0*Ω_2_3*ρ_1_2 + 1.0*ρ_1_3*ω_1 - 1.0*ρ_1_3*ω_3)],\n",
       "[-0.5*γ_1_2*ρ_2_1 - 1.0*I*(1.0*Ω_2_1*ρ_1_1 - 1.0*Ω_2_1*ρ_2_2 + 1.0*Ω_2_3*ρ_3_1 - 1.0*ρ_2_1*ω_1 + 1.0*ρ_2_1*ω_2),               -1.0*γ_1_2*ρ_2_2 + 1.0*γ_2_3*(-1.0*ρ_1_1 - 1.0*ρ_2_2 + 1.0) - 1.0*I*(-1.0*Ω_1_2*ρ_2_1 + 1.0*Ω_2_1*ρ_1_2 + 1.0*Ω_2_3*ρ_3_2 - 1.0*Ω_3_2*ρ_2_3), -0.5*γ_1_2*ρ_2_3 - 0.5*γ_2_3*ρ_2_3 - 1.0*I*(1.0*Ω_2_1*ρ_1_3 - 1.0*Ω_2_3*ρ_2_2 + 1.0*Ω_2_3*(-1.0*ρ_1_1 - 1.0*ρ_2_2 + 1.0) + 1.0*ρ_2_3*ω_2 - 1.0*ρ_2_3*ω_3)],\n",
       "[                 -0.5*γ_2_3*ρ_3_1 - 1.0*I*(-1.0*Ω_2_1*ρ_3_2 + 1.0*Ω_3_2*ρ_2_1 - 1.0*ρ_3_1*ω_1 + 1.0*ρ_3_1*ω_3), -0.5*γ_1_2*ρ_3_2 - 0.5*γ_2_3*ρ_3_2 - 1.0*I*(-1.0*Ω_1_2*ρ_3_1 + 1.0*Ω_3_2*ρ_2_2 - 1.0*Ω_3_2*(-1.0*ρ_1_1 - 1.0*ρ_2_2 + 1.0) - 1.0*ρ_3_2*ω_2 + 1.0*ρ_3_2*ω_3),                                                                      -γ_2_3*(-2.0*ρ_1_1 - 2.0*ρ_2_2 + 2.0)/2 - 1.0*I*(-1.0*Ω_2_3*ρ_3_2 + 1.0*Ω_3_2*ρ_2_3)]])"
      ]
     },
     "execution_count": 37,
     "metadata": {},
     "output_type": "execute_result"
    }
   ],
   "source": [
    "# Get the master equation\n",
    "dρ = generate_Liouvillian(ρ, H, σ, [γ12, γ23])\n",
    "dρ"
   ]
  },
  {
   "cell_type": "markdown",
   "id": "03a2a7de-3f01-4db4-b19b-721575899e30",
   "metadata": {},
   "source": [
    "Now do the vectorized case"
   ]
  },
  {
   "cell_type": "code",
   "execution_count": 39,
   "id": "152c5adc-a1b2-487c-9376-2871d1162398",
   "metadata": {},
   "outputs": [
    {
     "data": {
      "text/latex": [
       "$\\displaystyle \\left[\\begin{matrix}0 & 1.0 i Ω_{2 1} & 0 & - 1.0 i Ω_{1 2} & 1.0 γ_{1 2} & 0 & 0 & 0 & 0\\\\1.0 i Ω_{1 2} & - 0.5 γ_{1 2} - 1.0 i \\left(1.0 ω_{1} - 1.0 ω_{2}\\right) & 1.0 i Ω_{3 2} & 0 & - 1.0 i Ω_{1 2} & 0 & 0 & 0 & 0\\\\0 & 1.0 i Ω_{2 3} & - 0.5 γ_{2 3} - 1.0 i \\left(1.0 ω_{1} - 1.0 ω_{3}\\right) & 0 & 0 & - 1.0 i Ω_{1 2} & 0 & 0 & 0\\\\- 1.0 i Ω_{2 1} & 0 & 0 & - 0.5 γ_{1 2} - 1.0 i \\left(- 1.0 ω_{1} + 1.0 ω_{2}\\right) & 1.0 i Ω_{2 1} & 0 & - 1.0 i Ω_{2 3} & 0 & 0\\\\0 & - 1.0 i Ω_{2 1} & 0 & 1.0 i Ω_{1 2} & - 1.0 γ_{1 2} & 1.0 i Ω_{3 2} & 0 & - 1.0 i Ω_{2 3} & 1.0 γ_{2 3}\\\\0 & 0 & - 1.0 i Ω_{2 1} & 0 & 1.0 i Ω_{2 3} & - 0.5 γ_{1 2} - 0.5 γ_{2 3} - 1.0 i \\left(1.0 ω_{2} - 1.0 ω_{3}\\right) & 0 & 0 & - 1.0 i Ω_{2 3}\\\\0 & 0 & 0 & - 1.0 i Ω_{3 2} & 0 & 0 & - 0.5 γ_{2 3} - 1.0 i \\left(- 1.0 ω_{1} + 1.0 ω_{3}\\right) & 1.0 i Ω_{2 1} & 0\\\\0 & 0 & 0 & 0 & - 1.0 i Ω_{3 2} & 0 & 1.0 i Ω_{1 2} & - 0.5 γ_{1 2} - 0.5 γ_{2 3} - 1.0 i \\left(- 1.0 ω_{2} + 1.0 ω_{3}\\right) & 1.0 i Ω_{3 2}\\\\0 & 0 & 0 & 0 & 0 & - 1.0 i Ω_{3 2} & 0 & 1.0 i Ω_{2 3} & - 1.0 γ_{2 3}\\end{matrix}\\right]$"
      ],
      "text/plain": [
       "Matrix([\n",
       "[           0,                            1.0*I*Ω_2_1,                                      0,                            -1.0*I*Ω_1_2,    1.0*γ_1_2,                                                  0,                                       0,                                                   0,            0],\n",
       "[ 1.0*I*Ω_1_2, -0.5*γ_1_2 - 1.0*I*(1.0*ω_1 - 1.0*ω_2),                            1.0*I*Ω_3_2,                                       0, -1.0*I*Ω_1_2,                                                  0,                                       0,                                                   0,            0],\n",
       "[           0,                            1.0*I*Ω_2_3, -0.5*γ_2_3 - 1.0*I*(1.0*ω_1 - 1.0*ω_3),                                       0,            0,                                       -1.0*I*Ω_1_2,                                       0,                                                   0,            0],\n",
       "[-1.0*I*Ω_2_1,                                      0,                                      0, -0.5*γ_1_2 - 1.0*I*(-1.0*ω_1 + 1.0*ω_2),  1.0*I*Ω_2_1,                                                  0,                            -1.0*I*Ω_2_3,                                                   0,            0],\n",
       "[           0,                           -1.0*I*Ω_2_1,                                      0,                             1.0*I*Ω_1_2,   -1.0*γ_1_2,                                        1.0*I*Ω_3_2,                                       0,                                        -1.0*I*Ω_2_3,    1.0*γ_2_3],\n",
       "[           0,                                      0,                           -1.0*I*Ω_2_1,                                       0,  1.0*I*Ω_2_3, -0.5*γ_1_2 - 0.5*γ_2_3 - 1.0*I*(1.0*ω_2 - 1.0*ω_3),                                       0,                                                   0, -1.0*I*Ω_2_3],\n",
       "[           0,                                      0,                                      0,                            -1.0*I*Ω_3_2,            0,                                                  0, -0.5*γ_2_3 - 1.0*I*(-1.0*ω_1 + 1.0*ω_3),                                         1.0*I*Ω_2_1,            0],\n",
       "[           0,                                      0,                                      0,                                       0, -1.0*I*Ω_3_2,                                                  0,                             1.0*I*Ω_1_2, -0.5*γ_1_2 - 0.5*γ_2_3 - 1.0*I*(-1.0*ω_2 + 1.0*ω_3),  1.0*I*Ω_3_2],\n",
       "[           0,                                      0,                                      0,                                       0,            0,                                       -1.0*I*Ω_3_2,                                       0,                                         1.0*I*Ω_2_3,   -1.0*γ_2_3]])"
      ]
     },
     "execution_count": 39,
     "metadata": {},
     "output_type": "execute_result"
    }
   ],
   "source": [
    "# Get the vectorized Liouvillian operator\n",
    "vec_L = generate_vector_Liouvillian(H, σ, [γ12, γ23])\n",
    "vec_L"
   ]
  },
  {
   "cell_type": "code",
   "execution_count": 40,
   "id": "6ae1e3fc-b783-4f69-9193-8ce8fcb24c9b",
   "metadata": {},
   "outputs": [
    {
     "data": {
      "text/latex": [
       "$\\displaystyle \\left[\\begin{matrix}0\\\\0\\\\0\\\\0\\\\0\\\\0\\\\0\\\\0\\\\0\\end{matrix}\\right]$"
      ],
      "text/plain": [
       "Matrix([\n",
       "[0],\n",
       "[0],\n",
       "[0],\n",
       "[0],\n",
       "[0],\n",
       "[0],\n",
       "[0],\n",
       "[0],\n",
       "[0]])"
      ]
     },
     "execution_count": 40,
     "metadata": {},
     "output_type": "execute_result"
    }
   ],
   "source": [
    "# Check that the vectorized Liouvillian applied to the vectorized density matrix gives the same thing\n",
    "dρ_vec = vec_L @ ρ.reshape(dim ** 2, 1)\n",
    "sym.simplify(dρ_vec - dρ.reshape(dim ** 2, 1))"
   ]
  },
  {
   "cell_type": "code",
   "execution_count": 41,
   "id": "7ed19377-b5d5-4b74-9b23-0f76adb9aee8",
   "metadata": {},
   "outputs": [
    {
     "data": {
      "text/plain": [
       "EigResult(eigenvalues=array([-9.97671934e-01-1.00398317e+02j, -9.97671934e-01+1.00398317e+02j,\n",
       "       -5.04731770e-01+4.98420423e+01j, -5.04731770e-01-4.98420423e+01j,\n",
       "       -1.51167969e+00-5.05562802e+01j, -1.51167969e+00+5.05562802e+01j,\n",
       "        2.82194937e-15-3.59125503e-18j, -9.90463567e-01+8.91732121e-16j,\n",
       "       -1.98136964e+00-1.72050921e-15j]), eigenvectors=array([[ 1.57935544e-03-3.61937084e-07j,  1.57935544e-03+3.61937084e-07j,\n",
       "         3.99964170e-02+3.95547024e-04j,  3.99964170e-02-3.95547024e-04j,\n",
       "        -1.82110819e-04+1.73637904e-03j, -1.82110819e-04-1.73637904e-03j,\n",
       "         9.98395076e-01+0.00000000e+00j,  7.04867910e-01+0.00000000e+00j,\n",
       "        -4.04271343e-01+3.76505618e-16j],\n",
       "       [-6.32758024e-05+2.27168170e-07j,  7.92350649e-02-7.81127579e-04j,\n",
       "         9.95246876e-01+0.00000000e+00j, -1.60243629e-03+1.58056006e-05j,\n",
       "         1.58510013e-03-6.86376519e-05j, -2.96097634e-03-4.34770598e-03j,\n",
       "        -3.99952306e-02+4.02517869e-04j, -5.64738764e-02-5.54808088e-04j,\n",
       "         4.87114643e-02+1.45239156e-03j],\n",
       "       [ 2.52891760e-06-2.59068496e-08j,  9.96049080e-01+0.00000000e+00j,\n",
       "        -7.92353022e-02+7.81965465e-04j,  6.40393537e-05-1.05697019e-06j,\n",
       "        -1.25792250e-04+3.12247144e-06j,  4.03926294e-02+7.69742086e-04j,\n",
       "         1.59819557e-03-3.20695373e-05j,  3.37492022e-03+1.05063936e-05j,\n",
       "        -3.88524951e-03-1.14973410e-04j],\n",
       "       [ 7.92350649e-02+7.81127579e-04j, -6.32758024e-05-2.27168169e-07j,\n",
       "        -1.60243629e-03-1.58056006e-05j,  9.95246876e-01+0.00000000e+00j,\n",
       "        -2.96097634e-03+4.34770598e-03j,  1.58510013e-03+6.86376519e-05j,\n",
       "        -3.99952306e-02-4.02517869e-04j, -5.64738764e-02+5.54808088e-04j,\n",
       "         4.87114643e-02-1.45239156e-03j],\n",
       "       [-3.17381729e-03+3.24143999e-05j, -3.17381729e-03-3.24143999e-05j,\n",
       "        -3.98707227e-02-3.95161936e-04j, -3.98707227e-02+3.95161936e-04j,\n",
       "         7.92274713e-02-2.51015630e-03j,  7.92274713e-02+2.51015630e-03j,\n",
       "         1.61007148e-03+1.58712152e-17j, -7.00365216e-01+6.00477637e-16j,\n",
       "         8.06820532e-01+0.00000000e+00j],\n",
       "       [ 1.26843841e-04-2.13856439e-06j, -3.99015096e-02-4.02821300e-04j,\n",
       "         3.15964261e-03-1.04685431e-05j,  1.59328294e-03-3.17197560e-05j,\n",
       "        -6.29840750e-03+1.29961208e-04j,  9.92855903e-01+0.00000000e+00j,\n",
       "        -6.46480643e-05+6.56660439e-07j,  5.57982082e-02-5.68204144e-04j,\n",
       "        -9.68959624e-02-9.37454431e-04j],\n",
       "       [ 9.96049080e-01+0.00000000e+00j,  2.52891760e-06+2.59068490e-08j,\n",
       "         6.40393537e-05+1.05697019e-06j, -7.92353022e-02-7.81965465e-04j,\n",
       "         4.03926294e-02-7.69742086e-04j, -1.25792250e-04-3.12247144e-06j,\n",
       "         1.59819557e-03+3.20695373e-05j,  3.37492022e-03-1.05063936e-05j,\n",
       "        -3.88524951e-03+1.14973410e-04j],\n",
       "       [-3.99015096e-02+4.02821300e-04j,  1.26843841e-04+2.13856439e-06j,\n",
       "         1.59328294e-03+3.17197560e-05j,  3.15964261e-03+1.04685431e-05j,\n",
       "         9.92855903e-01+0.00000000e+00j, -6.29840750e-03-1.29961208e-04j,\n",
       "        -6.46480643e-05-6.56660439e-07j,  5.57982082e-02+5.68204144e-04j,\n",
       "        -9.68959624e-02+9.37454431e-04j],\n",
       "       [ 1.59446185e-03-3.20524628e-05j,  1.59446185e-03+3.20524628e-05j,\n",
       "        -1.25694346e-04-3.85087861e-07j, -1.25694346e-04+3.85087861e-07j,\n",
       "        -7.90453605e-02+7.73777255e-04j, -7.90453605e-02-7.73777255e-04j,\n",
       "         2.62664175e-06+1.37196227e-19j, -4.50269352e-03-5.80368290e-16j,\n",
       "        -4.02549189e-01-4.19464247e-16j]]))"
      ]
     },
     "execution_count": 41,
     "metadata": {},
     "output_type": "execute_result"
    }
   ],
   "source": [
    "# Now diagonalize the vectorized Liouvillian to find the 0 eigenvalue and the eigenvector corresponding to the steady state\n",
    "vec_L_fun = sym.lambdify(freq_syms + rabi_syms[0] + rabi_syms[1] + [γ12, γ23], vec_L)\n",
    "\n",
    "vec_L_val = vec_L_fun(50, 100, 150, 2, 4, 2, 4, 1, 2)\n",
    "eigs = np.linalg.eig(vec_L_val)\n",
    "eigs"
   ]
  },
  {
   "cell_type": "code",
   "execution_count": 42,
   "id": "002774a0-72fa-4141-b16d-e2c452291af5",
   "metadata": {},
   "outputs": [
    {
     "data": {
      "text/plain": [
       "((2.8219493716466905e-15-3.591255031270161e-18j),\n",
       " array([ 9.98395076e-01+0.00000000e+00j, -3.99952306e-02+4.02517869e-04j,\n",
       "         1.59819557e-03-3.20695373e-05j, -3.99952306e-02-4.02517869e-04j,\n",
       "         1.61007148e-03+1.58712152e-17j, -6.46480643e-05+6.56660439e-07j,\n",
       "         1.59819557e-03+3.20695373e-05j, -6.46480643e-05-6.56660439e-07j,\n",
       "         2.62664175e-06+1.37196227e-19j]))"
      ]
     },
     "execution_count": 42,
     "metadata": {},
     "output_type": "execute_result"
    }
   ],
   "source": [
    "# The 7th eigenvalue looks like it's close to 0\n",
    "eigs[0][6], eigs[1][:, 6]"
   ]
  },
  {
   "cell_type": "code",
   "execution_count": 43,
   "id": "565b94aa-a8f0-4c4a-a293-e3f7bd43e1a8",
   "metadata": {},
   "outputs": [
    {
     "data": {
      "text/plain": [
       "array([ 4.82903648e-16+7.13823664e-17j,  6.90878019e-15+2.22044605e-16j,\n",
       "       -1.56060061e-15+1.40720768e-14j,  5.23051654e-15+1.77635684e-15j,\n",
       "       -1.21827224e-15-8.51028807e-16j, -7.40384732e-15-1.03002290e-14j,\n",
       "        2.15097037e-14-6.38378239e-16j, -2.09300477e-15+1.09162218e-16j,\n",
       "        7.35371982e-16+7.79646440e-16j])"
      ]
     },
     "execution_count": 43,
     "metadata": {},
     "output_type": "execute_result"
    }
   ],
   "source": [
    "# Confirm that applying the Liouvillian to this eigenvalue basically gives back 0\n",
    "vec_L_val @ eigs[1][:, 6] "
   ]
  },
  {
   "cell_type": "markdown",
   "id": "18bdc3362221b8bf",
   "metadata": {},
   "source": [
    "## 4 Level Case"
   ]
  },
  {
   "cell_type": "code",
   "execution_count": 44,
   "id": "523f6859e7b7d137",
   "metadata": {},
   "outputs": [],
   "source": [
    "# Define the dimensionality\n",
    "dim = 4"
   ]
  },
  {
   "cell_type": "code",
   "execution_count": 45,
   "id": "d2415dfb-fab9-4f68-94ba-6d5212e10114",
   "metadata": {},
   "outputs": [],
   "source": [
    "# Define the symbols we need\n",
    "freq_syms = generate_symbols(\"ω\", [i+1 for i in range(dim)])\n",
    "rabi_syms = [generate_symbols(\"Ω\", [str(i+1) + \"_\" + str(i+2) for i in range(dim-1)]),\n",
    "             generate_symbols(\"Ω\", [str(i+2) + \"_\" + str(i+1) for i in range(dim-1)])]"
   ]
  },
  {
   "cell_type": "code",
   "execution_count": 46,
   "id": "2d70b9a30469324c",
   "metadata": {},
   "outputs": [],
   "source": [
    "# Define the Hamiltonian under the RWA and with zero detuning between the laser and transition\n",
    "H = generate_H(dim, freq_syms, rabi_syms)\n",
    "\n",
    "# Define the density matrix\n",
    "ρ = generate_ρ(dim)"
   ]
  },
  {
   "cell_type": "code",
   "execution_count": 54,
   "id": "39a8d0e24b08deb0",
   "metadata": {},
   "outputs": [],
   "source": [
    "# Define damping rate\n",
    "γs = [sym.symbols(\"γ_\" + str(i+1) + \"_\" + str(i+2)) for i in range(dim-1)]\n",
    "\n",
    "# Define jump operator\n",
    "σ = generate_jump_ops(dim)"
   ]
  },
  {
   "cell_type": "code",
   "execution_count": 55,
   "id": "3a777d88-8b0d-4c53-9dfd-95fb1d45cdc6",
   "metadata": {},
   "outputs": [
    {
     "data": {
      "text/latex": [
       "$\\displaystyle \\left[\\begin{matrix}1.0 γ_{1 2} ρ_{2 2} - 1.0 i \\left(1.0 Ω_{1 2} ρ_{2 1} - 1.0 Ω_{2 1} ρ_{1 2}\\right) & - 0.5 γ_{1 2} ρ_{1 2} - 1.0 i \\left(- 1.0 Ω_{1 2} ρ_{1 1} + 1.0 Ω_{1 2} ρ_{2 2} - 1.0 Ω_{3 2} ρ_{1 3} + 1.0 ρ_{1 2} ω_{1} - 1.0 ρ_{1 2} ω_{2}\\right) & - 0.5 γ_{2 3} ρ_{1 3} - 1.0 i \\left(1.0 Ω_{1 2} ρ_{2 3} - 1.0 Ω_{2 3} ρ_{1 2} - 1.0 Ω_{4 3} ρ_{1 4} + 1.0 ρ_{1 3} ω_{1} - 1.0 ρ_{1 3} ω_{3}\\right) & - 0.5 γ_{3 4} ρ_{1 4} - 1.0 i \\left(1.0 Ω_{1 2} ρ_{2 4} - 1.0 Ω_{3 4} ρ_{1 3} + 1.0 ρ_{1 4} ω_{1} - 1.0 ρ_{1 4} ω_{4}\\right)\\\\- 0.5 γ_{1 2} ρ_{2 1} - 1.0 i \\left(1.0 Ω_{2 1} ρ_{1 1} - 1.0 Ω_{2 1} ρ_{2 2} + 1.0 Ω_{2 3} ρ_{3 1} - 1.0 ρ_{2 1} ω_{1} + 1.0 ρ_{2 1} ω_{2}\\right) & - 1.0 γ_{1 2} ρ_{2 2} + 1.0 γ_{2 3} ρ_{3 3} - 1.0 i \\left(- 1.0 Ω_{1 2} ρ_{2 1} + 1.0 Ω_{2 1} ρ_{1 2} + 1.0 Ω_{2 3} ρ_{3 2} - 1.0 Ω_{3 2} ρ_{2 3}\\right) & - 0.5 γ_{1 2} ρ_{2 3} - 0.5 γ_{2 3} ρ_{2 3} - 1.0 i \\left(1.0 Ω_{2 1} ρ_{1 3} - 1.0 Ω_{2 3} ρ_{2 2} + 1.0 Ω_{2 3} ρ_{3 3} - 1.0 Ω_{4 3} ρ_{2 4} + 1.0 ρ_{2 3} ω_{2} - 1.0 ρ_{2 3} ω_{3}\\right) & - 0.5 γ_{1 2} ρ_{2 4} - 0.5 γ_{3 4} ρ_{2 4} - 1.0 i \\left(1.0 Ω_{2 1} ρ_{1 4} + 1.0 Ω_{2 3} ρ_{3 4} - 1.0 Ω_{3 4} ρ_{2 3} + 1.0 ρ_{2 4} ω_{2} - 1.0 ρ_{2 4} ω_{4}\\right)\\\\- 0.5 γ_{2 3} ρ_{3 1} - 1.0 i \\left(- 1.0 Ω_{2 1} ρ_{3 2} + 1.0 Ω_{3 2} ρ_{2 1} + 1.0 Ω_{3 4} ρ_{4 1} - 1.0 ρ_{3 1} ω_{1} + 1.0 ρ_{3 1} ω_{3}\\right) & - 0.5 γ_{1 2} ρ_{3 2} - 0.5 γ_{2 3} ρ_{3 2} - 1.0 i \\left(- 1.0 Ω_{1 2} ρ_{3 1} + 1.0 Ω_{3 2} ρ_{2 2} - 1.0 Ω_{3 2} ρ_{3 3} + 1.0 Ω_{3 4} ρ_{4 2} - 1.0 ρ_{3 2} ω_{2} + 1.0 ρ_{3 2} ω_{3}\\right) & - 1.0 γ_{2 3} ρ_{3 3} + 1.0 γ_{3 4} \\left(- 1.0 ρ_{1 1} - 1.0 ρ_{2 2} - 1.0 ρ_{3 3} + 1.0\\right) - 1.0 i \\left(- 1.0 Ω_{2 3} ρ_{3 2} + 1.0 Ω_{3 2} ρ_{2 3} + 1.0 Ω_{3 4} ρ_{4 3} - 1.0 Ω_{4 3} ρ_{3 4}\\right) & - 0.5 γ_{2 3} ρ_{3 4} - 0.5 γ_{3 4} ρ_{3 4} - 1.0 i \\left(1.0 Ω_{3 2} ρ_{2 4} - 1.0 Ω_{3 4} ρ_{3 3} + 1.0 Ω_{3 4} \\left(- 1.0 ρ_{1 1} - 1.0 ρ_{2 2} - 1.0 ρ_{3 3} + 1.0\\right) + 1.0 ρ_{3 4} ω_{3} - 1.0 ρ_{3 4} ω_{4}\\right)\\\\- 0.5 γ_{3 4} ρ_{4 1} - 1.0 i \\left(- 1.0 Ω_{2 1} ρ_{4 2} + 1.0 Ω_{4 3} ρ_{3 1} - 1.0 ρ_{4 1} ω_{1} + 1.0 ρ_{4 1} ω_{4}\\right) & - 0.5 γ_{1 2} ρ_{4 2} - 0.5 γ_{3 4} ρ_{4 2} - 1.0 i \\left(- 1.0 Ω_{1 2} ρ_{4 1} - 1.0 Ω_{3 2} ρ_{4 3} + 1.0 Ω_{4 3} ρ_{3 2} - 1.0 ρ_{4 2} ω_{2} + 1.0 ρ_{4 2} ω_{4}\\right) & - 0.5 γ_{2 3} ρ_{4 3} - 0.5 γ_{3 4} ρ_{4 3} - 1.0 i \\left(- 1.0 Ω_{2 3} ρ_{4 2} + 1.0 Ω_{4 3} ρ_{3 3} - 1.0 Ω_{4 3} \\left(- 1.0 ρ_{1 1} - 1.0 ρ_{2 2} - 1.0 ρ_{3 3} + 1.0\\right) - 1.0 ρ_{4 3} ω_{3} + 1.0 ρ_{4 3} ω_{4}\\right) & - \\frac{γ_{3 4} \\left(- 2.0 ρ_{1 1} - 2.0 ρ_{2 2} - 2.0 ρ_{3 3} + 2.0\\right)}{2} - 1.0 i \\left(- 1.0 Ω_{3 4} ρ_{4 3} + 1.0 Ω_{4 3} ρ_{3 4}\\right)\\end{matrix}\\right]$"
      ],
      "text/plain": [
       "Matrix([\n",
       "[                                                    1.0*γ_1_2*ρ_2_2 - 1.0*I*(1.0*Ω_1_2*ρ_2_1 - 1.0*Ω_2_1*ρ_1_2),                                     -0.5*γ_1_2*ρ_1_2 - 1.0*I*(-1.0*Ω_1_2*ρ_1_1 + 1.0*Ω_1_2*ρ_2_2 - 1.0*Ω_3_2*ρ_1_3 + 1.0*ρ_1_2*ω_1 - 1.0*ρ_1_2*ω_2),                                                         -0.5*γ_2_3*ρ_1_3 - 1.0*I*(1.0*Ω_1_2*ρ_2_3 - 1.0*Ω_2_3*ρ_1_2 - 1.0*Ω_4_3*ρ_1_4 + 1.0*ρ_1_3*ω_1 - 1.0*ρ_1_3*ω_3),                                                                          -0.5*γ_3_4*ρ_1_4 - 1.0*I*(1.0*Ω_1_2*ρ_2_4 - 1.0*Ω_3_4*ρ_1_3 + 1.0*ρ_1_4*ω_1 - 1.0*ρ_1_4*ω_4)],\n",
       "[ -0.5*γ_1_2*ρ_2_1 - 1.0*I*(1.0*Ω_2_1*ρ_1_1 - 1.0*Ω_2_1*ρ_2_2 + 1.0*Ω_2_3*ρ_3_1 - 1.0*ρ_2_1*ω_1 + 1.0*ρ_2_1*ω_2),                                 -1.0*γ_1_2*ρ_2_2 + 1.0*γ_2_3*ρ_3_3 - 1.0*I*(-1.0*Ω_1_2*ρ_2_1 + 1.0*Ω_2_1*ρ_1_2 + 1.0*Ω_2_3*ρ_3_2 - 1.0*Ω_3_2*ρ_2_3),                     -0.5*γ_1_2*ρ_2_3 - 0.5*γ_2_3*ρ_2_3 - 1.0*I*(1.0*Ω_2_1*ρ_1_3 - 1.0*Ω_2_3*ρ_2_2 + 1.0*Ω_2_3*ρ_3_3 - 1.0*Ω_4_3*ρ_2_4 + 1.0*ρ_2_3*ω_2 - 1.0*ρ_2_3*ω_3),                                      -0.5*γ_1_2*ρ_2_4 - 0.5*γ_3_4*ρ_2_4 - 1.0*I*(1.0*Ω_2_1*ρ_1_4 + 1.0*Ω_2_3*ρ_3_4 - 1.0*Ω_3_4*ρ_2_3 + 1.0*ρ_2_4*ω_2 - 1.0*ρ_2_4*ω_4)],\n",
       "[-0.5*γ_2_3*ρ_3_1 - 1.0*I*(-1.0*Ω_2_1*ρ_3_2 + 1.0*Ω_3_2*ρ_2_1 + 1.0*Ω_3_4*ρ_4_1 - 1.0*ρ_3_1*ω_1 + 1.0*ρ_3_1*ω_3), -0.5*γ_1_2*ρ_3_2 - 0.5*γ_2_3*ρ_3_2 - 1.0*I*(-1.0*Ω_1_2*ρ_3_1 + 1.0*Ω_3_2*ρ_2_2 - 1.0*Ω_3_2*ρ_3_3 + 1.0*Ω_3_4*ρ_4_2 - 1.0*ρ_3_2*ω_2 + 1.0*ρ_3_2*ω_3),               -1.0*γ_2_3*ρ_3_3 + 1.0*γ_3_4*(-1.0*ρ_1_1 - 1.0*ρ_2_2 - 1.0*ρ_3_3 + 1.0) - 1.0*I*(-1.0*Ω_2_3*ρ_3_2 + 1.0*Ω_3_2*ρ_2_3 + 1.0*Ω_3_4*ρ_4_3 - 1.0*Ω_4_3*ρ_3_4), -0.5*γ_2_3*ρ_3_4 - 0.5*γ_3_4*ρ_3_4 - 1.0*I*(1.0*Ω_3_2*ρ_2_4 - 1.0*Ω_3_4*ρ_3_3 + 1.0*Ω_3_4*(-1.0*ρ_1_1 - 1.0*ρ_2_2 - 1.0*ρ_3_3 + 1.0) + 1.0*ρ_3_4*ω_3 - 1.0*ρ_3_4*ω_4)],\n",
       "[                  -0.5*γ_3_4*ρ_4_1 - 1.0*I*(-1.0*Ω_2_1*ρ_4_2 + 1.0*Ω_4_3*ρ_3_1 - 1.0*ρ_4_1*ω_1 + 1.0*ρ_4_1*ω_4),                   -0.5*γ_1_2*ρ_4_2 - 0.5*γ_3_4*ρ_4_2 - 1.0*I*(-1.0*Ω_1_2*ρ_4_1 - 1.0*Ω_3_2*ρ_4_3 + 1.0*Ω_4_3*ρ_3_2 - 1.0*ρ_4_2*ω_2 + 1.0*ρ_4_2*ω_4), -0.5*γ_2_3*ρ_4_3 - 0.5*γ_3_4*ρ_4_3 - 1.0*I*(-1.0*Ω_2_3*ρ_4_2 + 1.0*Ω_4_3*ρ_3_3 - 1.0*Ω_4_3*(-1.0*ρ_1_1 - 1.0*ρ_2_2 - 1.0*ρ_3_3 + 1.0) - 1.0*ρ_4_3*ω_3 + 1.0*ρ_4_3*ω_4),                                                                      -γ_3_4*(-2.0*ρ_1_1 - 2.0*ρ_2_2 - 2.0*ρ_3_3 + 2.0)/2 - 1.0*I*(-1.0*Ω_3_4*ρ_4_3 + 1.0*Ω_4_3*ρ_3_4)]])"
      ]
     },
     "execution_count": 55,
     "metadata": {},
     "output_type": "execute_result"
    }
   ],
   "source": [
    "# Get the master equation\n",
    "dρ = generate_Liouvillian(ρ, H, σ, γs)\n",
    "dρ"
   ]
  },
  {
   "cell_type": "markdown",
   "id": "4ceba851-f588-4029-bebf-491caaf95a88",
   "metadata": {},
   "source": [
    "Now do the vectorized version"
   ]
  },
  {
   "cell_type": "code",
   "execution_count": 56,
   "id": "edc93657-dca7-42e4-98a8-30f5349d08fc",
   "metadata": {},
   "outputs": [
    {
     "data": {
      "text/latex": [
       "$\\displaystyle \\left[\\begin{array}{cccccccccccccccc}0 & 1.0 i Ω_{2 1} & 0 & 0 & - 1.0 i Ω_{1 2} & 1.0 γ_{1 2} & 0 & 0 & 0 & 0 & 0 & 0 & 0 & 0 & 0 & 0\\\\1.0 i Ω_{1 2} & - 0.5 γ_{1 2} - 1.0 i \\left(1.0 ω_{1} - 1.0 ω_{2}\\right) & 1.0 i Ω_{3 2} & 0 & 0 & - 1.0 i Ω_{1 2} & 0 & 0 & 0 & 0 & 0 & 0 & 0 & 0 & 0 & 0\\\\0 & 1.0 i Ω_{2 3} & - 0.5 γ_{2 3} - 1.0 i \\left(1.0 ω_{1} - 1.0 ω_{3}\\right) & 1.0 i Ω_{4 3} & 0 & 0 & - 1.0 i Ω_{1 2} & 0 & 0 & 0 & 0 & 0 & 0 & 0 & 0 & 0\\\\0 & 0 & 1.0 i Ω_{3 4} & - 0.5 γ_{3 4} - 1.0 i \\left(1.0 ω_{1} - 1.0 ω_{4}\\right) & 0 & 0 & 0 & - 1.0 i Ω_{1 2} & 0 & 0 & 0 & 0 & 0 & 0 & 0 & 0\\\\- 1.0 i Ω_{2 1} & 0 & 0 & 0 & - 0.5 γ_{1 2} - 1.0 i \\left(- 1.0 ω_{1} + 1.0 ω_{2}\\right) & 1.0 i Ω_{2 1} & 0 & 0 & - 1.0 i Ω_{2 3} & 0 & 0 & 0 & 0 & 0 & 0 & 0\\\\0 & - 1.0 i Ω_{2 1} & 0 & 0 & 1.0 i Ω_{1 2} & - 1.0 γ_{1 2} & 1.0 i Ω_{3 2} & 0 & 0 & - 1.0 i Ω_{2 3} & 1.0 γ_{2 3} & 0 & 0 & 0 & 0 & 0\\\\0 & 0 & - 1.0 i Ω_{2 1} & 0 & 0 & 1.0 i Ω_{2 3} & - 0.5 γ_{1 2} - 0.5 γ_{2 3} - 1.0 i \\left(1.0 ω_{2} - 1.0 ω_{3}\\right) & 1.0 i Ω_{4 3} & 0 & 0 & - 1.0 i Ω_{2 3} & 0 & 0 & 0 & 0 & 0\\\\0 & 0 & 0 & - 1.0 i Ω_{2 1} & 0 & 0 & 1.0 i Ω_{3 4} & - 0.5 γ_{1 2} - 0.5 γ_{3 4} - 1.0 i \\left(1.0 ω_{2} - 1.0 ω_{4}\\right) & 0 & 0 & 0 & - 1.0 i Ω_{2 3} & 0 & 0 & 0 & 0\\\\0 & 0 & 0 & 0 & - 1.0 i Ω_{3 2} & 0 & 0 & 0 & - 0.5 γ_{2 3} - 1.0 i \\left(- 1.0 ω_{1} + 1.0 ω_{3}\\right) & 1.0 i Ω_{2 1} & 0 & 0 & - 1.0 i Ω_{3 4} & 0 & 0 & 0\\\\0 & 0 & 0 & 0 & 0 & - 1.0 i Ω_{3 2} & 0 & 0 & 1.0 i Ω_{1 2} & - 0.5 γ_{1 2} - 0.5 γ_{2 3} - 1.0 i \\left(- 1.0 ω_{2} + 1.0 ω_{3}\\right) & 1.0 i Ω_{3 2} & 0 & 0 & - 1.0 i Ω_{3 4} & 0 & 0\\\\0 & 0 & 0 & 0 & 0 & 0 & - 1.0 i Ω_{3 2} & 0 & 0 & 1.0 i Ω_{2 3} & - 1.0 γ_{2 3} & 1.0 i Ω_{4 3} & 0 & 0 & - 1.0 i Ω_{3 4} & 1.0 γ_{3 4}\\\\0 & 0 & 0 & 0 & 0 & 0 & 0 & - 1.0 i Ω_{3 2} & 0 & 0 & 1.0 i Ω_{3 4} & - 0.5 γ_{2 3} - 0.5 γ_{3 4} - 1.0 i \\left(1.0 ω_{3} - 1.0 ω_{4}\\right) & 0 & 0 & 0 & - 1.0 i Ω_{3 4}\\\\0 & 0 & 0 & 0 & 0 & 0 & 0 & 0 & - 1.0 i Ω_{4 3} & 0 & 0 & 0 & - 0.5 γ_{3 4} - 1.0 i \\left(- 1.0 ω_{1} + 1.0 ω_{4}\\right) & 1.0 i Ω_{2 1} & 0 & 0\\\\0 & 0 & 0 & 0 & 0 & 0 & 0 & 0 & 0 & - 1.0 i Ω_{4 3} & 0 & 0 & 1.0 i Ω_{1 2} & - 0.5 γ_{1 2} - 0.5 γ_{3 4} - 1.0 i \\left(- 1.0 ω_{2} + 1.0 ω_{4}\\right) & 1.0 i Ω_{3 2} & 0\\\\0 & 0 & 0 & 0 & 0 & 0 & 0 & 0 & 0 & 0 & - 1.0 i Ω_{4 3} & 0 & 0 & 1.0 i Ω_{2 3} & - 0.5 γ_{2 3} - 0.5 γ_{3 4} - 1.0 i \\left(- 1.0 ω_{3} + 1.0 ω_{4}\\right) & 1.0 i Ω_{4 3}\\\\0 & 0 & 0 & 0 & 0 & 0 & 0 & 0 & 0 & 0 & 0 & - 1.0 i Ω_{4 3} & 0 & 0 & 1.0 i Ω_{3 4} & - 1.0 γ_{3 4}\\end{array}\\right]$"
      ],
      "text/plain": [
       "Matrix([\n",
       "[           0,                            1.0*I*Ω_2_1,                                      0,                                      0,                            -1.0*I*Ω_1_2,    1.0*γ_1_2,                                                  0,                                                  0,                                       0,                                                   0,            0,                                                  0,                                       0,                                                   0,                                                   0,            0],\n",
       "[ 1.0*I*Ω_1_2, -0.5*γ_1_2 - 1.0*I*(1.0*ω_1 - 1.0*ω_2),                            1.0*I*Ω_3_2,                                      0,                                       0, -1.0*I*Ω_1_2,                                                  0,                                                  0,                                       0,                                                   0,            0,                                                  0,                                       0,                                                   0,                                                   0,            0],\n",
       "[           0,                            1.0*I*Ω_2_3, -0.5*γ_2_3 - 1.0*I*(1.0*ω_1 - 1.0*ω_3),                            1.0*I*Ω_4_3,                                       0,            0,                                       -1.0*I*Ω_1_2,                                                  0,                                       0,                                                   0,            0,                                                  0,                                       0,                                                   0,                                                   0,            0],\n",
       "[           0,                                      0,                            1.0*I*Ω_3_4, -0.5*γ_3_4 - 1.0*I*(1.0*ω_1 - 1.0*ω_4),                                       0,            0,                                                  0,                                       -1.0*I*Ω_1_2,                                       0,                                                   0,            0,                                                  0,                                       0,                                                   0,                                                   0,            0],\n",
       "[-1.0*I*Ω_2_1,                                      0,                                      0,                                      0, -0.5*γ_1_2 - 1.0*I*(-1.0*ω_1 + 1.0*ω_2),  1.0*I*Ω_2_1,                                                  0,                                                  0,                            -1.0*I*Ω_2_3,                                                   0,            0,                                                  0,                                       0,                                                   0,                                                   0,            0],\n",
       "[           0,                           -1.0*I*Ω_2_1,                                      0,                                      0,                             1.0*I*Ω_1_2,   -1.0*γ_1_2,                                        1.0*I*Ω_3_2,                                                  0,                                       0,                                        -1.0*I*Ω_2_3,    1.0*γ_2_3,                                                  0,                                       0,                                                   0,                                                   0,            0],\n",
       "[           0,                                      0,                           -1.0*I*Ω_2_1,                                      0,                                       0,  1.0*I*Ω_2_3, -0.5*γ_1_2 - 0.5*γ_2_3 - 1.0*I*(1.0*ω_2 - 1.0*ω_3),                                        1.0*I*Ω_4_3,                                       0,                                                   0, -1.0*I*Ω_2_3,                                                  0,                                       0,                                                   0,                                                   0,            0],\n",
       "[           0,                                      0,                                      0,                           -1.0*I*Ω_2_1,                                       0,            0,                                        1.0*I*Ω_3_4, -0.5*γ_1_2 - 0.5*γ_3_4 - 1.0*I*(1.0*ω_2 - 1.0*ω_4),                                       0,                                                   0,            0,                                       -1.0*I*Ω_2_3,                                       0,                                                   0,                                                   0,            0],\n",
       "[           0,                                      0,                                      0,                                      0,                            -1.0*I*Ω_3_2,            0,                                                  0,                                                  0, -0.5*γ_2_3 - 1.0*I*(-1.0*ω_1 + 1.0*ω_3),                                         1.0*I*Ω_2_1,            0,                                                  0,                            -1.0*I*Ω_3_4,                                                   0,                                                   0,            0],\n",
       "[           0,                                      0,                                      0,                                      0,                                       0, -1.0*I*Ω_3_2,                                                  0,                                                  0,                             1.0*I*Ω_1_2, -0.5*γ_1_2 - 0.5*γ_2_3 - 1.0*I*(-1.0*ω_2 + 1.0*ω_3),  1.0*I*Ω_3_2,                                                  0,                                       0,                                        -1.0*I*Ω_3_4,                                                   0,            0],\n",
       "[           0,                                      0,                                      0,                                      0,                                       0,            0,                                       -1.0*I*Ω_3_2,                                                  0,                                       0,                                         1.0*I*Ω_2_3,   -1.0*γ_2_3,                                        1.0*I*Ω_4_3,                                       0,                                                   0,                                        -1.0*I*Ω_3_4,    1.0*γ_3_4],\n",
       "[           0,                                      0,                                      0,                                      0,                                       0,            0,                                                  0,                                       -1.0*I*Ω_3_2,                                       0,                                                   0,  1.0*I*Ω_3_4, -0.5*γ_2_3 - 0.5*γ_3_4 - 1.0*I*(1.0*ω_3 - 1.0*ω_4),                                       0,                                                   0,                                                   0, -1.0*I*Ω_3_4],\n",
       "[           0,                                      0,                                      0,                                      0,                                       0,            0,                                                  0,                                                  0,                            -1.0*I*Ω_4_3,                                                   0,            0,                                                  0, -0.5*γ_3_4 - 1.0*I*(-1.0*ω_1 + 1.0*ω_4),                                         1.0*I*Ω_2_1,                                                   0,            0],\n",
       "[           0,                                      0,                                      0,                                      0,                                       0,            0,                                                  0,                                                  0,                                       0,                                        -1.0*I*Ω_4_3,            0,                                                  0,                             1.0*I*Ω_1_2, -0.5*γ_1_2 - 0.5*γ_3_4 - 1.0*I*(-1.0*ω_2 + 1.0*ω_4),                                         1.0*I*Ω_3_2,            0],\n",
       "[           0,                                      0,                                      0,                                      0,                                       0,            0,                                                  0,                                                  0,                                       0,                                                   0, -1.0*I*Ω_4_3,                                                  0,                                       0,                                         1.0*I*Ω_2_3, -0.5*γ_2_3 - 0.5*γ_3_4 - 1.0*I*(-1.0*ω_3 + 1.0*ω_4),  1.0*I*Ω_4_3],\n",
       "[           0,                                      0,                                      0,                                      0,                                       0,            0,                                                  0,                                                  0,                                       0,                                                   0,            0,                                       -1.0*I*Ω_4_3,                                       0,                                                   0,                                         1.0*I*Ω_3_4,   -1.0*γ_3_4]])"
      ]
     },
     "execution_count": 56,
     "metadata": {},
     "output_type": "execute_result"
    }
   ],
   "source": [
    "# Get the vectorized Liouvillian operator\n",
    "vec_L = generate_vector_Liouvillian(H, σ, γs)\n",
    "vec_L"
   ]
  },
  {
   "cell_type": "code",
   "execution_count": 57,
   "id": "05c0f76f-a632-4ec8-af2e-169257a2711b",
   "metadata": {},
   "outputs": [
    {
     "data": {
      "text/latex": [
       "$\\displaystyle \\left[\\begin{matrix}0\\\\0\\\\0\\\\0\\\\0\\\\0\\\\0\\\\0\\\\0\\\\0\\\\0\\\\0\\\\0\\\\0\\\\0\\\\0\\end{matrix}\\right]$"
      ],
      "text/plain": [
       "Matrix([\n",
       "[0],\n",
       "[0],\n",
       "[0],\n",
       "[0],\n",
       "[0],\n",
       "[0],\n",
       "[0],\n",
       "[0],\n",
       "[0],\n",
       "[0],\n",
       "[0],\n",
       "[0],\n",
       "[0],\n",
       "[0],\n",
       "[0],\n",
       "[0]])"
      ]
     },
     "execution_count": 57,
     "metadata": {},
     "output_type": "execute_result"
    }
   ],
   "source": [
    "# Check that the vectorized Liouvillian applied to the vectorized density matrix gives the same thing\n",
    "dρ_vec = vec_L @ ρ.reshape(dim ** 2, 1)\n",
    "sym.simplify(dρ_vec - dρ.reshape(dim ** 2, 1))"
   ]
  },
  {
   "cell_type": "code",
   "execution_count": 58,
   "id": "b4a882e1-dc57-43c5-881a-d2bd6179c547",
   "metadata": {},
   "outputs": [
    {
     "data": {
      "text/plain": [
       "array([-1.49383732e+00+1.50792174e+02j, -1.49383732e+00-1.50792174e+02j,\n",
       "       -1.00457096e+00+9.96885382e+01j, -1.00457096e+00-9.96885382e+01j,\n",
       "       -1.99566603e+00+1.00952402e+02j, -1.99566603e+00-1.00952402e+02j,\n",
       "       -5.04799330e-01+4.98397695e+01j, -1.51860560e+00+4.98487746e+01j,\n",
       "       -5.04799330e-01-4.98397695e+01j, -1.51860560e+00-4.98487746e+01j,\n",
       "       -2.53764792e+00-5.11036965e+01j, -2.53764792e+00+5.11036965e+01j,\n",
       "        1.83024625e-15+6.66242850e-18j, -9.90276036e-01-5.76031131e-15j,\n",
       "       -1.95268038e+00+7.35834806e-15j, -2.94678927e+00-2.45545569e-15j])"
      ]
     },
     "execution_count": 58,
     "metadata": {},
     "output_type": "execute_result"
    }
   ],
   "source": [
    "# Now diagonalize the vectorized Liouvillian to find the 0 eigenvalue and the eigenvector corresponding to the steady state\n",
    "vec_L_fun = sym.lambdify(freq_syms + rabi_syms[0] + rabi_syms[1] + γs, vec_L)\n",
    "\n",
    "vec_L_val = vec_L_fun(50, 100, 150, 200, 2, 4, 6, 2, 4, 6, 1, 2, 3)\n",
    "eigs = np.linalg.eig(vec_L_val)\n",
    "eigs[0]"
   ]
  },
  {
   "cell_type": "code",
   "execution_count": 60,
   "id": "6703d772-12ea-4428-b1d8-4aa5c499d2ab",
   "metadata": {},
   "outputs": [
    {
     "data": {
      "text/plain": [
       "array([-1.02413737e-15-8.32667268e-17j, -1.72847305e-14+2.22044605e-15j,\n",
       "       -6.81746326e-15+7.91033905e-15j,  2.58623147e-14+6.75050293e-14j,\n",
       "       -1.04922383e-14-5.10485751e-15j,  1.24151991e-15-6.80011603e-16j,\n",
       "       -1.68245371e-15-8.38652064e-15j,  3.50216360e-15-5.10084596e-15j,\n",
       "       -1.41008624e-15-8.07622198e-15j,  4.25318960e-15-1.66923766e-15j,\n",
       "       -2.44237715e-16+5.42480557e-16j,  2.34455924e-15-3.73174595e-15j,\n",
       "        1.62991692e-14-2.63642842e-14j, -8.14822148e-15-2.14062166e-15j,\n",
       "       -2.78446922e-15+2.42691372e-15j,  2.68212313e-17+2.18092984e-16j])"
      ]
     },
     "execution_count": 60,
     "metadata": {},
     "output_type": "execute_result"
    }
   ],
   "source": [
    "# Looks like the 13th eigenvalue is pretty close to 0\n",
    "# Confirm that applying the Liouvillian to this eigenvector basically gives back 0\n",
    "vec_L_val @ eigs[1][:, 12] "
   ]
  },
  {
   "cell_type": "markdown",
   "id": "160e6064-902c-42b7-a4cb-66af3917d022",
   "metadata": {},
   "source": [
    "Note that we still have to incorporate the cavity "
   ]
  }
 ],
 "metadata": {
  "kernelspec": {
   "display_name": "Python 3 (ipykernel)",
   "language": "python",
   "name": "python3"
  },
  "language_info": {
   "codemirror_mode": {
    "name": "ipython",
    "version": 3
   },
   "file_extension": ".py",
   "mimetype": "text/x-python",
   "name": "python",
   "nbconvert_exporter": "python",
   "pygments_lexer": "ipython3",
   "version": "3.11.9"
  }
 },
 "nbformat": 4,
 "nbformat_minor": 5
}
