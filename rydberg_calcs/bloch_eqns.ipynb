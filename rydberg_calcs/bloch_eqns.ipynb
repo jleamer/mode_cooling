{
 "cells": [
  {
   "cell_type": "code",
   "execution_count": 1,
   "id": "8702fe78-4bba-487d-8e01-c7cc0a56e2c0",
   "metadata": {},
   "outputs": [],
   "source": [
    "import sympy as sym\n",
    "import numpy as np\n",
    "import time\n",
    "import matplotlib.pyplot as plt"
   ]
  },
  {
   "cell_type": "code",
   "execution_count": 2,
   "id": "46fd3345-4446-4303-be1b-69db2449af45",
   "metadata": {},
   "outputs": [],
   "source": [
    "# Set font size of plot elements\\n\",\n",
    "SMALL_SIZE = 12\n",
    "MEDIUM_SIZE = 14\n",
    "BIGGER_SIZE = 18\n",
    "plt.rc('font', size=SMALL_SIZE)          # controls default text sizes\n",
    "plt.rc('axes', titlesize=SMALL_SIZE)     # fontsize of the axes title\n",
    "plt.rc('axes', labelsize=MEDIUM_SIZE)    # fontsize of the x and y labels\n",
    "plt.rc('xtick', labelsize=SMALL_SIZE)    # fontsize of the tick labels\n",
    "plt.rc('ytick', labelsize=SMALL_SIZE)    # fontsize of the tick labels\n",
    "plt.rc('legend', fontsize=SMALL_SIZE)    # legend fontsize\n",
    "plt.rc('figure', titlesize=BIGGER_SIZE)  # fontsize of the figure title"
   ]
  },
  {
   "cell_type": "markdown",
   "id": "cf1347ea-8753-446b-8e09-f4f5e8f49a1d",
   "metadata": {},
   "source": [
    "## 2 Level Case\n",
    "We want to start with sysem with levels $|1\\rangle$ and $|2\\rangle$ to confirm that sympy is able to symbolically calculate the bloch equations.  We'll consider that we have a laser with frequency $\\omega_L$ interacting with the atom and that the frequency associated with the transition is $\\omega_{21} = \\omega_2 - \\omega_1$."
   ]
  },
  {
   "cell_type": "code",
   "execution_count": 3,
   "id": "313ecd2f-a771-4a6b-a631-d509cf03152c",
   "metadata": {},
   "outputs": [],
   "source": [
    "# Start by defining our symbols\n",
    "ω1, ω2, Ω12, Ω21, p11, p12, p21, p22 = sym.symbols(\"ω_1, ω_2, Ω_1_2, Ω_2_1, p_1_1, p_1_2, p_2_1, p_2_2\")"
   ]
  },
  {
   "cell_type": "code",
   "execution_count": 4,
   "id": "bc310a6c-aefa-48af-afb1-1596d7598d23",
   "metadata": {},
   "outputs": [],
   "source": [
    "# Define the Hamiltonian under the RWA and with zero detuning between the laser and transition\n",
    "H = sym.Matrix([[ω1, Ω12], [Ω21, ω2]])\n",
    "\n",
    "# Define the density matrix\n",
    "ρ = sym.Matrix([[p11, p12], [p21, 1-p11]])"
   ]
  },
  {
   "cell_type": "code",
   "execution_count": 5,
   "id": "79374e4e-1b8a-404f-9661-69c440c99d5e",
   "metadata": {},
   "outputs": [],
   "source": [
    "# Define the damping rate\n",
    "γ12 = sym.symbols(\"γ_1_2\")\n",
    "\n",
    "# Definet the jump operator\n",
    "σ12 = sym.Matrix([[0, 1], [0, 0]])"
   ]
  },
  {
   "cell_type": "code",
   "execution_count": 6,
   "id": "5cd5d357-d4cd-47e9-a826-841eb3eb62d9",
   "metadata": {},
   "outputs": [
    {
     "data": {
      "text/latex": [
       "$\\displaystyle \\left[\\begin{matrix}γ_{1 2} \\left(1 - p_{1 1}\\right) - 1.0 i \\left(- p_{1 2} Ω_{2 1} + p_{2 1} Ω_{1 2}\\right) & - 0.5 p_{1 2} γ_{1 2} - 1.0 i \\left(- p_{1 1} Ω_{1 2} + p_{1 2} ω_{1} - p_{1 2} ω_{2} + Ω_{1 2} \\left(1 - p_{1 1}\\right)\\right)\\\\- 0.5 p_{2 1} γ_{1 2} - 1.0 i \\left(p_{1 1} Ω_{2 1} - p_{2 1} ω_{1} + p_{2 1} ω_{2} - Ω_{2 1} \\left(1 - p_{1 1}\\right)\\right) & γ_{1 2} \\left(1.0 p_{1 1} - 1.0\\right) - 1.0 i \\left(p_{1 2} Ω_{2 1} - p_{2 1} Ω_{1 2}\\right)\\end{matrix}\\right]$"
      ],
      "text/plain": [
       "Matrix([\n",
       "[                            γ_1_2*(1 - p_1_1) - 1.0*I*(-p_1_2*Ω_2_1 + p_2_1*Ω_1_2), -0.5*p_1_2*γ_1_2 - 1.0*I*(-p_1_1*Ω_1_2 + p_1_2*ω_1 - p_1_2*ω_2 + Ω_1_2*(1 - p_1_1))],\n",
       "[-0.5*p_2_1*γ_1_2 - 1.0*I*(p_1_1*Ω_2_1 - p_2_1*ω_1 + p_2_1*ω_2 - Ω_2_1*(1 - p_1_1)),                         γ_1_2*(1.0*p_1_1 - 1.0) - 1.0*I*(p_1_2*Ω_2_1 - p_2_1*Ω_1_2)]])"
      ]
     },
     "execution_count": 6,
     "metadata": {},
     "output_type": "execute_result"
    }
   ],
   "source": [
    "# Define the master equation\n",
    "dρ = -1j * (H @ ρ - ρ @ H) + γ12 * (σ12 @ ρ @ σ12.H - 0.5 * (σ12.H @ σ12 @ ρ + ρ @ σ12.H @ σ12))\n",
    "dρ"
   ]
  },
  {
   "cell_type": "code",
   "execution_count": 7,
   "id": "1c22f86a-54d8-4e5d-9c48-7e7de854c308",
   "metadata": {},
   "outputs": [
    {
     "name": "stdout",
     "output_type": "stream",
     "text": [
      "(Matrix([\n",
      "[(2.0*I*p_1_1*γ_1_2 + 2.0*p_1_2*Ω_2_1 - 2.0*p_2_1*Ω_1_2 - 2.0*I*γ_1_2 + 4.0*I*(p_1_1**2*Ω_1_2*Ω_2_1 + 0.25*p_1_1**2*γ_1_2**2 - 0.25*I*p_1_1*p_1_2*Ω_2_1*γ_1_2 - 0.5*p_1_1*p_1_2*Ω_2_1*ω_1 + 0.5*p_1_1*p_1_2*Ω_2_1*ω_2 + 0.25*I*p_1_1*p_2_1*Ω_1_2*γ_1_2 - 0.5*p_1_1*p_2_1*Ω_1_2*ω_1 + 0.5*p_1_1*p_2_1*Ω_1_2*ω_2 - p_1_1*Ω_1_2*Ω_2_1 - 0.5*p_1_1*γ_1_2**2 - 0.25*p_1_2**2*Ω_2_1**2 + 0.5*p_1_2*p_2_1*Ω_1_2*Ω_2_1 + 0.0625*p_1_2*p_2_1*γ_1_2**2 + 0.25*p_1_2*p_2_1*ω_1**2 - 0.5*p_1_2*p_2_1*ω_1*ω_2 + 0.25*p_1_2*p_2_1*ω_2**2 + 0.375*I*p_1_2*Ω_2_1*γ_1_2 + 0.25*p_1_2*Ω_2_1*ω_1 - 0.25*p_1_2*Ω_2_1*ω_2 - 0.25*p_2_1**2*Ω_1_2**2 - 0.375*I*p_2_1*Ω_1_2*γ_1_2 + 0.25*p_2_1*Ω_1_2*ω_1 - 0.25*p_2_1*Ω_1_2*ω_2 + 0.25*Ω_1_2*Ω_2_1 + 0.25*γ_1_2**2)**0.5)/(-4.0*p_1_1*Ω_2_1 + I*p_2_1*γ_1_2 + 2.0*p_2_1*ω_1 - 2.0*p_2_1*ω_2 + 2.0*Ω_2_1), (2.0*I*p_1_1*γ_1_2 + 2.0*p_1_2*Ω_2_1 - 2.0*p_2_1*Ω_1_2 - 2.0*I*γ_1_2 - 4.0*I*(p_1_1**2*Ω_1_2*Ω_2_1 + 0.25*p_1_1**2*γ_1_2**2 - 0.25*I*p_1_1*p_1_2*Ω_2_1*γ_1_2 - 0.5*p_1_1*p_1_2*Ω_2_1*ω_1 + 0.5*p_1_1*p_1_2*Ω_2_1*ω_2 + 0.25*I*p_1_1*p_2_1*Ω_1_2*γ_1_2 - 0.5*p_1_1*p_2_1*Ω_1_2*ω_1 + 0.5*p_1_1*p_2_1*Ω_1_2*ω_2 - p_1_1*Ω_1_2*Ω_2_1 - 0.5*p_1_1*γ_1_2**2 - 0.25*p_1_2**2*Ω_2_1**2 + 0.5*p_1_2*p_2_1*Ω_1_2*Ω_2_1 + 0.0625*p_1_2*p_2_1*γ_1_2**2 + 0.25*p_1_2*p_2_1*ω_1**2 - 0.5*p_1_2*p_2_1*ω_1*ω_2 + 0.25*p_1_2*p_2_1*ω_2**2 + 0.375*I*p_1_2*Ω_2_1*γ_1_2 + 0.25*p_1_2*Ω_2_1*ω_1 - 0.25*p_1_2*Ω_2_1*ω_2 - 0.25*p_2_1**2*Ω_1_2**2 - 0.375*I*p_2_1*Ω_1_2*γ_1_2 + 0.25*p_2_1*Ω_1_2*ω_1 - 0.25*p_2_1*Ω_1_2*ω_2 + 0.25*Ω_1_2*Ω_2_1 + 0.25*γ_1_2**2)**0.5)/(-4.0*p_1_1*Ω_2_1 + I*p_2_1*γ_1_2 + 2.0*p_2_1*ω_1 - 2.0*p_2_1*ω_2 + 2.0*Ω_2_1)],\n",
      "[                                                                                                                                                                                                                                                                                                                                                                                                                                                                                                                                                                                                                                                                                                                                                                                                                            1.0,                                                                                                                                                                                                                                                                                                                                                                                                                                                                                                                                                                                                                                                                                                                                                                                                                             1.0]]), Matrix([\n",
      "[-2.0*(p_1_1**2*Ω_1_2*Ω_2_1 + 0.25*p_1_1**2*γ_1_2**2 - 0.25*I*p_1_1*p_1_2*Ω_2_1*γ_1_2 - 0.5*p_1_1*p_1_2*Ω_2_1*ω_1 + 0.5*p_1_1*p_1_2*Ω_2_1*ω_2 + 0.25*I*p_1_1*p_2_1*Ω_1_2*γ_1_2 - 0.5*p_1_1*p_2_1*Ω_1_2*ω_1 + 0.5*p_1_1*p_2_1*Ω_1_2*ω_2 - p_1_1*Ω_1_2*Ω_2_1 - 0.5*p_1_1*γ_1_2**2 - 0.25*p_1_2**2*Ω_2_1**2 + 0.5*p_1_2*p_2_1*Ω_1_2*Ω_2_1 + 0.0625*p_1_2*p_2_1*γ_1_2**2 + 0.25*p_1_2*p_2_1*ω_1**2 - 0.5*p_1_2*p_2_1*ω_1*ω_2 + 0.25*p_1_2*p_2_1*ω_2**2 + 0.375*I*p_1_2*Ω_2_1*γ_1_2 + 0.25*p_1_2*Ω_2_1*ω_1 - 0.25*p_1_2*Ω_2_1*ω_2 - 0.25*p_2_1**2*Ω_1_2**2 - 0.375*I*p_2_1*Ω_1_2*γ_1_2 + 0.25*p_2_1*Ω_1_2*ω_1 - 0.25*p_2_1*Ω_1_2*ω_2 + 0.25*Ω_1_2*Ω_2_1 + 0.25*γ_1_2**2)**0.5,                                                                                                                                                                                                                                                                                                                                                                                                                                                                                                                                                                                                                                                                      0],\n",
      "[                                                                                                                                                                                                                                                                                                                                                                                                                                                                                                                                                                                                                                                                      0, 2.0*(p_1_1**2*Ω_1_2*Ω_2_1 + 0.25*p_1_1**2*γ_1_2**2 - 0.25*I*p_1_1*p_1_2*Ω_2_1*γ_1_2 - 0.5*p_1_1*p_1_2*Ω_2_1*ω_1 + 0.5*p_1_1*p_1_2*Ω_2_1*ω_2 + 0.25*I*p_1_1*p_2_1*Ω_1_2*γ_1_2 - 0.5*p_1_1*p_2_1*Ω_1_2*ω_1 + 0.5*p_1_1*p_2_1*Ω_1_2*ω_2 - p_1_1*Ω_1_2*Ω_2_1 - 0.5*p_1_1*γ_1_2**2 - 0.25*p_1_2**2*Ω_2_1**2 + 0.5*p_1_2*p_2_1*Ω_1_2*Ω_2_1 + 0.0625*p_1_2*p_2_1*γ_1_2**2 + 0.25*p_1_2*p_2_1*ω_1**2 - 0.5*p_1_2*p_2_1*ω_1*ω_2 + 0.25*p_1_2*p_2_1*ω_2**2 + 0.375*I*p_1_2*Ω_2_1*γ_1_2 + 0.25*p_1_2*Ω_2_1*ω_1 - 0.25*p_1_2*Ω_2_1*ω_2 - 0.25*p_2_1**2*Ω_1_2**2 - 0.375*I*p_2_1*Ω_1_2*γ_1_2 + 0.25*p_2_1*Ω_1_2*ω_1 - 0.25*p_2_1*Ω_1_2*ω_2 + 0.25*Ω_1_2*Ω_2_1 + 0.25*γ_1_2**2)**0.5]]))\n"
     ]
    }
   ],
   "source": [
    "eigs = dρ.diagonalize()\n",
    "print(eigs)"
   ]
  },
  {
   "cell_type": "code",
   "execution_count": 8,
   "id": "163288bc-b333-48c0-9972-39f732436b12",
   "metadata": {},
   "outputs": [
    {
     "data": {
      "text/latex": [
       "$\\displaystyle \\left[\\begin{matrix}γ_{1 2} \\left(1 - p_{1 1}\\right) - 1.0 i \\left(- p_{1 2} Ω_{2 1} + p_{2 1} Ω_{1 2}\\right)\\\\- 0.5 p_{1 2} γ_{1 2} - 1.0 i \\left(- p_{1 1} Ω_{1 2} + p_{1 2} ω_{1} - p_{1 2} ω_{2} + Ω_{1 2} \\left(1 - p_{1 1}\\right)\\right)\\\\- 0.5 p_{2 1} γ_{1 2} - 1.0 i \\left(p_{1 1} Ω_{2 1} - p_{2 1} ω_{1} + p_{2 1} ω_{2} - Ω_{2 1} \\left(1 - p_{1 1}\\right)\\right)\\\\γ_{1 2} \\left(1.0 p_{1 1} - 1.0\\right) - 1.0 i \\left(p_{1 2} Ω_{2 1} - p_{2 1} Ω_{1 2}\\right)\\end{matrix}\\right]$"
      ],
      "text/plain": [
       "Matrix([\n",
       "[                             γ_1_2*(1 - p_1_1) - 1.0*I*(-p_1_2*Ω_2_1 + p_2_1*Ω_1_2)],\n",
       "[-0.5*p_1_2*γ_1_2 - 1.0*I*(-p_1_1*Ω_1_2 + p_1_2*ω_1 - p_1_2*ω_2 + Ω_1_2*(1 - p_1_1))],\n",
       "[ -0.5*p_2_1*γ_1_2 - 1.0*I*(p_1_1*Ω_2_1 - p_2_1*ω_1 + p_2_1*ω_2 - Ω_2_1*(1 - p_1_1))],\n",
       "[                        γ_1_2*(1.0*p_1_1 - 1.0) - 1.0*I*(p_1_2*Ω_2_1 - p_2_1*Ω_1_2)]])"
      ]
     },
     "execution_count": 8,
     "metadata": {},
     "output_type": "execute_result"
    }
   ],
   "source": [
    "dρ_vec = dρ.reshape(4, 1)\n",
    "dρ_vec"
   ]
  },
  {
   "cell_type": "code",
   "execution_count": 9,
   "id": "9ded2da0-c286-4902-8453-93745ae84354",
   "metadata": {},
   "outputs": [
    {
     "data": {
      "text/plain": [
       "{p_1_1: (4.0*Ω_1_2*Ω_2_1 + γ_1_2**2 + 4.0*ω_1**2 - 8.0*ω_1*ω_2 + 4.0*ω_2**2)/(8.0*Ω_1_2*Ω_2_1 + γ_1_2**2 + 4.0*ω_1**2 - 8.0*ω_1*ω_2 + 4.0*ω_2**2),\n",
       " p_1_2: (2.0*I*Ω_1_2*γ_1_2 + 4.0*Ω_1_2*ω_1 - 4.0*Ω_1_2*ω_2)/(8.0*Ω_1_2*Ω_2_1 + γ_1_2**2 + 4.0*ω_1**2 - 8.0*ω_1*ω_2 + 4.0*ω_2**2),\n",
       " p_2_1: (-2.0*I*Ω_2_1*γ_1_2 + 4.0*Ω_2_1*ω_1 - 4.0*Ω_2_1*ω_2)/(8.0*Ω_1_2*Ω_2_1 + γ_1_2**2 + 4.0*ω_1**2 - 8.0*ω_1*ω_2 + 4.0*ω_2**2)}"
      ]
     },
     "execution_count": 9,
     "metadata": {},
     "output_type": "execute_result"
    }
   ],
   "source": [
    "# Now try to solve for the steady state\n",
    "res = sym.solve(dρ_vec, [p11, p12, p21, p22])\n",
    "res"
   ]
  },
  {
   "cell_type": "code",
   "execution_count": 10,
   "id": "d11da653-fe8e-4133-8712-e9943b19c360",
   "metadata": {},
   "outputs": [
    {
     "data": {
      "text/latex": [
       "$\\displaystyle \\frac{4.0 Ω_{1 2} Ω_{2 1} + γ_{1 2}^{2} + 4.0 ω_{1}^{2} - 8.0 ω_{1} ω_{2} + 4.0 ω_{2}^{2}}{8.0 Ω_{1 2} Ω_{2 1} + γ_{1 2}^{2} + 4.0 ω_{1}^{2} - 8.0 ω_{1} ω_{2} + 4.0 ω_{2}^{2}}$"
      ],
      "text/plain": [
       "(4.0*Ω_1_2*Ω_2_1 + γ_1_2**2 + 4.0*ω_1**2 - 8.0*ω_1*ω_2 + 4.0*ω_2**2)/(8.0*Ω_1_2*Ω_2_1 + γ_1_2**2 + 4.0*ω_1**2 - 8.0*ω_1*ω_2 + 4.0*ω_2**2)"
      ]
     },
     "execution_count": 10,
     "metadata": {},
     "output_type": "execute_result"
    }
   ],
   "source": [
    "# We can now print the solutions\n",
    "res[p11]"
   ]
  },
  {
   "cell_type": "code",
   "execution_count": 11,
   "id": "ccb1d1f4-c4c3-4bed-b619-63af757303fc",
   "metadata": {},
   "outputs": [
    {
     "data": {
      "text/latex": [
       "$\\displaystyle \\frac{2.0 i Ω_{1 2} γ_{1 2} + 4.0 Ω_{1 2} ω_{1} - 4.0 Ω_{1 2} ω_{2}}{8.0 Ω_{1 2} Ω_{2 1} + γ_{1 2}^{2} + 4.0 ω_{1}^{2} - 8.0 ω_{1} ω_{2} + 4.0 ω_{2}^{2}}$"
      ],
      "text/plain": [
       "(2.0*I*Ω_1_2*γ_1_2 + 4.0*Ω_1_2*ω_1 - 4.0*Ω_1_2*ω_2)/(8.0*Ω_1_2*Ω_2_1 + γ_1_2**2 + 4.0*ω_1**2 - 8.0*ω_1*ω_2 + 4.0*ω_2**2)"
      ]
     },
     "execution_count": 11,
     "metadata": {},
     "output_type": "execute_result"
    }
   ],
   "source": [
    "res[p12]"
   ]
  },
  {
   "cell_type": "code",
   "execution_count": 12,
   "id": "1330ee46-501f-4447-877a-57fa710e0f1b",
   "metadata": {},
   "outputs": [
    {
     "data": {
      "text/latex": [
       "$\\displaystyle \\frac{- 2.0 i Ω_{2 1} γ_{1 2} + 4.0 Ω_{2 1} ω_{1} - 4.0 Ω_{2 1} ω_{2}}{8.0 Ω_{1 2} Ω_{2 1} + γ_{1 2}^{2} + 4.0 ω_{1}^{2} - 8.0 ω_{1} ω_{2} + 4.0 ω_{2}^{2}}$"
      ],
      "text/plain": [
       "(-2.0*I*Ω_2_1*γ_1_2 + 4.0*Ω_2_1*ω_1 - 4.0*Ω_2_1*ω_2)/(8.0*Ω_1_2*Ω_2_1 + γ_1_2**2 + 4.0*ω_1**2 - 8.0*ω_1*ω_2 + 4.0*ω_2**2)"
      ]
     },
     "execution_count": 12,
     "metadata": {},
     "output_type": "execute_result"
    }
   ],
   "source": [
    "res[p21]"
   ]
  },
  {
   "cell_type": "markdown",
   "id": "3381278c-29ae-4735-aaf7-bcb0af31bb5f",
   "metadata": {},
   "source": [
    "Interestingly, it seems that the only way to reach the steady state solution is to have a non-zero population in the excited state.  Also worth noting that it provides no solution for p22.  I might have missed something in setting up the system"
   ]
  },
  {
   "cell_type": "code",
   "execution_count": 13,
   "id": "935478c9d34f6580",
   "metadata": {},
   "outputs": [],
   "source": [
    "# We can also turn the symbolic expressions into numerical ones using lambdify\n",
    "dp_rhs = sym.lambdify([p11, p12, p21, p22, ω1, ω2, Ω12, Ω21, γ12], dρ_vec)"
   ]
  },
  {
   "cell_type": "code",
   "execution_count": 14,
   "id": "e985c9116550a94",
   "metadata": {},
   "outputs": [],
   "source": [
    "# Then we can use the Euler method to get an approximate solution to the derivative\n",
    "# Define time range\n",
    "t, dt = np.linspace(0, 1, 100, retstep=True)\n",
    "\n",
    "# Define starting parameters - we'll assume we start entirely in the ground state\n",
    "p11_iv = 1\n",
    "p12_iv, p21_iv, p22_iv = 0, 0, 0\n",
    "ω1_val = 10\n",
    "ω2_val = 15\n",
    "γ12_val = 5\n",
    "Ω12_val = 10\n",
    "Ω21_val = Ω12_val"
   ]
  },
  {
   "cell_type": "code",
   "execution_count": 15,
   "id": "52135c247dc163ba",
   "metadata": {},
   "outputs": [],
   "source": [
    "# Now apply Euler method\n",
    "p_vals = np.zeros((t.shape[0], 4, 1), dtype=complex)\n",
    "p_curr = np.array([[p11_iv], [p12_iv], [p21_iv], [p22_iv]], dtype=complex)\n",
    "for i in range(t.shape[0]):\n",
    "    p_vals[i] = p_curr\n",
    "    p_next = p_curr + dt * dp_rhs(p_vals[i, 0, 0], p_vals[i, 1, 0], p_vals[i, 2, 0], p_vals[i, 3, 0], ω1_val, ω2_val, Ω12_val, Ω21_val, γ12_val)\n",
    "    p_curr = p_next"
   ]
  },
  {
   "cell_type": "code",
   "execution_count": 16,
   "id": "c963dcb7af9d4299",
   "metadata": {},
   "outputs": [
    {
     "name": "stderr",
     "output_type": "stream",
     "text": [
      "/home/jacob/anaconda3/envs/mode_cooling/lib/python3.11/site-packages/matplotlib/cbook.py:1699: ComplexWarning: Casting complex values to real discards the imaginary part\n",
      "  return math.isfinite(val)\n",
      "/home/jacob/anaconda3/envs/mode_cooling/lib/python3.11/site-packages/matplotlib/cbook.py:1345: ComplexWarning: Casting complex values to real discards the imaginary part\n",
      "  return np.asarray(x, float)\n"
     ]
    },
    {
     "data": {
      "image/png": "[encoded data removed]",
      "text/plain": [
       "<Figure size 640x480 with 1 Axes>"
      ]
     },
     "metadata": {},
     "output_type": "display_data"
    }
   ],
   "source": [
    "plt.plot(t, p_vals.T[0, 0], label='$\\\\rho_{11}$')\n",
    "plt.plot(t, p_vals.T[0, 1], label='$\\\\rho_{12}$')\n",
    "plt.plot(t, p_vals.T[0, 2], label='$\\\\rho_{21}$')\n",
    "plt.plot(t, p_vals.T[0, 3], label='$\\\\rho_{22}$')\n",
    "plt.plot(t, p_vals.T[0, 0]+p_vals.T[0, 3], color='k')\n",
    "plt.xlabel(\"$t$\")\n",
    "plt.ylabel(\"$\\\\rho_{ij}$\")\n",
    "plt.legend()\n",
    "plt.savefig(\"two_level_example_evol.png\", format='png', dpi=300)"
   ]
  },
  {
   "cell_type": "markdown",
   "id": "1b14f984-14d0-4f4c-9fa6-34885d3f800e",
   "metadata": {},
   "source": [
    "We want to try working with the vectorized master equation to see if we can obtain the steady state solution numerically."
   ]
  },
  {
   "cell_type": "code",
   "execution_count": 17,
   "id": "8de1ae95-c6e8-4d23-b865-05f1324f7e67",
   "metadata": {},
   "outputs": [],
   "source": [
    "# Define identity matrix\n",
    "iden = sym.eye(2)\n",
    "\n",
    "# Define 'vectorized' version of liouvillian\n",
    "A = γ12 * sym.tensorproduct(σ12, σ12.conjugate())\n",
    "B = γ12 / 2 * (sym.tensorproduct(σ12.H @ σ12, iden) + sym.tensorproduct(iden, (σ12.H @ σ12).T))\n",
    "L = -1j * (sym.tensorproduct(H, iden) - sym.tensorproduct(iden, H.T)) + A - B"
   ]
  },
  {
   "cell_type": "code",
   "execution_count": 18,
   "id": "9fc303e0-bc28-45ee-8da7-40b9befffe02",
   "metadata": {},
   "outputs": [
    {
     "data": {
      "text/latex": [
       "$\\displaystyle \\left[\\begin{matrix}\\left[\\begin{matrix}0 & 1.0 i Ω_{2 1}\\\\1.0 i Ω_{1 2} & - \\frac{γ_{1 2}}{2} - 1.0 i \\left(ω_{1} - ω_{2}\\right)\\end{matrix}\\right] & \\left[\\begin{matrix}- 1.0 i Ω_{1 2} & γ_{1 2}\\\\0 & - 1.0 i Ω_{1 2}\\end{matrix}\\right]\\\\\\left[\\begin{matrix}- 1.0 i Ω_{2 1} & 0\\\\0 & - 1.0 i Ω_{2 1}\\end{matrix}\\right] & \\left[\\begin{matrix}- \\frac{γ_{1 2}}{2} - 1.0 i \\left(- ω_{1} + ω_{2}\\right) & 1.0 i Ω_{2 1}\\\\1.0 i Ω_{1 2} & - γ_{1 2}\\end{matrix}\\right]\\end{matrix}\\right]$"
      ],
      "text/plain": [
       "[[[[0, 1.0*I*Ω_2_1], [1.0*I*Ω_1_2, -γ_1_2/2 - 1.0*I*(ω_1 - ω_2)]], [[-1.0*I*Ω_1_2, γ_1_2], [0, -1.0*I*Ω_1_2]]], [[[-1.0*I*Ω_2_1, 0], [0, -1.0*I*Ω_2_1]], [[-γ_1_2/2 - 1.0*I*(-ω_1 + ω_2), 1.0*I*Ω_2_1], [1.0*I*Ω_1_2, -γ_1_2]]]]"
      ]
     },
     "execution_count": 18,
     "metadata": {},
     "output_type": "execute_result"
    }
   ],
   "source": [
    "L"
   ]
  },
  {
   "cell_type": "code",
   "execution_count": 25,
   "id": "520bec6d-b39a-4380-8fef-29f34abfbaa4",
   "metadata": {},
   "outputs": [],
   "source": [
    "dum = sym.permutedims(L, (1, 0, 2, 3))"
   ]
  },
  {
   "cell_type": "code",
   "execution_count": 26,
   "id": "91b08db5-2f03-4fc6-9359-724b7a4fe258",
   "metadata": {},
   "outputs": [
    {
     "data": {
      "text/latex": [
       "$\\displaystyle \\left[\\begin{matrix}\\left[\\begin{matrix}0 & 1.0 i Ω_{2 1}\\\\1.0 i Ω_{1 2} & - \\frac{γ_{1 2}}{2} - 1.0 i \\left(ω_{1} - ω_{2}\\right)\\end{matrix}\\right] & \\left[\\begin{matrix}- 1.0 i Ω_{2 1} & 0\\\\0 & - 1.0 i Ω_{2 1}\\end{matrix}\\right]\\\\\\left[\\begin{matrix}- 1.0 i Ω_{1 2} & γ_{1 2}\\\\0 & - 1.0 i Ω_{1 2}\\end{matrix}\\right] & \\left[\\begin{matrix}- \\frac{γ_{1 2}}{2} - 1.0 i \\left(- ω_{1} + ω_{2}\\right) & 1.0 i Ω_{2 1}\\\\1.0 i Ω_{1 2} & - γ_{1 2}\\end{matrix}\\right]\\end{matrix}\\right]$"
      ],
      "text/plain": [
       "[[[[0, 1.0*I*Ω_2_1], [1.0*I*Ω_1_2, -γ_1_2/2 - 1.0*I*(ω_1 - ω_2)]], [[-1.0*I*Ω_2_1, 0], [0, -1.0*I*Ω_2_1]]], [[[-1.0*I*Ω_1_2, γ_1_2], [0, -1.0*I*Ω_1_2]], [[-γ_1_2/2 - 1.0*I*(-ω_1 + ω_2), 1.0*I*Ω_2_1], [1.0*I*Ω_1_2, -γ_1_2]]]]"
      ]
     },
     "execution_count": 26,
     "metadata": {},
     "output_type": "execute_result"
    }
   ],
   "source": [
    "dum"
   ]
  },
  {
   "cell_type": "code",
   "execution_count": 36,
   "id": "82ad61a5-14b0-46b3-a0cc-2b912477e13a",
   "metadata": {},
   "outputs": [
    {
     "data": {
      "text/latex": [
       "$\\displaystyle \\left[\\begin{matrix}1.0 i p_{1 2} Ω_{2 1} - 1.0 i p_{2 1} Ω_{1 2} + γ_{1 2} \\left(1 - p_{1 1}\\right)\\\\1.0 i p_{1 1} Ω_{1 2} + p_{1 2} \\left(- \\frac{γ_{1 2}}{2} - 1.0 i \\left(ω_{1} - ω_{2}\\right)\\right) - 1.0 i Ω_{1 2} \\left(1 - p_{1 1}\\right)\\\\- 1.0 i p_{1 1} Ω_{2 1} + p_{2 1} \\left(- \\frac{γ_{1 2}}{2} - 1.0 i \\left(- ω_{1} + ω_{2}\\right)\\right) + 1.0 i Ω_{2 1} \\left(1 - p_{1 1}\\right)\\\\- 1.0 i p_{1 2} Ω_{2 1} + 1.0 i p_{2 1} Ω_{1 2} - γ_{1 2} \\left(1 - p_{1 1}\\right)\\end{matrix}\\right]$"
      ],
      "text/plain": [
       "Matrix([\n",
       "[                           1.0*I*p_1_2*Ω_2_1 - 1.0*I*p_2_1*Ω_1_2 + γ_1_2*(1 - p_1_1)],\n",
       "[  1.0*I*p_1_1*Ω_1_2 + p_1_2*(-γ_1_2/2 - 1.0*I*(ω_1 - ω_2)) - 1.0*I*Ω_1_2*(1 - p_1_1)],\n",
       "[-1.0*I*p_1_1*Ω_2_1 + p_2_1*(-γ_1_2/2 - 1.0*I*(-ω_1 + ω_2)) + 1.0*I*Ω_2_1*(1 - p_1_1)],\n",
       "[                          -1.0*I*p_1_2*Ω_2_1 + 1.0*I*p_2_1*Ω_1_2 - γ_1_2*(1 - p_1_1)]])"
      ]
     },
     "execution_count": 36,
     "metadata": {},
     "output_type": "execute_result"
    }
   ],
   "source": [
    "test = []\n",
    "for i in range(2):\n",
    "    for j in range(2):\n",
    "        temp = []\n",
    "        for k in range(2):\n",
    "            for l in range(2):\n",
    "                temp.append(dum[k][i][j][l])\n",
    "        test.append(temp)\n",
    "m = sym.Matrix(test)\n",
    "a = m @ ρ.reshape(4, 1)\n",
    "a"
   ]
  },
  {
   "cell_type": "code",
   "execution_count": 37,
   "id": "919cf320-a68d-4f9d-968e-5a58117931b3",
   "metadata": {},
   "outputs": [
    {
     "data": {
      "text/latex": [
       "$\\displaystyle \\left[\\begin{matrix}γ_{1 2} \\left(1 - p_{1 1}\\right) - 1.0 i \\left(- p_{1 2} Ω_{2 1} + p_{2 1} Ω_{1 2}\\right)\\\\- 0.5 p_{1 2} γ_{1 2} - 1.0 i \\left(- p_{1 1} Ω_{1 2} + p_{1 2} ω_{1} - p_{1 2} ω_{2} + Ω_{1 2} \\left(1 - p_{1 1}\\right)\\right)\\\\- 0.5 p_{2 1} γ_{1 2} - 1.0 i \\left(p_{1 1} Ω_{2 1} - p_{2 1} ω_{1} + p_{2 1} ω_{2} - Ω_{2 1} \\left(1 - p_{1 1}\\right)\\right)\\\\γ_{1 2} \\left(1.0 p_{1 1} - 1.0\\right) - 1.0 i \\left(p_{1 2} Ω_{2 1} - p_{2 1} Ω_{1 2}\\right)\\end{matrix}\\right]$"
      ],
      "text/plain": [
       "Matrix([\n",
       "[                             γ_1_2*(1 - p_1_1) - 1.0*I*(-p_1_2*Ω_2_1 + p_2_1*Ω_1_2)],\n",
       "[-0.5*p_1_2*γ_1_2 - 1.0*I*(-p_1_1*Ω_1_2 + p_1_2*ω_1 - p_1_2*ω_2 + Ω_1_2*(1 - p_1_1))],\n",
       "[ -0.5*p_2_1*γ_1_2 - 1.0*I*(p_1_1*Ω_2_1 - p_2_1*ω_1 + p_2_1*ω_2 - Ω_2_1*(1 - p_1_1))],\n",
       "[                        γ_1_2*(1.0*p_1_1 - 1.0) - 1.0*I*(p_1_2*Ω_2_1 - p_2_1*Ω_1_2)]])"
      ]
     },
     "execution_count": 37,
     "metadata": {},
     "output_type": "execute_result"
    }
   ],
   "source": [
    "b = dρ.reshape(4, 1)\n",
    "b"
   ]
  },
  {
   "cell_type": "code",
   "execution_count": 29,
   "id": "962b3dda-db6f-4a41-9084-501e8a26005a",
   "metadata": {},
   "outputs": [
    {
     "data": {
      "text/latex": [
       "$\\displaystyle \\left[\\begin{matrix}0\\\\0\\\\0\\\\0\\end{matrix}\\right]$"
      ],
      "text/plain": [
       "Matrix([\n",
       "[0],\n",
       "[0],\n",
       "[0],\n",
       "[0]])"
      ]
     },
     "execution_count": 29,
     "metadata": {},
     "output_type": "execute_result"
    }
   ],
   "source": [
    "sym.simplify(a - b)"
   ]
  },
  {
   "cell_type": "code",
   "execution_count": 34,
   "id": "b72b7297-1767-4534-9816-41d71ffe29ba",
   "metadata": {},
   "outputs": [
    {
     "data": {
      "text/plain": [
       "EigResult(eigenvalues=array([-3.67641063e+00-2.05735212e+01j, -3.67641063e+00+2.05735212e+01j,\n",
       "       -4.20167474e-16-1.62554081e-18j, -2.64717874e+00+1.29414015e-16j]), eigenvectors=array([[ 0.48368087-3.65368443e-02j,  0.48368087+3.65368443e-02j,\n",
       "         0.71734633+0.00000000e+00j, -0.17149421+5.04806060e-03j],\n",
       "       [-0.37877983+1.11496679e-02j,  0.62115801+0.00000000e+00j,\n",
       "        -0.27327479+1.36637397e-01j,  0.68597686+0.00000000e+00j],\n",
       "       [ 0.62115801+0.00000000e+00j, -0.37877983-1.11496679e-02j,\n",
       "        -0.27327479-1.36637397e-01j,  0.68478914-4.03495234e-02j],\n",
       "       [-0.48368087+3.65368443e-02j, -0.48368087-3.65368443e-02j,\n",
       "         0.54654959+1.00943006e-16j,  0.17149421-5.04806060e-03j]]))"
      ]
     },
     "execution_count": 34,
     "metadata": {},
     "output_type": "execute_result"
    }
   ],
   "source": [
    "# Now diagonalize m\n",
    "m_fun = sym.lambdify([p11, p12, p21, p22, ω1, ω2, Ω12, Ω21, γ12], m)\n",
    "\n",
    "m_val = m_fun(1, 0, 0, 0, ω1_val, ω2_val, Ω12_val, Ω21_val, γ12_val)\n",
    "eigs = np.linalg.eig(m_val)\n",
    "eigs"
   ]
  },
  {
   "cell_type": "code",
   "execution_count": 44,
   "id": "79962ccf-9d59-4d3b-b6f7-9cfb5a639859",
   "metadata": {},
   "outputs": [
    {
     "data": {
      "text/plain": [
       "((-4.201674743532709e-16-1.6255408057314424e-18j),\n",
       " array([ 0.71734633+0.00000000e+00j, -0.27327479+1.36637397e-01j,\n",
       "        -0.27327479-1.36637397e-01j,  0.54654959+1.00943006e-16j]))"
      ]
     },
     "execution_count": 44,
     "metadata": {},
     "output_type": "execute_result"
    }
   ],
   "source": [
    "eigs[0][2], eigs[1][:, 2]"
   ]
  },
  {
   "cell_type": "code",
   "execution_count": 47,
   "id": "84ac8331-8df5-4cb0-8a8d-9fd2433fa700",
   "metadata": {},
   "outputs": [
    {
     "data": {
      "text/plain": [
       "array([-6.66133815e-16+4.44089210e-16j,  4.54318546e-16-1.77635684e-15j,\n",
       "       -5.65340849e-16+8.88178420e-16j,  6.66133815e-16-4.44089210e-16j])"
      ]
     },
     "execution_count": 47,
     "metadata": {},
     "output_type": "execute_result"
    }
   ],
   "source": [
    "m_val @ eigs[1][:, 2] "
   ]
  },
  {
   "cell_type": "markdown",
   "id": "788df5d9-7144-4a28-b322-b0bf0b51e907",
   "metadata": {},
   "source": [
    "## 3 Level Case\n",
    "Now we'll move on to considering a 3 level system in the same fashion.  In this case, the atom has levels $|1\\rangle, |2\\rangle, |3\\rangle$ with frequencies $\\omega_1, \\omega_2, \\omega_3$ respectively.  We consider having two lasers.  One laser incoherently drives the $|1\\rangle$ and $|2\\rangle$ transition with frequency $\\omega_{L1}$ and the other incoherently drives the $|2\\rangle$ and $|3\\rangle$ transition with frequency $\\omega_{L2}$."
   ]
  },
  {
   "cell_type": "code",
   "execution_count": 69,
   "id": "60fa70cfad2e6bc9",
   "metadata": {},
   "outputs": [],
   "source": [
    "# Start by defining our symbols\n",
    "ω1, ω2, ω3, Ω12, Ω21, Ω23, Ω32 = sym.symbols(\"ω_1, ω_2, ω_3, Ω_1_2, Ω_2_1, Ω_2_3, Ω_3_2\")\n",
    "h_sym_list = [ω1, ω2, ω3, Ω12, Ω21, Ω23, Ω32]\n",
    "p11, p12, p13, p21, p22, p23, p31, p32, p33 = sym.symbols(\"p_1_1, p_1_2, p_1_3, p_2_1, p_2_2, p_2_3, p_3_1, p_3_2, p_3_3\")\n",
    "p_sym_list = [p11, p12, p13, p21, p22, p23, p31, p32, p33]"
   ]
  },
  {
   "cell_type": "code",
   "execution_count": 70,
   "id": "8010067e5cbd8119",
   "metadata": {},
   "outputs": [],
   "source": [
    "# Define the Hamiltonian under the RWA and with zero detuning between the laser and transition\n",
    "H = sym.Matrix([[ω1, Ω12, 0], [Ω21, ω2, Ω23], [0, Ω32, ω3]])\n",
    "\n",
    "# Define the density matrix\n",
    "ρ = sym.Matrix([[p11, p12, p13], [p21, p22, p23], [p31, p32, 1 - p11 - p22]])"
   ]
  },
  {
   "cell_type": "code",
   "execution_count": 71,
   "id": "04731265-f534-45a6-bb00-e96579b86efe",
   "metadata": {},
   "outputs": [
    {
     "data": {
      "text/latex": [
       "$\\displaystyle \\left[\\begin{matrix}p_{1 1} & p_{1 2} & p_{1 3}\\\\p_{2 1} & p_{2 2} & p_{2 3}\\\\p_{3 1} & p_{3 2} & - p_{1 1} - p_{2 2} + 1\\end{matrix}\\right]$"
      ],
      "text/plain": [
       "Matrix([\n",
       "[p_1_1, p_1_2,              p_1_3],\n",
       "[p_2_1, p_2_2,              p_2_3],\n",
       "[p_3_1, p_3_2, -p_1_1 - p_2_2 + 1]])"
      ]
     },
     "execution_count": 71,
     "metadata": {},
     "output_type": "execute_result"
    }
   ],
   "source": [
    "ρ"
   ]
  },
  {
   "cell_type": "code",
   "execution_count": 72,
   "id": "eeb56c6ce1ccf292",
   "metadata": {},
   "outputs": [],
   "source": [
    "# Define the damping rate\n",
    "γ12, γ23 = sym.symbols(\"γ_1_2, γ_2_3\")\n",
    "γ_sym_list = [γ12, γ23]\n",
    "\n",
    "# Definet the jump operator\n",
    "σ12 = sym.Matrix([[0, 1, 0], [0, 0, 0], [0, 0, 0]])\n",
    "σ23 = sym.Matrix([[0, 0, 0], [0, 0, 1], [0, 0, 0]])"
   ]
  },
  {
   "cell_type": "code",
   "execution_count": 76,
   "id": "e5c36cc5f71b3ba4",
   "metadata": {},
   "outputs": [
    {
     "data": {
      "text/latex": [
       "$\\displaystyle \\left[\\begin{matrix}p_{2 2} γ_{1 2} - 1.0 i \\left(- p_{1 2} Ω_{2 1} + p_{2 1} Ω_{1 2}\\right) & - 0.5 p_{1 2} γ_{1 2} - 1.0 i \\left(- p_{1 1} Ω_{1 2} + p_{1 2} ω_{1} - p_{1 2} ω_{2} - p_{1 3} Ω_{3 2} + p_{2 2} Ω_{1 2}\\right) & - 0.5 p_{1 3} γ_{2 3} - 1.0 i \\left(- p_{1 2} Ω_{2 3} + p_{1 3} ω_{1} - p_{1 3} ω_{3} + p_{2 3} Ω_{1 2}\\right)\\\\- 0.5 p_{2 1} γ_{1 2} - 1.0 i \\left(p_{1 1} Ω_{2 1} - p_{2 1} ω_{1} + p_{2 1} ω_{2} - p_{2 2} Ω_{2 1} + p_{3 1} Ω_{2 3}\\right) & - 1.0 p_{2 2} γ_{1 2} + γ_{2 3} \\left(- p_{1 1} - p_{2 2} + 1\\right) - 1.0 i \\left(p_{1 2} Ω_{2 1} - p_{2 1} Ω_{1 2} - p_{2 3} Ω_{3 2} + p_{3 2} Ω_{2 3}\\right) & - 0.5 p_{2 3} γ_{1 2} - 0.5 p_{2 3} γ_{2 3} - 1.0 i \\left(p_{1 3} Ω_{2 1} - p_{2 2} Ω_{2 3} + p_{2 3} ω_{2} - p_{2 3} ω_{3} + Ω_{2 3} \\left(- p_{1 1} - p_{2 2} + 1\\right)\\right)\\\\- 0.5 p_{3 1} γ_{2 3} - 1.0 i \\left(p_{2 1} Ω_{3 2} - p_{3 1} ω_{1} + p_{3 1} ω_{3} - p_{3 2} Ω_{2 1}\\right) & - 0.5 p_{3 2} γ_{1 2} - 0.5 p_{3 2} γ_{2 3} - 1.0 i \\left(p_{2 2} Ω_{3 2} - p_{3 1} Ω_{1 2} - p_{3 2} ω_{2} + p_{3 2} ω_{3} - Ω_{3 2} \\left(- p_{1 1} - p_{2 2} + 1\\right)\\right) & γ_{2 3} \\left(1.0 p_{1 1} + 1.0 p_{2 2} - 1.0\\right) - 1.0 i \\left(p_{2 3} Ω_{3 2} - p_{3 2} Ω_{2 3}\\right)\\end{matrix}\\right]$"
      ],
      "text/plain": [
       "Matrix([\n",
       "[                                          p_2_2*γ_1_2 - 1.0*I*(-p_1_2*Ω_2_1 + p_2_1*Ω_1_2),                                 -0.5*p_1_2*γ_1_2 - 1.0*I*(-p_1_1*Ω_1_2 + p_1_2*ω_1 - p_1_2*ω_2 - p_1_3*Ω_3_2 + p_2_2*Ω_1_2),                                               -0.5*p_1_3*γ_2_3 - 1.0*I*(-p_1_2*Ω_2_3 + p_1_3*ω_1 - p_1_3*ω_3 + p_2_3*Ω_1_2)],\n",
       "[-0.5*p_2_1*γ_1_2 - 1.0*I*(p_1_1*Ω_2_1 - p_2_1*ω_1 + p_2_1*ω_2 - p_2_2*Ω_2_1 + p_3_1*Ω_2_3),               -1.0*p_2_2*γ_1_2 + γ_2_3*(-p_1_1 - p_2_2 + 1) - 1.0*I*(p_1_2*Ω_2_1 - p_2_1*Ω_1_2 - p_2_3*Ω_3_2 + p_3_2*Ω_2_3), -0.5*p_2_3*γ_1_2 - 0.5*p_2_3*γ_2_3 - 1.0*I*(p_1_3*Ω_2_1 - p_2_2*Ω_2_3 + p_2_3*ω_2 - p_2_3*ω_3 + Ω_2_3*(-p_1_1 - p_2_2 + 1))],\n",
       "[              -0.5*p_3_1*γ_2_3 - 1.0*I*(p_2_1*Ω_3_2 - p_3_1*ω_1 + p_3_1*ω_3 - p_3_2*Ω_2_1), -0.5*p_3_2*γ_1_2 - 0.5*p_3_2*γ_2_3 - 1.0*I*(p_2_2*Ω_3_2 - p_3_1*Ω_1_2 - p_3_2*ω_2 + p_3_2*ω_3 - Ω_3_2*(-p_1_1 - p_2_2 + 1)),                                                     γ_2_3*(1.0*p_1_1 + 1.0*p_2_2 - 1.0) - 1.0*I*(p_2_3*Ω_3_2 - p_3_2*Ω_2_3)]])"
      ]
     },
     "execution_count": 76,
     "metadata": {},
     "output_type": "execute_result"
    }
   ],
   "source": [
    "# Define the master equation\n",
    "dρ = -1j * (H @ ρ - ρ @ H) + γ12 * (σ12 @ ρ @ σ12.H - 0.5 * (σ12.H @ σ12 @ ρ + ρ @ σ12.H @ σ12)) + γ23 * (σ23 @ ρ @ σ23.H - 0.5 * (σ23.H @ σ23 @ ρ + ρ @ σ23.H @ σ23))\n",
    "dρ"
   ]
  },
  {
   "cell_type": "code",
   "execution_count": 77,
   "id": "a4b20cd4df36a1f3",
   "metadata": {},
   "outputs": [
    {
     "data": {
      "text/latex": [
       "$\\displaystyle \\left[\\begin{matrix}p_{2 2} γ_{1 2} - 1.0 i \\left(- p_{1 2} Ω_{2 1} + p_{2 1} Ω_{1 2}\\right)\\\\- 0.5 p_{1 2} γ_{1 2} - 1.0 i \\left(- p_{1 1} Ω_{1 2} + p_{1 2} ω_{1} - p_{1 2} ω_{2} - p_{1 3} Ω_{3 2} + p_{2 2} Ω_{1 2}\\right)\\\\- 0.5 p_{1 3} γ_{2 3} - 1.0 i \\left(- p_{1 2} Ω_{2 3} + p_{1 3} ω_{1} - p_{1 3} ω_{3} + p_{2 3} Ω_{1 2}\\right)\\\\- 0.5 p_{2 1} γ_{1 2} - 1.0 i \\left(p_{1 1} Ω_{2 1} - p_{2 1} ω_{1} + p_{2 1} ω_{2} - p_{2 2} Ω_{2 1} + p_{3 1} Ω_{2 3}\\right)\\\\- 1.0 p_{2 2} γ_{1 2} + γ_{2 3} \\left(- p_{1 1} - p_{2 2} + 1\\right) - 1.0 i \\left(p_{1 2} Ω_{2 1} - p_{2 1} Ω_{1 2} - p_{2 3} Ω_{3 2} + p_{3 2} Ω_{2 3}\\right)\\\\- 0.5 p_{2 3} γ_{1 2} - 0.5 p_{2 3} γ_{2 3} - 1.0 i \\left(p_{1 3} Ω_{2 1} - p_{2 2} Ω_{2 3} + p_{2 3} ω_{2} - p_{2 3} ω_{3} + Ω_{2 3} \\left(- p_{1 1} - p_{2 2} + 1\\right)\\right)\\\\- 0.5 p_{3 1} γ_{2 3} - 1.0 i \\left(p_{2 1} Ω_{3 2} - p_{3 1} ω_{1} + p_{3 1} ω_{3} - p_{3 2} Ω_{2 1}\\right)\\\\- 0.5 p_{3 2} γ_{1 2} - 0.5 p_{3 2} γ_{2 3} - 1.0 i \\left(p_{2 2} Ω_{3 2} - p_{3 1} Ω_{1 2} - p_{3 2} ω_{2} + p_{3 2} ω_{3} - Ω_{3 2} \\left(- p_{1 1} - p_{2 2} + 1\\right)\\right)\\\\γ_{2 3} \\left(1.0 p_{1 1} + 1.0 p_{2 2} - 1.0\\right) - 1.0 i \\left(p_{2 3} Ω_{3 2} - p_{3 2} Ω_{2 3}\\right)\\end{matrix}\\right]$"
      ],
      "text/plain": [
       "Matrix([\n",
       "[                                                                           p_2_2*γ_1_2 - 1.0*I*(-p_1_2*Ω_2_1 + p_2_1*Ω_1_2)],\n",
       "[                                -0.5*p_1_2*γ_1_2 - 1.0*I*(-p_1_1*Ω_1_2 + p_1_2*ω_1 - p_1_2*ω_2 - p_1_3*Ω_3_2 + p_2_2*Ω_1_2)],\n",
       "[                                              -0.5*p_1_3*γ_2_3 - 1.0*I*(-p_1_2*Ω_2_3 + p_1_3*ω_1 - p_1_3*ω_3 + p_2_3*Ω_1_2)],\n",
       "[                                 -0.5*p_2_1*γ_1_2 - 1.0*I*(p_1_1*Ω_2_1 - p_2_1*ω_1 + p_2_1*ω_2 - p_2_2*Ω_2_1 + p_3_1*Ω_2_3)],\n",
       "[              -1.0*p_2_2*γ_1_2 + γ_2_3*(-p_1_1 - p_2_2 + 1) - 1.0*I*(p_1_2*Ω_2_1 - p_2_1*Ω_1_2 - p_2_3*Ω_3_2 + p_3_2*Ω_2_3)],\n",
       "[-0.5*p_2_3*γ_1_2 - 0.5*p_2_3*γ_2_3 - 1.0*I*(p_1_3*Ω_2_1 - p_2_2*Ω_2_3 + p_2_3*ω_2 - p_2_3*ω_3 + Ω_2_3*(-p_1_1 - p_2_2 + 1))],\n",
       "[                                               -0.5*p_3_1*γ_2_3 - 1.0*I*(p_2_1*Ω_3_2 - p_3_1*ω_1 + p_3_1*ω_3 - p_3_2*Ω_2_1)],\n",
       "[-0.5*p_3_2*γ_1_2 - 0.5*p_3_2*γ_2_3 - 1.0*I*(p_2_2*Ω_3_2 - p_3_1*Ω_1_2 - p_3_2*ω_2 + p_3_2*ω_3 - Ω_3_2*(-p_1_1 - p_2_2 + 1))],\n",
       "[                                                    γ_2_3*(1.0*p_1_1 + 1.0*p_2_2 - 1.0) - 1.0*I*(p_2_3*Ω_3_2 - p_3_2*Ω_2_3)]])"
      ]
     },
     "execution_count": 77,
     "metadata": {},
     "output_type": "execute_result"
    }
   ],
   "source": [
    "dρ_vec = dρ.reshape(9, 1)\n",
    "dρ_vec"
   ]
  },
  {
   "cell_type": "code",
   "execution_count": 78,
   "id": "fa51bd6716bc5a05",
   "metadata": {},
   "outputs": [],
   "source": [
    "# We can also turn the symbolic expressions into numerical ones using lambdify\n",
    "dp_rhs = sym.lambdify(p_sym_list + h_sym_list + γ_sym_list, dρ_vec)"
   ]
  },
  {
   "cell_type": "code",
   "execution_count": 79,
   "id": "53ba9e7b0ec4368f",
   "metadata": {},
   "outputs": [],
   "source": [
    "# Then we can use the Euler method to get an approximate solution to the derivative\n",
    "# Define time range\n",
    "t, dt = np.linspace(0, 1, 100, retstep=True)\n",
    "\n",
    "# Define starting parameters - we'll assume we start entirely in the ground state\n",
    "p_iv = np.array([[1], [0], [0], [0], [0], [0], [0], [0], [0]], dtype=complex)\n",
    "ω1_val = 10\n",
    "ω2_val = 15\n",
    "ω3_val = 20\n",
    "γ12_val = 0\n",
    "γ23_val = 0\n",
    "Ω12_val = 5\n",
    "Ω21_val = Ω12_val\n",
    "Ω23_val = 5\n",
    "Ω32_val = Ω23_val"
   ]
  },
  {
   "cell_type": "code",
   "execution_count": 80,
   "id": "1ec26a7528eda970",
   "metadata": {},
   "outputs": [],
   "source": [
    "# Now apply Euler method\n",
    "p_vals = np.zeros((t.shape[0], 9, 1), dtype=complex)\n",
    "p_curr = p_iv.copy()\n",
    "for i in range(t.shape[0]):\n",
    "    p_vals[i] = p_curr\n",
    "    p_next = p_curr + dt * dp_rhs(p_vals[i, 0, 0], p_vals[i, 1, 0], p_vals[i, 2, 0], p_vals[i, 3, 0], p_vals[i, 4, 0],\n",
    "                                  p_vals[i, 5, 0], p_vals[i, 6, 0], p_vals[i, 7, 0], p_vals[i, 8, 0], ω1_val, ω2_val, ω3_val,\n",
    "                                  Ω12_val, Ω21_val, Ω23_val, Ω32_val, γ12_val, γ23_val)\n",
    "    p_curr = p_next"
   ]
  },
  {
   "cell_type": "code",
   "execution_count": 81,
   "id": "d53964de6930bd3c",
   "metadata": {},
   "outputs": [
    {
     "name": "stderr",
     "output_type": "stream",
     "text": [
      "/home/jacob/anaconda3/envs/mode_cooling/lib/python3.11/site-packages/matplotlib/cbook.py:1699: ComplexWarning: Casting complex values to real discards the imaginary part\n",
      "  return math.isfinite(val)\n",
      "/home/jacob/anaconda3/envs/mode_cooling/lib/python3.11/site-packages/matplotlib/cbook.py:1345: ComplexWarning: Casting complex values to real discards the imaginary part\n",
      "  return np.asarray(x, float)\n"
     ]
    },
    {
     "data": {
      "text/plain": [
       "<matplotlib.legend.Legend at 0x7e34d23ad750>"
      ]
     },
     "execution_count": 81,
     "metadata": {},
     "output_type": "execute_result"
    },
    {
     "data": {
      "image/png": "[encoded data removed]",
      "text/plain": [
       "<Figure size 640x480 with 1 Axes>"
      ]
     },
     "metadata": {},
     "output_type": "display_data"
    }
   ],
   "source": [
    "plt.plot(t, p_vals.T[0, 0], label='$\\\\rho_{11}$')\n",
    "plt.plot(t, p_vals.T[0, 3], label='$\\\\rho_{22}$')\n",
    "plt.plot(t, p_vals.T[0, 8], label='$\\\\rho_{33}$')\n",
    "#plt.plot(t, p_vals.T[0, 0]+p_vals.T[0, 3]+p_vals.T[0,8], color='k')\n",
    "plt.xlabel(\"$t$\")\n",
    "plt.ylabel(\"$\\\\rho_{ij}$\")\n",
    "plt.legend()"
   ]
  },
  {
   "cell_type": "markdown",
   "id": "c048fe7b-31bd-4da0-89ac-c22eaa68b110",
   "metadata": {},
   "source": [
    "We want to see if we can extend the steady state calculation to this 3 level case as well."
   ]
  },
  {
   "cell_type": "code",
   "execution_count": 82,
   "id": "89073a5c-1a5c-46e8-bb50-3cae12a2e812",
   "metadata": {},
   "outputs": [],
   "source": [
    "# Define identity matrix\n",
    "iden = sym.eye(3)\n",
    "\n",
    "# Define 'vectorized' version of liouvillian\n",
    "A = γ12 * sym.tensorproduct(σ12, σ12.conjugate())\n",
    "B = γ23 * sym.tensorproduct(σ23, σ23.conjugate())\n",
    "C = γ12 / 2 * (sym.tensorproduct(σ12.H @ σ12, iden) + sym.tensorproduct(iden, (σ12.H @ σ12).T))\n",
    "D = γ23 / 2 * (sym.tensorproduct(σ23.H @ σ23, iden) + sym.tensorproduct(iden, (σ23.H @ σ23).T))\n",
    "L = -1j * (sym.tensorproduct(H, iden) - sym.tensorproduct(iden, H.T)) + A - C + B - D "
   ]
  },
  {
   "cell_type": "code",
   "execution_count": 83,
   "id": "09788889-d8d8-48a3-a680-ba7b3d86c63d",
   "metadata": {},
   "outputs": [
    {
     "data": {
      "text/latex": [
       "$\\displaystyle \\left[\\begin{matrix}\\left[\\begin{matrix}0 & 1.0 i Ω_{2 1} & 0\\\\1.0 i Ω_{1 2} & - \\frac{γ_{1 2}}{2} - 1.0 i \\left(ω_{1} - ω_{2}\\right) & 1.0 i Ω_{3 2}\\\\0 & 1.0 i Ω_{2 3} & - \\frac{γ_{2 3}}{2} - 1.0 i \\left(ω_{1} - ω_{3}\\right)\\end{matrix}\\right] & \\left[\\begin{matrix}- 1.0 i Ω_{1 2} & γ_{1 2} & 0\\\\0 & - 1.0 i Ω_{1 2} & 0\\\\0 & 0 & - 1.0 i Ω_{1 2}\\end{matrix}\\right] & \\left[\\begin{matrix}0 & 0 & 0\\\\0 & 0 & 0\\\\0 & 0 & 0\\end{matrix}\\right]\\\\\\left[\\begin{matrix}- 1.0 i Ω_{2 1} & 0 & 0\\\\0 & - 1.0 i Ω_{2 1} & 0\\\\0 & 0 & - 1.0 i Ω_{2 1}\\end{matrix}\\right] & \\left[\\begin{matrix}- \\frac{γ_{1 2}}{2} - 1.0 i \\left(- ω_{1} + ω_{2}\\right) & 1.0 i Ω_{2 1} & 0\\\\1.0 i Ω_{1 2} & - γ_{1 2} & 1.0 i Ω_{3 2}\\\\0 & 1.0 i Ω_{2 3} & - \\frac{γ_{1 2}}{2} - \\frac{γ_{2 3}}{2} - 1.0 i \\left(ω_{2} - ω_{3}\\right)\\end{matrix}\\right] & \\left[\\begin{matrix}- 1.0 i Ω_{2 3} & 0 & 0\\\\0 & - 1.0 i Ω_{2 3} & γ_{2 3}\\\\0 & 0 & - 1.0 i Ω_{2 3}\\end{matrix}\\right]\\\\\\left[\\begin{matrix}0 & 0 & 0\\\\0 & 0 & 0\\\\0 & 0 & 0\\end{matrix}\\right] & \\left[\\begin{matrix}- 1.0 i Ω_{3 2} & 0 & 0\\\\0 & - 1.0 i Ω_{3 2} & 0\\\\0 & 0 & - 1.0 i Ω_{3 2}\\end{matrix}\\right] & \\left[\\begin{matrix}- \\frac{γ_{2 3}}{2} - 1.0 i \\left(- ω_{1} + ω_{3}\\right) & 1.0 i Ω_{2 1} & 0\\\\1.0 i Ω_{1 2} & - \\frac{γ_{1 2}}{2} - \\frac{γ_{2 3}}{2} - 1.0 i \\left(- ω_{2} + ω_{3}\\right) & 1.0 i Ω_{3 2}\\\\0 & 1.0 i Ω_{2 3} & - γ_{2 3}\\end{matrix}\\right]\\end{matrix}\\right]$"
      ],
      "text/plain": [
       "[[[[0, 1.0*I*Ω_2_1, 0], [1.0*I*Ω_1_2, -γ_1_2/2 - 1.0*I*(ω_1 - ω_2), 1.0*I*Ω_3_2], [0, 1.0*I*Ω_2_3, -γ_2_3/2 - 1.0*I*(ω_1 - ω_3)]], [[-1.0*I*Ω_1_2, γ_1_2, 0], [0, -1.0*I*Ω_1_2, 0], [0, 0, -1.0*I*Ω_1_2]], [[0, 0, 0], [0, 0, 0], [0, 0, 0]]], [[[-1.0*I*Ω_2_1, 0, 0], [0, -1.0*I*Ω_2_1, 0], [0, 0, -1.0*I*Ω_2_1]], [[-γ_1_2/2 - 1.0*I*(-ω_1 + ω_2), 1.0*I*Ω_2_1, 0], [1.0*I*Ω_1_2, -γ_1_2, 1.0*I*Ω_3_2], [0, 1.0*I*Ω_2_3, -γ_1_2/2 - γ_2_3/2 - 1.0*I*(ω_2 - ω_3)]], [[-1.0*I*Ω_2_3, 0, 0], [0, -1.0*I*Ω_2_3, γ_2_3], [0, 0, -1.0*I*Ω_2_3]]], [[[0, 0, 0], [0, 0, 0], [0, 0, 0]], [[-1.0*I*Ω_3_2, 0, 0], [0, -1.0*I*Ω_3_2, 0], [0, 0, -1.0*I*Ω_3_2]], [[-γ_2_3/2 - 1.0*I*(-ω_1 + ω_3), 1.0*I*Ω_2_1, 0], [1.0*I*Ω_1_2, -γ_1_2/2 - γ_2_3/2 - 1.0*I*(-ω_2 + ω_3), 1.0*I*Ω_3_2], [0, 1.0*I*Ω_2_3, -γ_2_3]]]]"
      ]
     },
     "execution_count": 83,
     "metadata": {},
     "output_type": "execute_result"
    }
   ],
   "source": [
    "L"
   ]
  },
  {
   "cell_type": "code",
   "execution_count": 84,
   "id": "d54ef90b-5018-480b-9cfe-4d4bf5cada31",
   "metadata": {},
   "outputs": [
    {
     "data": {
      "text/latex": [
       "$\\displaystyle \\left[\\begin{matrix}\\left[\\begin{matrix}0 & 1.0 i Ω_{2 1} & 0\\\\1.0 i Ω_{1 2} & - \\frac{γ_{1 2}}{2} - 1.0 i \\left(ω_{1} - ω_{2}\\right) & 1.0 i Ω_{3 2}\\\\0 & 1.0 i Ω_{2 3} & - \\frac{γ_{2 3}}{2} - 1.0 i \\left(ω_{1} - ω_{3}\\right)\\end{matrix}\\right] & \\left[\\begin{matrix}- 1.0 i Ω_{2 1} & 0 & 0\\\\0 & - 1.0 i Ω_{2 1} & 0\\\\0 & 0 & - 1.0 i Ω_{2 1}\\end{matrix}\\right] & \\left[\\begin{matrix}0 & 0 & 0\\\\0 & 0 & 0\\\\0 & 0 & 0\\end{matrix}\\right]\\\\\\left[\\begin{matrix}- 1.0 i Ω_{1 2} & γ_{1 2} & 0\\\\0 & - 1.0 i Ω_{1 2} & 0\\\\0 & 0 & - 1.0 i Ω_{1 2}\\end{matrix}\\right] & \\left[\\begin{matrix}- \\frac{γ_{1 2}}{2} - 1.0 i \\left(- ω_{1} + ω_{2}\\right) & 1.0 i Ω_{2 1} & 0\\\\1.0 i Ω_{1 2} & - γ_{1 2} & 1.0 i Ω_{3 2}\\\\0 & 1.0 i Ω_{2 3} & - \\frac{γ_{1 2}}{2} - \\frac{γ_{2 3}}{2} - 1.0 i \\left(ω_{2} - ω_{3}\\right)\\end{matrix}\\right] & \\left[\\begin{matrix}- 1.0 i Ω_{3 2} & 0 & 0\\\\0 & - 1.0 i Ω_{3 2} & 0\\\\0 & 0 & - 1.0 i Ω_{3 2}\\end{matrix}\\right]\\\\\\left[\\begin{matrix}0 & 0 & 0\\\\0 & 0 & 0\\\\0 & 0 & 0\\end{matrix}\\right] & \\left[\\begin{matrix}- 1.0 i Ω_{2 3} & 0 & 0\\\\0 & - 1.0 i Ω_{2 3} & γ_{2 3}\\\\0 & 0 & - 1.0 i Ω_{2 3}\\end{matrix}\\right] & \\left[\\begin{matrix}- \\frac{γ_{2 3}}{2} - 1.0 i \\left(- ω_{1} + ω_{3}\\right) & 1.0 i Ω_{2 1} & 0\\\\1.0 i Ω_{1 2} & - \\frac{γ_{1 2}}{2} - \\frac{γ_{2 3}}{2} - 1.0 i \\left(- ω_{2} + ω_{3}\\right) & 1.0 i Ω_{3 2}\\\\0 & 1.0 i Ω_{2 3} & - γ_{2 3}\\end{matrix}\\right]\\end{matrix}\\right]$"
      ],
      "text/plain": [
       "[[[[0, 1.0*I*Ω_2_1, 0], [1.0*I*Ω_1_2, -γ_1_2/2 - 1.0*I*(ω_1 - ω_2), 1.0*I*Ω_3_2], [0, 1.0*I*Ω_2_3, -γ_2_3/2 - 1.0*I*(ω_1 - ω_3)]], [[-1.0*I*Ω_2_1, 0, 0], [0, -1.0*I*Ω_2_1, 0], [0, 0, -1.0*I*Ω_2_1]], [[0, 0, 0], [0, 0, 0], [0, 0, 0]]], [[[-1.0*I*Ω_1_2, γ_1_2, 0], [0, -1.0*I*Ω_1_2, 0], [0, 0, -1.0*I*Ω_1_2]], [[-γ_1_2/2 - 1.0*I*(-ω_1 + ω_2), 1.0*I*Ω_2_1, 0], [1.0*I*Ω_1_2, -γ_1_2, 1.0*I*Ω_3_2], [0, 1.0*I*Ω_2_3, -γ_1_2/2 - γ_2_3/2 - 1.0*I*(ω_2 - ω_3)]], [[-1.0*I*Ω_3_2, 0, 0], [0, -1.0*I*Ω_3_2, 0], [0, 0, -1.0*I*Ω_3_2]]], [[[0, 0, 0], [0, 0, 0], [0, 0, 0]], [[-1.0*I*Ω_2_3, 0, 0], [0, -1.0*I*Ω_2_3, γ_2_3], [0, 0, -1.0*I*Ω_2_3]], [[-γ_2_3/2 - 1.0*I*(-ω_1 + ω_3), 1.0*I*Ω_2_1, 0], [1.0*I*Ω_1_2, -γ_1_2/2 - γ_2_3/2 - 1.0*I*(-ω_2 + ω_3), 1.0*I*Ω_3_2], [0, 1.0*I*Ω_2_3, -γ_2_3]]]]"
      ]
     },
     "execution_count": 84,
     "metadata": {},
     "output_type": "execute_result"
    }
   ],
   "source": [
    "dum = sym.permutedims(L, (1, 0, 2, 3))\n",
    "dum"
   ]
  },
  {
   "cell_type": "code",
   "execution_count": 85,
   "id": "9ec75eb5-b452-4343-bcd5-439f4bb53511",
   "metadata": {},
   "outputs": [
    {
     "data": {
      "text/latex": [
       "$\\displaystyle \\left[\\begin{matrix}0 & 1.0 i Ω_{2 1} & 0 & - 1.0 i Ω_{1 2} & γ_{1 2} & 0 & 0 & 0 & 0\\\\1.0 i Ω_{1 2} & - \\frac{γ_{1 2}}{2} - 1.0 i \\left(ω_{1} - ω_{2}\\right) & 1.0 i Ω_{3 2} & 0 & - 1.0 i Ω_{1 2} & 0 & 0 & 0 & 0\\\\0 & 1.0 i Ω_{2 3} & - \\frac{γ_{2 3}}{2} - 1.0 i \\left(ω_{1} - ω_{3}\\right) & 0 & 0 & - 1.0 i Ω_{1 2} & 0 & 0 & 0\\\\- 1.0 i Ω_{2 1} & 0 & 0 & - \\frac{γ_{1 2}}{2} - 1.0 i \\left(- ω_{1} + ω_{2}\\right) & 1.0 i Ω_{2 1} & 0 & - 1.0 i Ω_{2 3} & 0 & 0\\\\0 & - 1.0 i Ω_{2 1} & 0 & 1.0 i Ω_{1 2} & - γ_{1 2} & 1.0 i Ω_{3 2} & 0 & - 1.0 i Ω_{2 3} & γ_{2 3}\\\\0 & 0 & - 1.0 i Ω_{2 1} & 0 & 1.0 i Ω_{2 3} & - \\frac{γ_{1 2}}{2} - \\frac{γ_{2 3}}{2} - 1.0 i \\left(ω_{2} - ω_{3}\\right) & 0 & 0 & - 1.0 i Ω_{2 3}\\\\0 & 0 & 0 & - 1.0 i Ω_{3 2} & 0 & 0 & - \\frac{γ_{2 3}}{2} - 1.0 i \\left(- ω_{1} + ω_{3}\\right) & 1.0 i Ω_{2 1} & 0\\\\0 & 0 & 0 & 0 & - 1.0 i Ω_{3 2} & 0 & 1.0 i Ω_{1 2} & - \\frac{γ_{1 2}}{2} - \\frac{γ_{2 3}}{2} - 1.0 i \\left(- ω_{2} + ω_{3}\\right) & 1.0 i Ω_{3 2}\\\\0 & 0 & 0 & 0 & 0 & - 1.0 i Ω_{3 2} & 0 & 1.0 i Ω_{2 3} & - γ_{2 3}\\end{matrix}\\right]$"
      ],
      "text/plain": [
       "Matrix([\n",
       "[           0,                  1.0*I*Ω_2_1,                            0,                  -1.0*I*Ω_1_2,        γ_1_2,                                      0,                             0,                                       0,            0],\n",
       "[ 1.0*I*Ω_1_2, -γ_1_2/2 - 1.0*I*(ω_1 - ω_2),                  1.0*I*Ω_3_2,                             0, -1.0*I*Ω_1_2,                                      0,                             0,                                       0,            0],\n",
       "[           0,                  1.0*I*Ω_2_3, -γ_2_3/2 - 1.0*I*(ω_1 - ω_3),                             0,            0,                           -1.0*I*Ω_1_2,                             0,                                       0,            0],\n",
       "[-1.0*I*Ω_2_1,                            0,                            0, -γ_1_2/2 - 1.0*I*(-ω_1 + ω_2),  1.0*I*Ω_2_1,                                      0,                  -1.0*I*Ω_2_3,                                       0,            0],\n",
       "[           0,                 -1.0*I*Ω_2_1,                            0,                   1.0*I*Ω_1_2,       -γ_1_2,                            1.0*I*Ω_3_2,                             0,                            -1.0*I*Ω_2_3,        γ_2_3],\n",
       "[           0,                            0,                 -1.0*I*Ω_2_1,                             0,  1.0*I*Ω_2_3, -γ_1_2/2 - γ_2_3/2 - 1.0*I*(ω_2 - ω_3),                             0,                                       0, -1.0*I*Ω_2_3],\n",
       "[           0,                            0,                            0,                  -1.0*I*Ω_3_2,            0,                                      0, -γ_2_3/2 - 1.0*I*(-ω_1 + ω_3),                             1.0*I*Ω_2_1,            0],\n",
       "[           0,                            0,                            0,                             0, -1.0*I*Ω_3_2,                                      0,                   1.0*I*Ω_1_2, -γ_1_2/2 - γ_2_3/2 - 1.0*I*(-ω_2 + ω_3),  1.0*I*Ω_3_2],\n",
       "[           0,                            0,                            0,                             0,            0,                           -1.0*I*Ω_3_2,                             0,                             1.0*I*Ω_2_3,       -γ_2_3]])"
      ]
     },
     "execution_count": 85,
     "metadata": {},
     "output_type": "execute_result"
    }
   ],
   "source": [
    "m"
   ]
  },
  {
   "cell_type": "code",
   "execution_count": 86,
   "id": "c3aba7ae-8c2a-4763-972f-d14d81934972",
   "metadata": {},
   "outputs": [
    {
     "data": {
      "text/latex": [
       "$\\displaystyle \\left[\\begin{matrix}1.0 i p_{1 2} Ω_{2 1} - 1.0 i p_{2 1} Ω_{1 2} + p_{2 2} γ_{1 2}\\\\1.0 i p_{1 1} Ω_{1 2} + p_{1 2} \\left(- \\frac{γ_{1 2}}{2} - 1.0 i \\left(ω_{1} - ω_{2}\\right)\\right) + 1.0 i p_{1 3} Ω_{3 2} - 1.0 i p_{2 2} Ω_{1 2}\\\\1.0 i p_{1 2} Ω_{2 3} + p_{1 3} \\left(- \\frac{γ_{2 3}}{2} - 1.0 i \\left(ω_{1} - ω_{3}\\right)\\right) - 1.0 i p_{2 3} Ω_{1 2}\\\\- 1.0 i p_{1 1} Ω_{2 1} + p_{2 1} \\left(- \\frac{γ_{1 2}}{2} - 1.0 i \\left(- ω_{1} + ω_{2}\\right)\\right) + 1.0 i p_{2 2} Ω_{2 1} - 1.0 i p_{3 1} Ω_{2 3}\\\\- 1.0 i p_{1 2} Ω_{2 1} + 1.0 i p_{2 1} Ω_{1 2} - p_{2 2} γ_{1 2} + 1.0 i p_{2 3} Ω_{3 2} - 1.0 i p_{3 2} Ω_{2 3} + γ_{2 3} \\left(- p_{1 1} - p_{2 2} + 1\\right)\\\\- 1.0 i p_{1 3} Ω_{2 1} + 1.0 i p_{2 2} Ω_{2 3} + p_{2 3} \\left(- \\frac{γ_{1 2}}{2} - \\frac{γ_{2 3}}{2} - 1.0 i \\left(ω_{2} - ω_{3}\\right)\\right) - 1.0 i Ω_{2 3} \\left(- p_{1 1} - p_{2 2} + 1\\right)\\\\- 1.0 i p_{2 1} Ω_{3 2} + p_{3 1} \\left(- \\frac{γ_{2 3}}{2} - 1.0 i \\left(- ω_{1} + ω_{3}\\right)\\right) + 1.0 i p_{3 2} Ω_{2 1}\\\\- 1.0 i p_{2 2} Ω_{3 2} + 1.0 i p_{3 1} Ω_{1 2} + p_{3 2} \\left(- \\frac{γ_{1 2}}{2} - \\frac{γ_{2 3}}{2} - 1.0 i \\left(- ω_{2} + ω_{3}\\right)\\right) + 1.0 i Ω_{3 2} \\left(- p_{1 1} - p_{2 2} + 1\\right)\\\\- 1.0 i p_{2 3} Ω_{3 2} + 1.0 i p_{3 2} Ω_{2 3} - γ_{2 3} \\left(- p_{1 1} - p_{2 2} + 1\\right)\\end{matrix}\\right]$"
      ],
      "text/plain": [
       "Matrix([\n",
       "[                                                                        1.0*I*p_1_2*Ω_2_1 - 1.0*I*p_2_1*Ω_1_2 + p_2_2*γ_1_2],\n",
       "[                           1.0*I*p_1_1*Ω_1_2 + p_1_2*(-γ_1_2/2 - 1.0*I*(ω_1 - ω_2)) + 1.0*I*p_1_3*Ω_3_2 - 1.0*I*p_2_2*Ω_1_2],\n",
       "[                                               1.0*I*p_1_2*Ω_2_3 + p_1_3*(-γ_2_3/2 - 1.0*I*(ω_1 - ω_3)) - 1.0*I*p_2_3*Ω_1_2],\n",
       "[                         -1.0*I*p_1_1*Ω_2_1 + p_2_1*(-γ_1_2/2 - 1.0*I*(-ω_1 + ω_2)) + 1.0*I*p_2_2*Ω_2_1 - 1.0*I*p_3_1*Ω_2_3],\n",
       "[  -1.0*I*p_1_2*Ω_2_1 + 1.0*I*p_2_1*Ω_1_2 - p_2_2*γ_1_2 + 1.0*I*p_2_3*Ω_3_2 - 1.0*I*p_3_2*Ω_2_3 + γ_2_3*(-p_1_1 - p_2_2 + 1)],\n",
       "[ -1.0*I*p_1_3*Ω_2_1 + 1.0*I*p_2_2*Ω_2_3 + p_2_3*(-γ_1_2/2 - γ_2_3/2 - 1.0*I*(ω_2 - ω_3)) - 1.0*I*Ω_2_3*(-p_1_1 - p_2_2 + 1)],\n",
       "[                                             -1.0*I*p_2_1*Ω_3_2 + p_3_1*(-γ_2_3/2 - 1.0*I*(-ω_1 + ω_3)) + 1.0*I*p_3_2*Ω_2_1],\n",
       "[-1.0*I*p_2_2*Ω_3_2 + 1.0*I*p_3_1*Ω_1_2 + p_3_2*(-γ_1_2/2 - γ_2_3/2 - 1.0*I*(-ω_2 + ω_3)) + 1.0*I*Ω_3_2*(-p_1_1 - p_2_2 + 1)],\n",
       "[                                                        -1.0*I*p_2_3*Ω_3_2 + 1.0*I*p_3_2*Ω_2_3 - γ_2_3*(-p_1_1 - p_2_2 + 1)]])"
      ]
     },
     "execution_count": 86,
     "metadata": {},
     "output_type": "execute_result"
    }
   ],
   "source": [
    "test = []\n",
    "for i in range(3):\n",
    "    for j in range(3):\n",
    "        temp = []\n",
    "        for k in range(3):\n",
    "            for l in range(3):\n",
    "                temp.append(dum[k][i][j][l])\n",
    "        test.append(temp)\n",
    "m = sym.Matrix(test)\n",
    "a = m @ ρ.reshape(9, 1)\n",
    "a"
   ]
  },
  {
   "cell_type": "code",
   "execution_count": 87,
   "id": "fe745389-bb5c-49af-a77b-53a66cd3a56f",
   "metadata": {},
   "outputs": [
    {
     "data": {
      "text/latex": [
       "$\\displaystyle \\left[\\begin{matrix}p_{2 2} γ_{1 2} - 1.0 i \\left(- p_{1 2} Ω_{2 1} + p_{2 1} Ω_{1 2}\\right)\\\\- 0.5 p_{1 2} γ_{1 2} - 1.0 i \\left(- p_{1 1} Ω_{1 2} + p_{1 2} ω_{1} - p_{1 2} ω_{2} - p_{1 3} Ω_{3 2} + p_{2 2} Ω_{1 2}\\right)\\\\- 0.5 p_{1 3} γ_{2 3} - 1.0 i \\left(- p_{1 2} Ω_{2 3} + p_{1 3} ω_{1} - p_{1 3} ω_{3} + p_{2 3} Ω_{1 2}\\right)\\\\- 0.5 p_{2 1} γ_{1 2} - 1.0 i \\left(p_{1 1} Ω_{2 1} - p_{2 1} ω_{1} + p_{2 1} ω_{2} - p_{2 2} Ω_{2 1} + p_{3 1} Ω_{2 3}\\right)\\\\- 1.0 p_{2 2} γ_{1 2} + γ_{2 3} \\left(- p_{1 1} - p_{2 2} + 1\\right) - 1.0 i \\left(p_{1 2} Ω_{2 1} - p_{2 1} Ω_{1 2} - p_{2 3} Ω_{3 2} + p_{3 2} Ω_{2 3}\\right)\\\\- 0.5 p_{2 3} γ_{1 2} - 0.5 p_{2 3} γ_{2 3} - 1.0 i \\left(p_{1 3} Ω_{2 1} - p_{2 2} Ω_{2 3} + p_{2 3} ω_{2} - p_{2 3} ω_{3} + Ω_{2 3} \\left(- p_{1 1} - p_{2 2} + 1\\right)\\right)\\\\- 0.5 p_{3 1} γ_{2 3} - 1.0 i \\left(p_{2 1} Ω_{3 2} - p_{3 1} ω_{1} + p_{3 1} ω_{3} - p_{3 2} Ω_{2 1}\\right)\\\\- 0.5 p_{3 2} γ_{1 2} - 0.5 p_{3 2} γ_{2 3} - 1.0 i \\left(p_{2 2} Ω_{3 2} - p_{3 1} Ω_{1 2} - p_{3 2} ω_{2} + p_{3 2} ω_{3} - Ω_{3 2} \\left(- p_{1 1} - p_{2 2} + 1\\right)\\right)\\\\γ_{2 3} \\left(1.0 p_{1 1} + 1.0 p_{2 2} - 1.0\\right) - 1.0 i \\left(p_{2 3} Ω_{3 2} - p_{3 2} Ω_{2 3}\\right)\\end{matrix}\\right]$"
      ],
      "text/plain": [
       "Matrix([\n",
       "[                                                                           p_2_2*γ_1_2 - 1.0*I*(-p_1_2*Ω_2_1 + p_2_1*Ω_1_2)],\n",
       "[                                -0.5*p_1_2*γ_1_2 - 1.0*I*(-p_1_1*Ω_1_2 + p_1_2*ω_1 - p_1_2*ω_2 - p_1_3*Ω_3_2 + p_2_2*Ω_1_2)],\n",
       "[                                              -0.5*p_1_3*γ_2_3 - 1.0*I*(-p_1_2*Ω_2_3 + p_1_3*ω_1 - p_1_3*ω_3 + p_2_3*Ω_1_2)],\n",
       "[                                 -0.5*p_2_1*γ_1_2 - 1.0*I*(p_1_1*Ω_2_1 - p_2_1*ω_1 + p_2_1*ω_2 - p_2_2*Ω_2_1 + p_3_1*Ω_2_3)],\n",
       "[              -1.0*p_2_2*γ_1_2 + γ_2_3*(-p_1_1 - p_2_2 + 1) - 1.0*I*(p_1_2*Ω_2_1 - p_2_1*Ω_1_2 - p_2_3*Ω_3_2 + p_3_2*Ω_2_3)],\n",
       "[-0.5*p_2_3*γ_1_2 - 0.5*p_2_3*γ_2_3 - 1.0*I*(p_1_3*Ω_2_1 - p_2_2*Ω_2_3 + p_2_3*ω_2 - p_2_3*ω_3 + Ω_2_3*(-p_1_1 - p_2_2 + 1))],\n",
       "[                                               -0.5*p_3_1*γ_2_3 - 1.0*I*(p_2_1*Ω_3_2 - p_3_1*ω_1 + p_3_1*ω_3 - p_3_2*Ω_2_1)],\n",
       "[-0.5*p_3_2*γ_1_2 - 0.5*p_3_2*γ_2_3 - 1.0*I*(p_2_2*Ω_3_2 - p_3_1*Ω_1_2 - p_3_2*ω_2 + p_3_2*ω_3 - Ω_3_2*(-p_1_1 - p_2_2 + 1))],\n",
       "[                                                    γ_2_3*(1.0*p_1_1 + 1.0*p_2_2 - 1.0) - 1.0*I*(p_2_3*Ω_3_2 - p_3_2*Ω_2_3)]])"
      ]
     },
     "execution_count": 87,
     "metadata": {},
     "output_type": "execute_result"
    }
   ],
   "source": [
    "b = dρ.reshape(9, 1)\n",
    "b"
   ]
  },
  {
   "cell_type": "code",
   "execution_count": 88,
   "id": "36250f56-38ea-4bab-9edc-825662027ebc",
   "metadata": {},
   "outputs": [
    {
     "data": {
      "text/latex": [
       "$\\displaystyle \\left[\\begin{matrix}0\\\\0\\\\0\\\\0\\\\0\\\\0\\\\0\\\\0\\\\0\\end{matrix}\\right]$"
      ],
      "text/plain": [
       "Matrix([\n",
       "[0],\n",
       "[0],\n",
       "[0],\n",
       "[0],\n",
       "[0],\n",
       "[0],\n",
       "[0],\n",
       "[0],\n",
       "[0]])"
      ]
     },
     "execution_count": 88,
     "metadata": {},
     "output_type": "execute_result"
    }
   ],
   "source": [
    "sym.simplify(a - b)"
   ]
  },
  {
   "cell_type": "code",
   "execution_count": 90,
   "id": "c3aa52a7-1884-4c32-93cd-74445534b470",
   "metadata": {},
   "outputs": [
    {
     "data": {
      "text/plain": [
       "array([ 0.00000000e+00-1.73205081e+01j,  3.55444840e-15-8.66025404e+00j,\n",
       "       -9.28004108e-16-5.08533827e-15j, -2.66159860e-15+1.73205081e+01j,\n",
       "       -2.62678046e-16+8.66025404e+00j,  8.88178420e-16-8.66025404e+00j,\n",
       "        2.22044605e-16+8.66025404e+00j, -2.88382265e-16+1.00208919e-16j,\n",
       "        1.14783261e-15+1.32859485e-16j])"
      ]
     },
     "execution_count": 90,
     "metadata": {},
     "output_type": "execute_result"
    }
   ],
   "source": [
    "# Now diagonalize m\n",
    "m_fun = sym.lambdify(p_sym_list + h_sym_list + γ_sym_list, m)\n",
    "\n",
    "m_val = m_fun(1, 0, 0, 0, 0, 0, 0, 0, 0, ω1_val, ω2_val, ω3_val, Ω12_val, Ω21_val, Ω23_val, Ω32_val, γ12_val, γ23_val)\n",
    "eigs = np.linalg.eig(m_val)\n",
    "eigs[0]"
   ]
  },
  {
   "cell_type": "code",
   "execution_count": 92,
   "id": "f177dd88-d61e-4cb3-96b1-045d7a4d937a",
   "metadata": {},
   "outputs": [
    {
     "name": "stdout",
     "output_type": "stream",
     "text": [
      "3rd eigenvector check:  [-1.87392501e-15-1.55431223e-15j -3.42437383e-15-2.66453526e-15j\n",
      " -1.22370299e-15-3.87029354e-15j  1.84374655e-15+8.88178420e-16j\n",
      "  8.98507237e-16+1.77635684e-15j  5.09754395e-16+2.88657986e-15j\n",
      "  9.11791209e-16+1.78676427e-15j -1.77846989e-15-2.22044605e-15j\n",
      "  9.75417769e-16-2.22044605e-16j]\n",
      "\n",
      "8th eigenvector check:  [ 0.00000000e+00-2.22044605e-16j -4.44089210e-16-8.88178420e-16j\n",
      " -7.21644966e-16-1.77635684e-15j -1.11022302e-16+2.22044605e-16j\n",
      "  3.78168095e-16-4.44089210e-16j -4.44089210e-16+1.11022302e-15j\n",
      " -7.21644966e-16+8.88178420e-16j  1.38777878e-15-1.11022302e-15j\n",
      " -3.78168095e-16+4.44089210e-16j]\n",
      "\n",
      "9th eigenvector check:  [ 0.00000000e+00+0.00000000e+00j  3.88578059e-16+2.22044605e-16j\n",
      " -4.44089210e-16-4.44089210e-16j  4.44089210e-16-4.44089210e-16j\n",
      "  1.22124533e-15+6.66133815e-16j -6.66133815e-16+0.00000000e+00j\n",
      "  7.77156117e-16-5.55111512e-16j  1.05471187e-15+8.88178420e-16j\n",
      " -1.22124533e-15-6.66133815e-16j]\n"
     ]
    }
   ],
   "source": [
    "# It looks like the 3rd, 8th, and 9th eigenvalues are basically 0\n",
    "print(\"3rd eigenvector check: \", m_val @ eigs[1][:, 2])\n",
    "print(\"\")\n",
    "print(\"8th eigenvector check: \", m_val @ eigs[1][:, 7])\n",
    "print(\"\")\n",
    "print(\"9th eigenvector check: \", m_val @ eigs[1][:, 8])"
   ]
  },
  {
   "cell_type": "markdown",
   "id": "18bdc3362221b8bf",
   "metadata": {},
   "source": [
    "## 4 Level Case"
   ]
  },
  {
   "cell_type": "code",
   "execution_count": 25,
   "id": "523f6859e7b7d137",
   "metadata": {},
   "outputs": [],
   "source": [
    "pgg, pgi, pg1, pg2, pig, pii, pi1, pi2, p1g, p1i, p11, p12, p2g, p2i, p21, p22 = sym.symbols(\"p_g_g, p_g_i, p_g_1, p_g_2, p_i_g, p_i_i, p_i_1, p_i_2, p_1_g, p_1_i, p_1_1, p_1_2, p_2_g, p_2_i, p_2_1, p_2_2\")\n",
    "p_sym_list = [pgg, pgi, pg1, pg2, pig, pii, pi1, pi2, p1g, p1i, p11, p12, p2g, p2i, p21, p22]\n",
    "hgg, hgi, hig, hii, hi1, h1i, h11, h12, h21, h22 = sym.symbols(\"h_g_g, h_g_i, h_i_g, h_i_i, h_i_1, h_1_i, h_1_1, h_1_2, h_2_1, h_2_2\")\n",
    "h_sym_list = [hgg, hgi, hig, hii, hi1, h1i, h11, h12, h21, h22]"
   ]
  },
  {
   "cell_type": "code",
   "execution_count": 26,
   "id": "2d70b9a30469324c",
   "metadata": {},
   "outputs": [],
   "source": [
    "p = sym.Matrix([[pgg, pgi, pg1, pg2], [pig, pii, pi1, pi2], [p1g, p1i, p11, p12], [p2g, p2i, p21, p22]])\n",
    "H = sym.Matrix([[hgg, hgi, 0, 0], [hig, hii, hi1, 0], [0, h1i, h11, h12], [0, 0, h21, h22]])"
   ]
  },
  {
   "cell_type": "code",
   "execution_count": 27,
   "id": "75ee4b3307e6ddb7",
   "metadata": {},
   "outputs": [],
   "source": [
    "σgi = np.array([[0, 1, 0, 0], [0, 0, 0, 0], [0, 0, 0, 0], [0, 0, 0, 0]])\n",
    "σi1 = np.array([[0, 0, 0, 0], [0, 0, 1, 0], [0, 0, 0, 0], [0, 0, 0, 0]])\n",
    "σ12 = np.array([[0, 0, 0, 0], [0, 0, 0, 0], [0, 0, 0, 1], [0, 0, 0, 0]])"
   ]
  },
  {
   "cell_type": "code",
   "execution_count": 28,
   "id": "1886fc3f0c4a3c86",
   "metadata": {},
   "outputs": [],
   "source": [
    "γgi, γi1, γ12 = sym.symbols(\"γ_g_i, γ_i_1, γ_1_2\")\n",
    "γ_sym_list = [γgi, γi1, γ12 ]"
   ]
  },
  {
   "cell_type": "code",
   "execution_count": 29,
   "id": "c907bb3fff31c2d4",
   "metadata": {},
   "outputs": [
    {
     "data": {
      "text/latex": [
       "$\\displaystyle \\left[\\begin{matrix}p_{i i} & - \\frac{p_{g i} γ_{g i}}{2} & 0 & 0\\\\- \\frac{p_{i g} γ_{g i}}{2} & - p_{i i} γ_{g i} & - \\frac{p_{i 1} γ_{g i}}{2} & - \\frac{p_{i 2} γ_{g i}}{2}\\\\0 & - \\frac{p_{1 i} γ_{g i}}{2} & 0 & 0\\\\0 & - \\frac{p_{2 i} γ_{g i}}{2} & 0 & 0\\end{matrix}\\right]$"
      ],
      "text/plain": [
       "Matrix([\n",
       "[         p_i_i, -p_g_i*γ_g_i/2,              0,              0],\n",
       "[-p_i_g*γ_g_i/2,   -p_i_i*γ_g_i, -p_i_1*γ_g_i/2, -p_i_2*γ_g_i/2],\n",
       "[             0, -p_1_i*γ_g_i/2,              0,              0],\n",
       "[             0, -p_2_i*γ_g_i/2,              0,              0]])"
      ]
     },
     "execution_count": 29,
     "metadata": {},
     "output_type": "execute_result"
    }
   ],
   "source": [
    "A = σgi @ p @ σgi.conj().T - γgi / 2 * (σgi.conj().T @ σgi @ p + p @ σgi.conj().T @ σgi)\n",
    "A"
   ]
  },
  {
   "cell_type": "code",
   "execution_count": 30,
   "id": "dae2e2ebf2a3411b",
   "metadata": {},
   "outputs": [
    {
     "data": {
      "text/latex": [
       "$\\displaystyle \\left[\\begin{matrix}0 & 0 & - \\frac{p_{g 1} γ_{i 1}}{2} & 0\\\\0 & p_{1 1} & - \\frac{p_{i 1} γ_{i 1}}{2} & 0\\\\- \\frac{p_{1 g} γ_{i 1}}{2} & - \\frac{p_{1 i} γ_{i 1}}{2} & - p_{1 1} γ_{i 1} & - \\frac{p_{1 2} γ_{i 1}}{2}\\\\0 & 0 & - \\frac{p_{2 1} γ_{i 1}}{2} & 0\\end{matrix}\\right]$"
      ],
      "text/plain": [
       "Matrix([\n",
       "[             0,              0, -p_g_1*γ_i_1/2,              0],\n",
       "[             0,          p_1_1, -p_i_1*γ_i_1/2,              0],\n",
       "[-p_1_g*γ_i_1/2, -p_1_i*γ_i_1/2,   -p_1_1*γ_i_1, -p_1_2*γ_i_1/2],\n",
       "[             0,              0, -p_2_1*γ_i_1/2,              0]])"
      ]
     },
     "execution_count": 30,
     "metadata": {},
     "output_type": "execute_result"
    }
   ],
   "source": [
    "B = σi1 @ p @ σi1.conj().T - γi1 / 2 * (σi1.conj().T @ σi1 @ p + p @ σi1.conj().T @ σi1)\n",
    "B"
   ]
  },
  {
   "cell_type": "code",
   "execution_count": 31,
   "id": "160f4ab7d3eb0e23",
   "metadata": {},
   "outputs": [
    {
     "data": {
      "text/latex": [
       "$\\displaystyle \\left[\\begin{matrix}0 & 0 & 0 & - \\frac{p_{g 2} γ_{1 2}}{2}\\\\0 & 0 & 0 & - \\frac{p_{i 2} γ_{1 2}}{2}\\\\0 & 0 & p_{2 2} & - \\frac{p_{1 2} γ_{1 2}}{2}\\\\- \\frac{p_{2 g} γ_{1 2}}{2} & - \\frac{p_{2 i} γ_{1 2}}{2} & - \\frac{p_{2 1} γ_{1 2}}{2} & - p_{2 2} γ_{1 2}\\end{matrix}\\right]$"
      ],
      "text/plain": [
       "Matrix([\n",
       "[             0,              0,              0, -p_g_2*γ_1_2/2],\n",
       "[             0,              0,              0, -p_i_2*γ_1_2/2],\n",
       "[             0,              0,          p_2_2, -p_1_2*γ_1_2/2],\n",
       "[-p_2_g*γ_1_2/2, -p_2_i*γ_1_2/2, -p_2_1*γ_1_2/2,   -p_2_2*γ_1_2]])"
      ]
     },
     "execution_count": 31,
     "metadata": {},
     "output_type": "execute_result"
    }
   ],
   "source": [
    "C = σ12 @ p @ σ12.conj().T - γ12 / 2 * (σ12.conj().T @ σ12 @ p + p @ σ12.conj().T @ σ12)\n",
    "C"
   ]
  },
  {
   "cell_type": "code",
   "execution_count": 32,
   "id": "65b0754d88479481",
   "metadata": {},
   "outputs": [
    {
     "data": {
      "text/latex": [
       "$\\displaystyle \\left[\\begin{matrix}p_{i i} + 1.0 i \\left(- h_{g i} p_{i g} + h_{i g} p_{g i}\\right) & - \\frac{p_{g i} γ_{g i}}{2} + 1.0 i \\left(h_{1 i} p_{g 1} - h_{g g} p_{g i} + h_{g i} p_{g g} - h_{g i} p_{i i} + h_{i i} p_{g i}\\right) & - \\frac{p_{g 1} γ_{i 1}}{2} + 1.0 i \\left(h_{1 1} p_{g 1} + h_{2 1} p_{g 2} - h_{g g} p_{g 1} - h_{g i} p_{i 1} + h_{i 1} p_{g i}\\right) & - \\frac{p_{g 2} γ_{1 2}}{2} + 1.0 i \\left(h_{1 2} p_{g 1} + h_{2 2} p_{g 2} - h_{g g} p_{g 2} - h_{g i} p_{i 2}\\right)\\\\- \\frac{p_{i g} γ_{g i}}{2} + 1.0 i \\left(h_{g g} p_{i g} - h_{i 1} p_{1 g} - h_{i g} p_{g g} + h_{i g} p_{i i} - h_{i i} p_{i g}\\right) & p_{1 1} - p_{i i} γ_{g i} + 1.0 i \\left(h_{1 i} p_{i 1} + h_{g i} p_{i g} - h_{i 1} p_{1 i} - h_{i g} p_{g i}\\right) & - \\frac{p_{i 1} γ_{g i}}{2} - \\frac{p_{i 1} γ_{i 1}}{2} + 1.0 i \\left(h_{1 1} p_{i 1} + h_{2 1} p_{i 2} - h_{i 1} p_{1 1} + h_{i 1} p_{i i} - h_{i g} p_{g 1} - h_{i i} p_{i 1}\\right) & - \\frac{p_{i 2} γ_{1 2}}{2} - \\frac{p_{i 2} γ_{g i}}{2} + 1.0 i \\left(h_{1 2} p_{i 1} + h_{2 2} p_{i 2} - h_{i 1} p_{1 2} - h_{i g} p_{g 2} - h_{i i} p_{i 2}\\right)\\\\- \\frac{p_{1 g} γ_{i 1}}{2} + 1.0 i \\left(- h_{1 1} p_{1 g} - h_{1 2} p_{2 g} - h_{1 i} p_{i g} + h_{g g} p_{1 g} + h_{i g} p_{1 i}\\right) & - \\frac{p_{1 i} γ_{g i}}{2} - \\frac{p_{1 i} γ_{i 1}}{2} + 1.0 i \\left(- h_{1 1} p_{1 i} - h_{1 2} p_{2 i} + h_{1 i} p_{1 1} - h_{1 i} p_{i i} + h_{g i} p_{1 g} + h_{i i} p_{1 i}\\right) & - p_{1 1} γ_{i 1} + p_{2 2} + 1.0 i \\left(- h_{1 2} p_{2 1} - h_{1 i} p_{i 1} + h_{2 1} p_{1 2} + h_{i 1} p_{1 i}\\right) & - \\frac{p_{1 2} γ_{1 2}}{2} - \\frac{p_{1 2} γ_{i 1}}{2} + 1.0 i \\left(- h_{1 1} p_{1 2} + h_{1 2} p_{1 1} - h_{1 2} p_{2 2} - h_{1 i} p_{i 2} + h_{2 2} p_{1 2}\\right)\\\\- \\frac{p_{2 g} γ_{1 2}}{2} + 1.0 i \\left(- h_{2 1} p_{1 g} - h_{2 2} p_{2 g} + h_{g g} p_{2 g} + h_{i g} p_{2 i}\\right) & - \\frac{p_{2 i} γ_{1 2}}{2} - \\frac{p_{2 i} γ_{g i}}{2} + 1.0 i \\left(h_{1 i} p_{2 1} - h_{2 1} p_{1 i} - h_{2 2} p_{2 i} + h_{g i} p_{2 g} + h_{i i} p_{2 i}\\right) & - \\frac{p_{2 1} γ_{1 2}}{2} - \\frac{p_{2 1} γ_{i 1}}{2} + 1.0 i \\left(h_{1 1} p_{2 1} - h_{2 1} p_{1 1} + h_{2 1} p_{2 2} - h_{2 2} p_{2 1} + h_{i 1} p_{2 i}\\right) & - p_{2 2} γ_{1 2} + 1.0 i \\left(h_{1 2} p_{2 1} - h_{2 1} p_{1 2}\\right)\\end{matrix}\\right]$"
      ],
      "text/plain": [
       "Matrix([\n",
       "[                                                   p_i_i + 1.0*I*(-h_g_i*p_i_g + h_i_g*p_g_i),                                -p_g_i*γ_g_i/2 + 1.0*I*(h_1_i*p_g_1 - h_g_g*p_g_i + h_g_i*p_g_g - h_g_i*p_i_i + h_i_i*p_g_i),                               -p_g_1*γ_i_1/2 + 1.0*I*(h_1_1*p_g_1 + h_2_1*p_g_2 - h_g_g*p_g_1 - h_g_i*p_i_1 + h_i_1*p_g_i),                                -p_g_2*γ_1_2/2 + 1.0*I*(h_1_2*p_g_1 + h_2_2*p_g_2 - h_g_g*p_g_2 - h_g_i*p_i_2)],\n",
       "[ -p_i_g*γ_g_i/2 + 1.0*I*(h_g_g*p_i_g - h_i_1*p_1_g - h_i_g*p_g_g + h_i_g*p_i_i - h_i_i*p_i_g),                                         p_1_1 - p_i_i*γ_g_i + 1.0*I*(h_1_i*p_i_1 + h_g_i*p_i_g - h_i_1*p_1_i - h_i_g*p_g_i), -p_i_1*γ_g_i/2 - p_i_1*γ_i_1/2 + 1.0*I*(h_1_1*p_i_1 + h_2_1*p_i_2 - h_i_1*p_1_1 + h_i_1*p_i_i - h_i_g*p_g_1 - h_i_i*p_i_1),  -p_i_2*γ_1_2/2 - p_i_2*γ_g_i/2 + 1.0*I*(h_1_2*p_i_1 + h_2_2*p_i_2 - h_i_1*p_1_2 - h_i_g*p_g_2 - h_i_i*p_i_2)],\n",
       "[-p_1_g*γ_i_1/2 + 1.0*I*(-h_1_1*p_1_g - h_1_2*p_2_g - h_1_i*p_i_g + h_g_g*p_1_g + h_i_g*p_1_i), -p_1_i*γ_g_i/2 - p_1_i*γ_i_1/2 + 1.0*I*(-h_1_1*p_1_i - h_1_2*p_2_i + h_1_i*p_1_1 - h_1_i*p_i_i + h_g_i*p_1_g + h_i_i*p_1_i),                                      -p_1_1*γ_i_1 + p_2_2 + 1.0*I*(-h_1_2*p_2_1 - h_1_i*p_i_1 + h_2_1*p_1_2 + h_i_1*p_1_i), -p_1_2*γ_1_2/2 - p_1_2*γ_i_1/2 + 1.0*I*(-h_1_1*p_1_2 + h_1_2*p_1_1 - h_1_2*p_2_2 - h_1_i*p_i_2 + h_2_2*p_1_2)],\n",
       "[              -p_2_g*γ_1_2/2 + 1.0*I*(-h_2_1*p_1_g - h_2_2*p_2_g + h_g_g*p_2_g + h_i_g*p_2_i),                -p_2_i*γ_1_2/2 - p_2_i*γ_g_i/2 + 1.0*I*(h_1_i*p_2_1 - h_2_1*p_1_i - h_2_2*p_2_i + h_g_i*p_2_g + h_i_i*p_2_i),               -p_2_1*γ_1_2/2 - p_2_1*γ_i_1/2 + 1.0*I*(h_1_1*p_2_1 - h_2_1*p_1_1 + h_2_1*p_2_2 - h_2_2*p_2_1 + h_i_1*p_2_i),                                                              -p_2_2*γ_1_2 + 1.0*I*(h_1_2*p_2_1 - h_2_1*p_1_2)]])"
      ]
     },
     "execution_count": 32,
     "metadata": {},
     "output_type": "execute_result"
    }
   ],
   "source": [
    "dρ = -1j * (p @ H - H @ p) + A + B + C\n",
    "dρ"
   ]
  },
  {
   "cell_type": "code",
   "execution_count": 33,
   "id": "8b2abc06698f83ea",
   "metadata": {},
   "outputs": [
    {
     "data": {
      "text/latex": [
       "$\\displaystyle \\left[\\begin{matrix}p_{i i} + 1.0 i \\left(- h_{g i} p_{i g} + h_{i g} p_{g i}\\right) & - \\frac{p_{g i} γ_{g i}}{2} + 1.0 i \\left(h_{1 i} p_{g 1} - h_{g g} p_{g i} + h_{g i} p_{g g} - h_{g i} p_{i i} + h_{i i} p_{g i}\\right) & - \\frac{p_{g 1} γ_{i 1}}{2} + 1.0 i \\left(h_{1 1} p_{g 1} + h_{2 1} p_{g 2} - h_{g g} p_{g 1} - h_{g i} p_{i 1} + h_{i 1} p_{g i}\\right) & - \\frac{p_{g 2} γ_{1 2}}{2} + 1.0 i \\left(h_{1 2} p_{g 1} + h_{2 2} p_{g 2} - h_{g g} p_{g 2} - h_{g i} p_{i 2}\\right)\\\\- \\frac{p_{i g} γ_{g i}}{2} + 1.0 i \\left(h_{g g} p_{i g} - h_{i 1} p_{1 g} - h_{i g} p_{g g} + h_{i g} p_{i i} - h_{i i} p_{i g}\\right) & p_{1 1} - p_{i i} γ_{g i} + 1.0 i \\left(h_{1 i} p_{i 1} + h_{g i} p_{i g} - h_{i 1} p_{1 i} - h_{i g} p_{g i}\\right) & - \\frac{p_{i 1} γ_{g i}}{2} - \\frac{p_{i 1} γ_{i 1}}{2} + 1.0 i \\left(h_{1 1} p_{i 1} + h_{2 1} p_{i 2} - h_{i 1} p_{1 1} + h_{i 1} p_{i i} - h_{i g} p_{g 1} - h_{i i} p_{i 1}\\right) & - \\frac{p_{i 2} γ_{1 2}}{2} - \\frac{p_{i 2} γ_{g i}}{2} + 1.0 i \\left(h_{1 2} p_{i 1} + h_{2 2} p_{i 2} - h_{i 1} p_{1 2} - h_{i g} p_{g 2} - h_{i i} p_{i 2}\\right)\\\\- \\frac{p_{1 g} γ_{i 1}}{2} + 1.0 i \\left(- h_{1 1} p_{1 g} - h_{1 2} p_{2 g} - h_{1 i} p_{i g} + h_{g g} p_{1 g} + h_{i g} p_{1 i}\\right) & - \\frac{p_{1 i} γ_{g i}}{2} - \\frac{p_{1 i} γ_{i 1}}{2} + 1.0 i \\left(- h_{1 1} p_{1 i} - h_{1 2} p_{2 i} + h_{1 i} p_{1 1} - h_{1 i} p_{i i} + h_{g i} p_{1 g} + h_{i i} p_{1 i}\\right) & - p_{1 1} γ_{i 1} + p_{2 2} + 1.0 i \\left(- h_{1 2} p_{2 1} - h_{1 i} p_{i 1} + h_{2 1} p_{1 2} + h_{i 1} p_{1 i}\\right) & - \\frac{p_{1 2} γ_{1 2}}{2} - \\frac{p_{1 2} γ_{i 1}}{2} + 1.0 i \\left(- h_{1 1} p_{1 2} + h_{1 2} p_{1 1} - h_{1 2} p_{2 2} - h_{1 i} p_{i 2} + h_{2 2} p_{1 2}\\right)\\\\- \\frac{p_{2 g} γ_{1 2}}{2} + 1.0 i \\left(- h_{2 1} p_{1 g} - h_{2 2} p_{2 g} + h_{g g} p_{2 g} + h_{i g} p_{2 i}\\right) & - \\frac{p_{2 i} γ_{1 2}}{2} - \\frac{p_{2 i} γ_{g i}}{2} + 1.0 i \\left(h_{1 i} p_{2 1} - h_{2 1} p_{1 i} - h_{2 2} p_{2 i} + h_{g i} p_{2 g} + h_{i i} p_{2 i}\\right) & - \\frac{p_{2 1} γ_{1 2}}{2} - \\frac{p_{2 1} γ_{i 1}}{2} + 1.0 i \\left(h_{1 1} p_{2 1} - h_{2 1} p_{1 1} + h_{2 1} p_{2 2} - h_{2 2} p_{2 1} + h_{i 1} p_{2 i}\\right) & - p_{2 2} γ_{1 2} + 1.0 i \\left(h_{1 2} p_{2 1} - h_{2 1} p_{1 2}\\right)\\end{matrix}\\right]$"
      ],
      "text/plain": [
       "Matrix([\n",
       "[                                                   p_i_i + 1.0*I*(-h_g_i*p_i_g + h_i_g*p_g_i),                                -p_g_i*γ_g_i/2 + 1.0*I*(h_1_i*p_g_1 - h_g_g*p_g_i + h_g_i*p_g_g - h_g_i*p_i_i + h_i_i*p_g_i),                               -p_g_1*γ_i_1/2 + 1.0*I*(h_1_1*p_g_1 + h_2_1*p_g_2 - h_g_g*p_g_1 - h_g_i*p_i_1 + h_i_1*p_g_i),                                -p_g_2*γ_1_2/2 + 1.0*I*(h_1_2*p_g_1 + h_2_2*p_g_2 - h_g_g*p_g_2 - h_g_i*p_i_2)],\n",
       "[ -p_i_g*γ_g_i/2 + 1.0*I*(h_g_g*p_i_g - h_i_1*p_1_g - h_i_g*p_g_g + h_i_g*p_i_i - h_i_i*p_i_g),                                         p_1_1 - p_i_i*γ_g_i + 1.0*I*(h_1_i*p_i_1 + h_g_i*p_i_g - h_i_1*p_1_i - h_i_g*p_g_i), -p_i_1*γ_g_i/2 - p_i_1*γ_i_1/2 + 1.0*I*(h_1_1*p_i_1 + h_2_1*p_i_2 - h_i_1*p_1_1 + h_i_1*p_i_i - h_i_g*p_g_1 - h_i_i*p_i_1),  -p_i_2*γ_1_2/2 - p_i_2*γ_g_i/2 + 1.0*I*(h_1_2*p_i_1 + h_2_2*p_i_2 - h_i_1*p_1_2 - h_i_g*p_g_2 - h_i_i*p_i_2)],\n",
       "[-p_1_g*γ_i_1/2 + 1.0*I*(-h_1_1*p_1_g - h_1_2*p_2_g - h_1_i*p_i_g + h_g_g*p_1_g + h_i_g*p_1_i), -p_1_i*γ_g_i/2 - p_1_i*γ_i_1/2 + 1.0*I*(-h_1_1*p_1_i - h_1_2*p_2_i + h_1_i*p_1_1 - h_1_i*p_i_i + h_g_i*p_1_g + h_i_i*p_1_i),                                      -p_1_1*γ_i_1 + p_2_2 + 1.0*I*(-h_1_2*p_2_1 - h_1_i*p_i_1 + h_2_1*p_1_2 + h_i_1*p_1_i), -p_1_2*γ_1_2/2 - p_1_2*γ_i_1/2 + 1.0*I*(-h_1_1*p_1_2 + h_1_2*p_1_1 - h_1_2*p_2_2 - h_1_i*p_i_2 + h_2_2*p_1_2)],\n",
       "[              -p_2_g*γ_1_2/2 + 1.0*I*(-h_2_1*p_1_g - h_2_2*p_2_g + h_g_g*p_2_g + h_i_g*p_2_i),                -p_2_i*γ_1_2/2 - p_2_i*γ_g_i/2 + 1.0*I*(h_1_i*p_2_1 - h_2_1*p_1_i - h_2_2*p_2_i + h_g_i*p_2_g + h_i_i*p_2_i),               -p_2_1*γ_1_2/2 - p_2_1*γ_i_1/2 + 1.0*I*(h_1_1*p_2_1 - h_2_1*p_1_1 + h_2_1*p_2_2 - h_2_2*p_2_1 + h_i_1*p_2_i),                                                              -p_2_2*γ_1_2 + 1.0*I*(h_1_2*p_2_1 - h_2_1*p_1_2)]])"
      ]
     },
     "execution_count": 33,
     "metadata": {},
     "output_type": "execute_result"
    }
   ],
   "source": [
    "dρ_vec = dρ.reshape(16, 1)\n",
    "dρ"
   ]
  },
  {
   "cell_type": "code",
   "execution_count": 34,
   "id": "b88285c421160491",
   "metadata": {},
   "outputs": [],
   "source": [
    "# We can also turn the symbolic expressions into numerical ones using lambdify\n",
    "dp_rhs = sym.lambdify(p_sym_list + h_sym_list + γ_sym_list, dρ_vec)"
   ]
  },
  {
   "cell_type": "code",
   "execution_count": 35,
   "id": "df91993019778289",
   "metadata": {},
   "outputs": [],
   "source": [
    "# Then we can use the Euler method to get an approximate solution to the derivative\n",
    "# Define time range\n",
    "t, dt = np.linspace(0, 1, 100, retstep=True)\n",
    "\n",
    "# Define starting parameters - we'll assume we start entirely in the ground state\n",
    "p_iv = np.zeros(16, dtype=complex)\n",
    "p_iv[0] = 1\n",
    "p_iv = p_iv.reshape(16, 1)\n",
    "ω1_val = 10\n",
    "ω2_val = 15\n",
    "ω3_val = 20\n",
    "ω4_val = 25\n",
    "γ12_val = 0\n",
    "γ23_val = 0\n",
    "γ34_val = 0\n",
    "Ω12_val = 5\n",
    "Ω21_val = Ω12_val\n",
    "Ω23_val = 5\n",
    "Ω32_val = Ω23_val\n",
    "Ω34_val= 5\n",
    "Ω43_val = Ω34_val"
   ]
  },
  {
   "cell_type": "code",
   "execution_count": 36,
   "id": "53256715b10c0f89",
   "metadata": {},
   "outputs": [],
   "source": [
    "# Now apply Euler method\n",
    "p_vals = np.zeros((t.shape[0], 16, 1), dtype=complex)\n",
    "p_curr = p_iv.copy()\n",
    "for i in range(t.shape[0]):\n",
    "    p_vals[i] = p_curr\n",
    "    p_next = p_curr + dt * dp_rhs(p_vals[i, 0, 0], p_vals[i, 1, 0], p_vals[i, 2, 0], p_vals[i, 3, 0], p_vals[i, 4, 0],\n",
    "                                  p_vals[i, 5, 0], p_vals[i, 6, 0], p_vals[i, 7, 0], p_vals[i, 8, 0], p_vals[i, 9, 0],\n",
    "                                  p_vals[i, 10, 0], p_vals[i, 11, 0], p_vals[i, 12, 0], p_vals[i, 13, 0], p_vals[i, 14, 0],\n",
    "                                  p_vals[i, 15, 0], ω1_val, ω2_val, ω3_val, ω4_val,\n",
    "                                  Ω12_val, Ω21_val, Ω23_val, Ω32_val, Ω34_val, Ω43_val, γ12_val, γ23_val, γ34_val)\n",
    "    p_curr = p_next"
   ]
  },
  {
   "cell_type": "code",
   "execution_count": 37,
   "id": "f1a8eca323d45089",
   "metadata": {},
   "outputs": [
    {
     "data": {
      "text/plain": [
       "<matplotlib.legend.Legend at 0x77b60c982790>"
      ]
     },
     "execution_count": 37,
     "metadata": {},
     "output_type": "execute_result"
    },
    {
     "data": {
      "image/png": "[encoded data removed]",
      "text/plain": [
       "<Figure size 640x480 with 1 Axes>"
      ]
     },
     "metadata": {},
     "output_type": "display_data"
    }
   ],
   "source": [
    "plt.plot(t, p_vals.T[0, 0], label='$\\\\rho_{11}$')\n",
    "plt.plot(t, p_vals.T[0, 3], label='$\\\\rho_{22}$')\n",
    "plt.plot(t, p_vals.T[0, 8], label='$\\\\rho_{33}$')\n",
    "plt.plot(t, p_vals.T[0, 15], label='$\\\\rho_{44}$')\n",
    "#plt.plot(t, p_vals.T[0, 0]+p_vals.T[0, 3]+p_vals.T[0,8], color='k')\n",
    "plt.xlabel(\"$t$\")\n",
    "plt.ylabel(\"$\\\\rho_{ij}$\")\n",
    "plt.legend()"
   ]
  },
  {
   "cell_type": "code",
   "execution_count": null,
   "id": "39a8d0e24b08deb0",
   "metadata": {},
   "outputs": [],
   "source": []
  }
 ],
 "metadata": {
  "kernelspec": {
   "display_name": "Python 3 (ipykernel)",
   "language": "python",
   "name": "python3"
  },
  "language_info": {
   "codemirror_mode": {
    "name": "ipython",
    "version": 3
   },
   "file_extension": ".py",
   "mimetype": "text/x-python",
   "name": "python",
   "nbconvert_exporter": "python",
   "pygments_lexer": "ipython3",
   "version": "3.11.9"
  }
 },
 "nbformat": 4,
 "nbformat_minor": 5
}
