{
 "cells": [
  {
   "cell_type": "code",
   "execution_count": 1,
   "id": "8702fe78-4bba-487d-8e01-c7cc0a56e2c0",
   "metadata": {},
   "outputs": [],
   "source": [
    "import sympy as sym\n",
    "import numpy as np\n",
    "import time"
   ]
  },
  {
   "cell_type": "code",
   "execution_count": 2,
   "id": "46fd3345-4446-4303-be1b-69db2449af45",
   "metadata": {},
   "outputs": [],
   "source": [
    "pgg, pgi, pg1, pg2, pig, pii, pi1, pi2, p1g, p1i, p11, p12, p2g, p2i, p21, p22 = sym.symbols(\"p_g_g, p_g_i, p_g_1, p_g_2, p_i_g, p_i_i, p_i_1, p_i_2, p_1_g, p_1_i, p_1_1, p_1_2, p_2_g, p_2_i, p_2_1, p_2_2\")\n",
    "hgg, hgi, hg1, hg2, hig, hii, hi1, hi2, h1g, h1i, h11, h12, h2g, h2i, h21, h22 = sym.symbols(\"h_g_g, h_g_i, h_g_1, h_g_2, h_i_g, h_i_i, h_i_1, h_i_2, h_1_g, h_1_i, h_1_1, h_1_2, h_2_g, h_2_i, h_2_1, h_2_2\")"
   ]
  },
  {
   "cell_type": "code",
   "execution_count": 3,
   "id": "cf1347ea-8753-446b-8e09-f4f5e8f49a1d",
   "metadata": {},
   "outputs": [],
   "source": [
    "p = sym.Matrix([[pgg, pgi, pg1, pg2], [pig, pii, pi1, pi2], [p1g, p1i, p11, p12], [p2g, p2i, p21, p22]])\n",
    "H = sym.Matrix([[hgg, hgi, 0, 0], [hig, hii, hi1, 0], [0, h1i, h11, h12], [0, 0, h21, h22]])"
   ]
  },
  {
   "cell_type": "code",
   "execution_count": 4,
   "id": "313ecd2f-a771-4a6b-a631-d509cf03152c",
   "metadata": {},
   "outputs": [
    {
     "data": {
      "text/latex": [
       "$\\displaystyle \\left[\\begin{matrix}- h_{g i} p_{i g} + h_{i g} p_{g i} & h_{1 i} p_{g 1} - h_{g g} p_{g i} + h_{g i} p_{g g} - h_{g i} p_{i i} + h_{i i} p_{g i} & h_{1 1} p_{g 1} + h_{2 1} p_{g 2} - h_{g g} p_{g 1} - h_{g i} p_{i 1} + h_{i 1} p_{g i} & h_{1 2} p_{g 1} + h_{2 2} p_{g 2} - h_{g g} p_{g 2} - h_{g i} p_{i 2}\\\\h_{g g} p_{i g} - h_{i 1} p_{1 g} - h_{i g} p_{g g} + h_{i g} p_{i i} - h_{i i} p_{i g} & h_{1 i} p_{i 1} + h_{g i} p_{i g} - h_{i 1} p_{1 i} - h_{i g} p_{g i} & h_{1 1} p_{i 1} + h_{2 1} p_{i 2} - h_{i 1} p_{1 1} + h_{i 1} p_{i i} - h_{i g} p_{g 1} - h_{i i} p_{i 1} & h_{1 2} p_{i 1} + h_{2 2} p_{i 2} - h_{i 1} p_{1 2} - h_{i g} p_{g 2} - h_{i i} p_{i 2}\\\\- h_{1 1} p_{1 g} - h_{1 2} p_{2 g} - h_{1 i} p_{i g} + h_{g g} p_{1 g} + h_{i g} p_{1 i} & - h_{1 1} p_{1 i} - h_{1 2} p_{2 i} + h_{1 i} p_{1 1} - h_{1 i} p_{i i} + h_{g i} p_{1 g} + h_{i i} p_{1 i} & - h_{1 2} p_{2 1} - h_{1 i} p_{i 1} + h_{2 1} p_{1 2} + h_{i 1} p_{1 i} & - h_{1 1} p_{1 2} + h_{1 2} p_{1 1} - h_{1 2} p_{2 2} - h_{1 i} p_{i 2} + h_{2 2} p_{1 2}\\\\- h_{2 1} p_{1 g} - h_{2 2} p_{2 g} + h_{g g} p_{2 g} + h_{i g} p_{2 i} & h_{1 i} p_{2 1} - h_{2 1} p_{1 i} - h_{2 2} p_{2 i} + h_{g i} p_{2 g} + h_{i i} p_{2 i} & h_{1 1} p_{2 1} - h_{2 1} p_{1 1} + h_{2 1} p_{2 2} - h_{2 2} p_{2 1} + h_{i 1} p_{2 i} & h_{1 2} p_{2 1} - h_{2 1} p_{1 2}\\end{matrix}\\right]$"
      ],
      "text/plain": [
       "Matrix([\n",
       "[                                          -h_g_i*p_i_g + h_i_g*p_g_i,                h_1_i*p_g_1 - h_g_g*p_g_i + h_g_i*p_g_g - h_g_i*p_i_i + h_i_i*p_g_i,               h_1_1*p_g_1 + h_2_1*p_g_2 - h_g_g*p_g_1 - h_g_i*p_i_1 + h_i_1*p_g_i,                h_1_2*p_g_1 + h_2_2*p_g_2 - h_g_g*p_g_2 - h_g_i*p_i_2],\n",
       "[ h_g_g*p_i_g - h_i_1*p_1_g - h_i_g*p_g_g + h_i_g*p_i_i - h_i_i*p_i_g,                              h_1_i*p_i_1 + h_g_i*p_i_g - h_i_1*p_1_i - h_i_g*p_g_i, h_1_1*p_i_1 + h_2_1*p_i_2 - h_i_1*p_1_1 + h_i_1*p_i_i - h_i_g*p_g_1 - h_i_i*p_i_1,  h_1_2*p_i_1 + h_2_2*p_i_2 - h_i_1*p_1_2 - h_i_g*p_g_2 - h_i_i*p_i_2],\n",
       "[-h_1_1*p_1_g - h_1_2*p_2_g - h_1_i*p_i_g + h_g_g*p_1_g + h_i_g*p_1_i, -h_1_1*p_1_i - h_1_2*p_2_i + h_1_i*p_1_1 - h_1_i*p_i_i + h_g_i*p_1_g + h_i_i*p_1_i,                            -h_1_2*p_2_1 - h_1_i*p_i_1 + h_2_1*p_1_2 + h_i_1*p_1_i, -h_1_1*p_1_2 + h_1_2*p_1_1 - h_1_2*p_2_2 - h_1_i*p_i_2 + h_2_2*p_1_2],\n",
       "[              -h_2_1*p_1_g - h_2_2*p_2_g + h_g_g*p_2_g + h_i_g*p_2_i,                h_1_i*p_2_1 - h_2_1*p_1_i - h_2_2*p_2_i + h_g_i*p_2_g + h_i_i*p_2_i,               h_1_1*p_2_1 - h_2_1*p_1_1 + h_2_1*p_2_2 - h_2_2*p_2_1 + h_i_1*p_2_i,                                            h_1_2*p_2_1 - h_2_1*p_1_2]])"
      ]
     },
     "execution_count": 4,
     "metadata": {},
     "output_type": "execute_result"
    }
   ],
   "source": [
    "p @ H - H @ p"
   ]
  },
  {
   "cell_type": "code",
   "execution_count": 5,
   "id": "bc310a6c-aefa-48af-afb1-1596d7598d23",
   "metadata": {},
   "outputs": [],
   "source": [
    "σgi = np.array([[0, 1, 0, 0], [0, 0, 0, 0], [0, 0, 0, 0], [0, 0, 0, 0]])\n",
    "σi1 = np.array([[0, 0, 0, 0], [0, 0, 1, 0], [0, 0, 0, 0], [0, 0, 0, 0]])\n",
    "σ12 = np.array([[0, 0, 0, 0], [0, 0, 0, 0], [0, 0, 0, 1], [0, 0, 0, 0]])"
   ]
  },
  {
   "cell_type": "code",
   "execution_count": 6,
   "id": "79374e4e-1b8a-404f-9661-69c440c99d5e",
   "metadata": {},
   "outputs": [],
   "source": [
    "γgi, γi1, γ12 = sym.symbols(\"γ_g_i, γ_i_1, γ_1_2\")"
   ]
  },
  {
   "cell_type": "code",
   "execution_count": 7,
   "id": "5cd5d357-d4cd-47e9-a826-841eb3eb62d9",
   "metadata": {},
   "outputs": [
    {
     "data": {
      "text/latex": [
       "$\\displaystyle \\left[\\begin{matrix}p_{i i} & - \\frac{p_{g i} γ_{g i}}{2} & 0 & 0\\\\- \\frac{p_{i g} γ_{g i}}{2} & - p_{i i} γ_{g i} & - \\frac{p_{i 1} γ_{g i}}{2} & - \\frac{p_{i 2} γ_{g i}}{2}\\\\0 & - \\frac{p_{1 i} γ_{g i}}{2} & 0 & 0\\\\0 & - \\frac{p_{2 i} γ_{g i}}{2} & 0 & 0\\end{matrix}\\right]$"
      ],
      "text/plain": [
       "Matrix([\n",
       "[         p_i_i, -p_g_i*γ_g_i/2,              0,              0],\n",
       "[-p_i_g*γ_g_i/2,   -p_i_i*γ_g_i, -p_i_1*γ_g_i/2, -p_i_2*γ_g_i/2],\n",
       "[             0, -p_1_i*γ_g_i/2,              0,              0],\n",
       "[             0, -p_2_i*γ_g_i/2,              0,              0]])"
      ]
     },
     "execution_count": 7,
     "metadata": {},
     "output_type": "execute_result"
    }
   ],
   "source": [
    "A = σgi @ p @ σgi.conj().T - γgi / 2 * (σgi.conj().T @ σgi @ p + p @ σgi.conj().T @ σgi)\n",
    "A"
   ]
  },
  {
   "cell_type": "code",
   "execution_count": 8,
   "id": "163288bc-b333-48c0-9972-39f732436b12",
   "metadata": {},
   "outputs": [
    {
     "data": {
      "text/latex": [
       "$\\displaystyle \\left[\\begin{matrix}0 & 0 & - \\frac{p_{g 1} γ_{i 1}}{2} & 0\\\\0 & p_{1 1} & - \\frac{p_{i 1} γ_{i 1}}{2} & 0\\\\- \\frac{p_{1 g} γ_{i 1}}{2} & - \\frac{p_{1 i} γ_{i 1}}{2} & - p_{1 1} γ_{i 1} & - \\frac{p_{1 2} γ_{i 1}}{2}\\\\0 & 0 & - \\frac{p_{2 1} γ_{i 1}}{2} & 0\\end{matrix}\\right]$"
      ],
      "text/plain": [
       "Matrix([\n",
       "[             0,              0, -p_g_1*γ_i_1/2,              0],\n",
       "[             0,          p_1_1, -p_i_1*γ_i_1/2,              0],\n",
       "[-p_1_g*γ_i_1/2, -p_1_i*γ_i_1/2,   -p_1_1*γ_i_1, -p_1_2*γ_i_1/2],\n",
       "[             0,              0, -p_2_1*γ_i_1/2,              0]])"
      ]
     },
     "execution_count": 8,
     "metadata": {},
     "output_type": "execute_result"
    }
   ],
   "source": [
    "B = σi1 @ p @ σi1.conj().T - γi1 / 2 * (σi1.conj().T @ σi1 @ p + p @ σi1.conj().T @ σi1)\n",
    "B"
   ]
  },
  {
   "cell_type": "code",
   "execution_count": 9,
   "id": "9ded2da0-c286-4902-8453-93745ae84354",
   "metadata": {},
   "outputs": [
    {
     "data": {
      "text/latex": [
       "$\\displaystyle \\left[\\begin{matrix}0 & 0 & 0 & - \\frac{p_{g 2} γ_{1 2}}{2}\\\\0 & 0 & 0 & - \\frac{p_{i 2} γ_{1 2}}{2}\\\\0 & 0 & p_{2 2} & - \\frac{p_{1 2} γ_{1 2}}{2}\\\\- \\frac{p_{2 g} γ_{1 2}}{2} & - \\frac{p_{2 i} γ_{1 2}}{2} & - \\frac{p_{2 1} γ_{1 2}}{2} & - p_{2 2} γ_{1 2}\\end{matrix}\\right]$"
      ],
      "text/plain": [
       "Matrix([\n",
       "[             0,              0,              0, -p_g_2*γ_1_2/2],\n",
       "[             0,              0,              0, -p_i_2*γ_1_2/2],\n",
       "[             0,              0,          p_2_2, -p_1_2*γ_1_2/2],\n",
       "[-p_2_g*γ_1_2/2, -p_2_i*γ_1_2/2, -p_2_1*γ_1_2/2,   -p_2_2*γ_1_2]])"
      ]
     },
     "execution_count": 9,
     "metadata": {},
     "output_type": "execute_result"
    }
   ],
   "source": [
    "C = σ12 @ p @ σ12.conj().T - γ12 / 2 * (σ12.conj().T @ σ12 @ p + p @ σ12.conj().T @ σ12)\n",
    "C"
   ]
  },
  {
   "cell_type": "code",
   "execution_count": 10,
   "id": "d11da653-fe8e-4133-8712-e9943b19c360",
   "metadata": {},
   "outputs": [
    {
     "data": {
      "text/latex": [
       "$\\displaystyle \\left[\\begin{matrix}p_{i i} + 1.0 i \\left(- h_{g i} p_{i g} + h_{i g} p_{g i}\\right) & - \\frac{p_{g i} γ_{g i}}{2} + 1.0 i \\left(h_{1 i} p_{g 1} - h_{g g} p_{g i} + h_{g i} p_{g g} - h_{g i} p_{i i} + h_{i i} p_{g i}\\right) & - \\frac{p_{g 1} γ_{i 1}}{2} + 1.0 i \\left(h_{1 1} p_{g 1} + h_{2 1} p_{g 2} - h_{g g} p_{g 1} - h_{g i} p_{i 1} + h_{i 1} p_{g i}\\right) & - \\frac{p_{g 2} γ_{1 2}}{2} + 1.0 i \\left(h_{1 2} p_{g 1} + h_{2 2} p_{g 2} - h_{g g} p_{g 2} - h_{g i} p_{i 2}\\right)\\\\- \\frac{p_{i g} γ_{g i}}{2} + 1.0 i \\left(h_{g g} p_{i g} - h_{i 1} p_{1 g} - h_{i g} p_{g g} + h_{i g} p_{i i} - h_{i i} p_{i g}\\right) & p_{1 1} - p_{i i} γ_{g i} + 1.0 i \\left(h_{1 i} p_{i 1} + h_{g i} p_{i g} - h_{i 1} p_{1 i} - h_{i g} p_{g i}\\right) & - \\frac{p_{i 1} γ_{g i}}{2} - \\frac{p_{i 1} γ_{i 1}}{2} + 1.0 i \\left(h_{1 1} p_{i 1} + h_{2 1} p_{i 2} - h_{i 1} p_{1 1} + h_{i 1} p_{i i} - h_{i g} p_{g 1} - h_{i i} p_{i 1}\\right) & - \\frac{p_{i 2} γ_{1 2}}{2} - \\frac{p_{i 2} γ_{g i}}{2} + 1.0 i \\left(h_{1 2} p_{i 1} + h_{2 2} p_{i 2} - h_{i 1} p_{1 2} - h_{i g} p_{g 2} - h_{i i} p_{i 2}\\right)\\\\- \\frac{p_{1 g} γ_{i 1}}{2} + 1.0 i \\left(- h_{1 1} p_{1 g} - h_{1 2} p_{2 g} - h_{1 i} p_{i g} + h_{g g} p_{1 g} + h_{i g} p_{1 i}\\right) & - \\frac{p_{1 i} γ_{g i}}{2} - \\frac{p_{1 i} γ_{i 1}}{2} + 1.0 i \\left(- h_{1 1} p_{1 i} - h_{1 2} p_{2 i} + h_{1 i} p_{1 1} - h_{1 i} p_{i i} + h_{g i} p_{1 g} + h_{i i} p_{1 i}\\right) & - p_{1 1} γ_{i 1} + p_{2 2} + 1.0 i \\left(- h_{1 2} p_{2 1} - h_{1 i} p_{i 1} + h_{2 1} p_{1 2} + h_{i 1} p_{1 i}\\right) & - \\frac{p_{1 2} γ_{1 2}}{2} - \\frac{p_{1 2} γ_{i 1}}{2} + 1.0 i \\left(- h_{1 1} p_{1 2} + h_{1 2} p_{1 1} - h_{1 2} p_{2 2} - h_{1 i} p_{i 2} + h_{2 2} p_{1 2}\\right)\\\\- \\frac{p_{2 g} γ_{1 2}}{2} + 1.0 i \\left(- h_{2 1} p_{1 g} - h_{2 2} p_{2 g} + h_{g g} p_{2 g} + h_{i g} p_{2 i}\\right) & - \\frac{p_{2 i} γ_{1 2}}{2} - \\frac{p_{2 i} γ_{g i}}{2} + 1.0 i \\left(h_{1 i} p_{2 1} - h_{2 1} p_{1 i} - h_{2 2} p_{2 i} + h_{g i} p_{2 g} + h_{i i} p_{2 i}\\right) & - \\frac{p_{2 1} γ_{1 2}}{2} - \\frac{p_{2 1} γ_{i 1}}{2} + 1.0 i \\left(h_{1 1} p_{2 1} - h_{2 1} p_{1 1} + h_{2 1} p_{2 2} - h_{2 2} p_{2 1} + h_{i 1} p_{2 i}\\right) & - p_{2 2} γ_{1 2} + 1.0 i \\left(h_{1 2} p_{2 1} - h_{2 1} p_{1 2}\\right)\\end{matrix}\\right]$"
      ],
      "text/plain": [
       "Matrix([\n",
       "[                                                   p_i_i + 1.0*I*(-h_g_i*p_i_g + h_i_g*p_g_i),                                -p_g_i*γ_g_i/2 + 1.0*I*(h_1_i*p_g_1 - h_g_g*p_g_i + h_g_i*p_g_g - h_g_i*p_i_i + h_i_i*p_g_i),                               -p_g_1*γ_i_1/2 + 1.0*I*(h_1_1*p_g_1 + h_2_1*p_g_2 - h_g_g*p_g_1 - h_g_i*p_i_1 + h_i_1*p_g_i),                                -p_g_2*γ_1_2/2 + 1.0*I*(h_1_2*p_g_1 + h_2_2*p_g_2 - h_g_g*p_g_2 - h_g_i*p_i_2)],\n",
       "[ -p_i_g*γ_g_i/2 + 1.0*I*(h_g_g*p_i_g - h_i_1*p_1_g - h_i_g*p_g_g + h_i_g*p_i_i - h_i_i*p_i_g),                                         p_1_1 - p_i_i*γ_g_i + 1.0*I*(h_1_i*p_i_1 + h_g_i*p_i_g - h_i_1*p_1_i - h_i_g*p_g_i), -p_i_1*γ_g_i/2 - p_i_1*γ_i_1/2 + 1.0*I*(h_1_1*p_i_1 + h_2_1*p_i_2 - h_i_1*p_1_1 + h_i_1*p_i_i - h_i_g*p_g_1 - h_i_i*p_i_1),  -p_i_2*γ_1_2/2 - p_i_2*γ_g_i/2 + 1.0*I*(h_1_2*p_i_1 + h_2_2*p_i_2 - h_i_1*p_1_2 - h_i_g*p_g_2 - h_i_i*p_i_2)],\n",
       "[-p_1_g*γ_i_1/2 + 1.0*I*(-h_1_1*p_1_g - h_1_2*p_2_g - h_1_i*p_i_g + h_g_g*p_1_g + h_i_g*p_1_i), -p_1_i*γ_g_i/2 - p_1_i*γ_i_1/2 + 1.0*I*(-h_1_1*p_1_i - h_1_2*p_2_i + h_1_i*p_1_1 - h_1_i*p_i_i + h_g_i*p_1_g + h_i_i*p_1_i),                                      -p_1_1*γ_i_1 + p_2_2 + 1.0*I*(-h_1_2*p_2_1 - h_1_i*p_i_1 + h_2_1*p_1_2 + h_i_1*p_1_i), -p_1_2*γ_1_2/2 - p_1_2*γ_i_1/2 + 1.0*I*(-h_1_1*p_1_2 + h_1_2*p_1_1 - h_1_2*p_2_2 - h_1_i*p_i_2 + h_2_2*p_1_2)],\n",
       "[              -p_2_g*γ_1_2/2 + 1.0*I*(-h_2_1*p_1_g - h_2_2*p_2_g + h_g_g*p_2_g + h_i_g*p_2_i),                -p_2_i*γ_1_2/2 - p_2_i*γ_g_i/2 + 1.0*I*(h_1_i*p_2_1 - h_2_1*p_1_i - h_2_2*p_2_i + h_g_i*p_2_g + h_i_i*p_2_i),               -p_2_1*γ_1_2/2 - p_2_1*γ_i_1/2 + 1.0*I*(h_1_1*p_2_1 - h_2_1*p_1_1 + h_2_1*p_2_2 - h_2_2*p_2_1 + h_i_1*p_2_i),                                                              -p_2_2*γ_1_2 + 1.0*I*(h_1_2*p_2_1 - h_2_1*p_1_2)]])"
      ]
     },
     "execution_count": 10,
     "metadata": {},
     "output_type": "execute_result"
    }
   ],
   "source": [
    "dp = 1j * (p @ H - H @ p) + A + B + C\n",
    "dp"
   ]
  },
  {
   "cell_type": "code",
   "execution_count": 11,
   "id": "ccb1d1f4-c4c3-4bed-b619-63af757303fc",
   "metadata": {},
   "outputs": [
    {
     "data": {
      "text/latex": [
       "$\\displaystyle \\left[\\begin{matrix}p_{i i} + 1.0 i \\left(- h_{g i} p_{i g} + h_{i g} p_{g i}\\right)\\\\- \\frac{p_{g i} γ_{g i}}{2} + 1.0 i \\left(h_{1 i} p_{g 1} - h_{g g} p_{g i} + h_{g i} p_{g g} - h_{g i} p_{i i} + h_{i i} p_{g i}\\right)\\\\- \\frac{p_{g 1} γ_{i 1}}{2} + 1.0 i \\left(h_{1 1} p_{g 1} + h_{2 1} p_{g 2} - h_{g g} p_{g 1} - h_{g i} p_{i 1} + h_{i 1} p_{g i}\\right)\\\\- \\frac{p_{g 2} γ_{1 2}}{2} + 1.0 i \\left(h_{1 2} p_{g 1} + h_{2 2} p_{g 2} - h_{g g} p_{g 2} - h_{g i} p_{i 2}\\right)\\\\- \\frac{p_{i g} γ_{g i}}{2} + 1.0 i \\left(h_{g g} p_{i g} - h_{i 1} p_{1 g} - h_{i g} p_{g g} + h_{i g} p_{i i} - h_{i i} p_{i g}\\right)\\\\p_{1 1} - p_{i i} γ_{g i} + 1.0 i \\left(h_{1 i} p_{i 1} + h_{g i} p_{i g} - h_{i 1} p_{1 i} - h_{i g} p_{g i}\\right)\\\\- \\frac{p_{i 1} γ_{g i}}{2} - \\frac{p_{i 1} γ_{i 1}}{2} + 1.0 i \\left(h_{1 1} p_{i 1} + h_{2 1} p_{i 2} - h_{i 1} p_{1 1} + h_{i 1} p_{i i} - h_{i g} p_{g 1} - h_{i i} p_{i 1}\\right)\\\\- \\frac{p_{i 2} γ_{1 2}}{2} - \\frac{p_{i 2} γ_{g i}}{2} + 1.0 i \\left(h_{1 2} p_{i 1} + h_{2 2} p_{i 2} - h_{i 1} p_{1 2} - h_{i g} p_{g 2} - h_{i i} p_{i 2}\\right)\\\\- \\frac{p_{1 g} γ_{i 1}}{2} + 1.0 i \\left(- h_{1 1} p_{1 g} - h_{1 2} p_{2 g} - h_{1 i} p_{i g} + h_{g g} p_{1 g} + h_{i g} p_{1 i}\\right)\\\\- \\frac{p_{1 i} γ_{g i}}{2} - \\frac{p_{1 i} γ_{i 1}}{2} + 1.0 i \\left(- h_{1 1} p_{1 i} - h_{1 2} p_{2 i} + h_{1 i} p_{1 1} - h_{1 i} p_{i i} + h_{g i} p_{1 g} + h_{i i} p_{1 i}\\right)\\\\- p_{1 1} γ_{i 1} + p_{2 2} + 1.0 i \\left(- h_{1 2} p_{2 1} - h_{1 i} p_{i 1} + h_{2 1} p_{1 2} + h_{i 1} p_{1 i}\\right)\\\\- \\frac{p_{1 2} γ_{1 2}}{2} - \\frac{p_{1 2} γ_{i 1}}{2} + 1.0 i \\left(- h_{1 1} p_{1 2} + h_{1 2} p_{1 1} - h_{1 2} p_{2 2} - h_{1 i} p_{i 2} + h_{2 2} p_{1 2}\\right)\\\\- \\frac{p_{2 g} γ_{1 2}}{2} + 1.0 i \\left(- h_{2 1} p_{1 g} - h_{2 2} p_{2 g} + h_{g g} p_{2 g} + h_{i g} p_{2 i}\\right)\\\\- \\frac{p_{2 i} γ_{1 2}}{2} - \\frac{p_{2 i} γ_{g i}}{2} + 1.0 i \\left(h_{1 i} p_{2 1} - h_{2 1} p_{1 i} - h_{2 2} p_{2 i} + h_{g i} p_{2 g} + h_{i i} p_{2 i}\\right)\\\\- \\frac{p_{2 1} γ_{1 2}}{2} - \\frac{p_{2 1} γ_{i 1}}{2} + 1.0 i \\left(h_{1 1} p_{2 1} - h_{2 1} p_{1 1} + h_{2 1} p_{2 2} - h_{2 2} p_{2 1} + h_{i 1} p_{2 i}\\right)\\\\- p_{2 2} γ_{1 2} + 1.0 i \\left(h_{1 2} p_{2 1} - h_{2 1} p_{1 2}\\right)\\end{matrix}\\right]$"
      ],
      "text/plain": [
       "Matrix([\n",
       "[                                                                                 p_i_i + 1.0*I*(-h_g_i*p_i_g + h_i_g*p_g_i)],\n",
       "[                               -p_g_i*γ_g_i/2 + 1.0*I*(h_1_i*p_g_1 - h_g_g*p_g_i + h_g_i*p_g_g - h_g_i*p_i_i + h_i_i*p_g_i)],\n",
       "[                               -p_g_1*γ_i_1/2 + 1.0*I*(h_1_1*p_g_1 + h_2_1*p_g_2 - h_g_g*p_g_1 - h_g_i*p_i_1 + h_i_1*p_g_i)],\n",
       "[                                             -p_g_2*γ_1_2/2 + 1.0*I*(h_1_2*p_g_1 + h_2_2*p_g_2 - h_g_g*p_g_2 - h_g_i*p_i_2)],\n",
       "[                               -p_i_g*γ_g_i/2 + 1.0*I*(h_g_g*p_i_g - h_i_1*p_1_g - h_i_g*p_g_g + h_i_g*p_i_i - h_i_i*p_i_g)],\n",
       "[                                        p_1_1 - p_i_i*γ_g_i + 1.0*I*(h_1_i*p_i_1 + h_g_i*p_i_g - h_i_1*p_1_i - h_i_g*p_g_i)],\n",
       "[ -p_i_1*γ_g_i/2 - p_i_1*γ_i_1/2 + 1.0*I*(h_1_1*p_i_1 + h_2_1*p_i_2 - h_i_1*p_1_1 + h_i_1*p_i_i - h_i_g*p_g_1 - h_i_i*p_i_1)],\n",
       "[               -p_i_2*γ_1_2/2 - p_i_2*γ_g_i/2 + 1.0*I*(h_1_2*p_i_1 + h_2_2*p_i_2 - h_i_1*p_1_2 - h_i_g*p_g_2 - h_i_i*p_i_2)],\n",
       "[                              -p_1_g*γ_i_1/2 + 1.0*I*(-h_1_1*p_1_g - h_1_2*p_2_g - h_1_i*p_i_g + h_g_g*p_1_g + h_i_g*p_1_i)],\n",
       "[-p_1_i*γ_g_i/2 - p_1_i*γ_i_1/2 + 1.0*I*(-h_1_1*p_1_i - h_1_2*p_2_i + h_1_i*p_1_1 - h_1_i*p_i_i + h_g_i*p_1_g + h_i_i*p_1_i)],\n",
       "[                                      -p_1_1*γ_i_1 + p_2_2 + 1.0*I*(-h_1_2*p_2_1 - h_1_i*p_i_1 + h_2_1*p_1_2 + h_i_1*p_1_i)],\n",
       "[              -p_1_2*γ_1_2/2 - p_1_2*γ_i_1/2 + 1.0*I*(-h_1_1*p_1_2 + h_1_2*p_1_1 - h_1_2*p_2_2 - h_1_i*p_i_2 + h_2_2*p_1_2)],\n",
       "[                                            -p_2_g*γ_1_2/2 + 1.0*I*(-h_2_1*p_1_g - h_2_2*p_2_g + h_g_g*p_2_g + h_i_g*p_2_i)],\n",
       "[               -p_2_i*γ_1_2/2 - p_2_i*γ_g_i/2 + 1.0*I*(h_1_i*p_2_1 - h_2_1*p_1_i - h_2_2*p_2_i + h_g_i*p_2_g + h_i_i*p_2_i)],\n",
       "[               -p_2_1*γ_1_2/2 - p_2_1*γ_i_1/2 + 1.0*I*(h_1_1*p_2_1 - h_2_1*p_1_1 + h_2_1*p_2_2 - h_2_2*p_2_1 + h_i_1*p_2_i)],\n",
       "[                                                                           -p_2_2*γ_1_2 + 1.0*I*(h_1_2*p_2_1 - h_2_1*p_1_2)]])"
      ]
     },
     "execution_count": 11,
     "metadata": {},
     "output_type": "execute_result"
    }
   ],
   "source": [
    "dp = dp.reshape(16, 1)\n",
    "dp"
   ]
  },
  {
   "cell_type": "code",
   "execution_count": null,
   "id": "1330ee46-501f-4447-877a-57fa710e0f1b",
   "metadata": {},
   "outputs": [],
   "source": [
    "start = time.time()\n",
    "test = sym.solve(dp, [pgg, pgi, pg1, pg2, pig, pii, pi1, pi2, p1g, p1i, p11, p12, p2g, p2i, p21, p22])\n",
    "test\n",
    "print(\"Elapsed time: \", time.time() - start)"
   ]
  },
  {
   "cell_type": "code",
   "execution_count": null,
   "id": "3381278c-29ae-4735-aaf7-bcb0af31bb5f",
   "metadata": {},
   "outputs": [],
   "source": []
  }
 ],
 "metadata": {
  "kernelspec": {
   "display_name": "Python 3 (ipykernel)",
   "language": "python",
   "name": "python3"
  },
  "language_info": {
   "codemirror_mode": {
    "name": "ipython",
    "version": 3
   },
   "file_extension": ".py",
   "mimetype": "text/x-python",
   "name": "python",
   "nbconvert_exporter": "python",
   "pygments_lexer": "ipython3",
   "version": "3.11.9"
  }
 },
 "nbformat": 4,
 "nbformat_minor": 5
}
