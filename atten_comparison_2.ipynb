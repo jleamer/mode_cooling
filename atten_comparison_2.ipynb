{
 "cells": [
  {
   "cell_type": "markdown",
   "id": "68403f14-b60a-46c0-91e8-30fa7dc7b5ab",
   "metadata": {},
   "source": [
    "## Imports"
   ]
  },
  {
   "cell_type": "code",
   "execution_count": 1,
   "id": "a281d149-1a51-407b-ad10-d960feb162fc",
   "metadata": {},
   "outputs": [],
   "source": [
    "import numpy as np\n",
    "import matplotlib.pyplot as plt\n",
    "from matplotlib import ticker, colors\n",
    "from scipy import integrate, signal\n",
    "import sympy"
   ]
  },
  {
   "cell_type": "code",
   "execution_count": 2,
   "id": "5d984175-7e00-4b83-b6c2-3347485c567b",
   "metadata": {},
   "outputs": [],
   "source": [
    "# Set font size of plot elements\\n\",\n",
    "SMALL_SIZE = 12\n",
    "MEDIUM_SIZE = 14\n",
    "BIGGER_SIZE = 18\n",
    "plt.rc('font', size=SMALL_SIZE)          # controls default text sizes\n",
    "plt.rc('axes', titlesize=SMALL_SIZE)     # fontsize of the axes title\n",
    "plt.rc('axes', labelsize=MEDIUM_SIZE)    # fontsize of the x and y labels\n",
    "plt.rc('xtick', labelsize=SMALL_SIZE)    # fontsize of the tick labels\n",
    "plt.rc('ytick', labelsize=SMALL_SIZE)    # fontsize of the tick labels\n",
    "plt.rc('legend', fontsize=SMALL_SIZE)    # legend fontsize\n",
    "plt.rc('figure', titlesize=BIGGER_SIZE)  # fontsize of the figure title"
   ]
  },
  {
   "cell_type": "markdown",
   "id": "b379b27d-7ad7-45ba-9ca6-8163d9c82455",
   "metadata": {},
   "source": [
    "## Functions"
   ]
  },
  {
   "cell_type": "code",
   "execution_count": 3,
   "id": "125e98dc-e397-470d-a682-d19bad155144",
   "metadata": {},
   "outputs": [],
   "source": [
    "def photons_from_temp(ω_c, temp):\n",
    "    hbar_ov_k = 7.639e-12\n",
    "    return (np.exp(hbar_ov_k * ω_c / temp) - 1) ** -1"
   ]
  },
  {
   "cell_type": "code",
   "execution_count": 4,
   "id": "e838b14c-9431-4b17-9be5-1fff917ffb42",
   "metadata": {},
   "outputs": [],
   "source": [
    "def temp_from_photons(ω_c, num_photons):\n",
    "    hbar_ov_k = 7.639e-12 \n",
    "    return hbar_ov_k * ω_c / np.log(1 / num_photons + 1)"
   ]
  },
  {
   "cell_type": "code",
   "execution_count": 5,
   "id": "92b5d115-14e6-4a83-84f1-c6c1d06620a4",
   "metadata": {},
   "outputs": [],
   "source": [
    "def nv_noise(ω, κ, γ, r, g, nT, nc):\n",
    "    \"\"\"\n",
    "    function for calculating the number noise photons in the output port of the cavity-NV ensemble setup\n",
    "    :param ω:         the frequency range over which the integration is performed\n",
    "    :param κ:         the coupling rate of the input port\n",
    "    ;param γ:         the internal loss rate of the cavity\n",
    "    :param r:         the inhomogenous broadening of the spins\n",
    "    :param g:         the collective coupling strength of the NV ensemble to the cavity\n",
    "    :param nT:        the number of thermal photons at temperature T\n",
    "    :param nc:        the number of effective photons from the spins\n",
    "    :return:          the number of noise photons in the output port\n",
    "    \"\"\"\n",
    "    # Define the numerator in parts\n",
    "    num = (r ** 2 / 4 + ω ** 2) * κ * γ * nT + κ * r * g ** 2 * nc\n",
    "\n",
    "    # Define the denominator\n",
    "    den = np.abs(((κ + γ) / 2 - 1j * ω) * (r / 2 - 1j * ω) + g ** 2) ** 2\n",
    "\n",
    "    return integrate.simpson(1 / (2 * np.pi) * num / den, x=ω, axis=0)"
   ]
  },
  {
   "cell_type": "code",
   "execution_count": 6,
   "id": "1dd20f2e-5894-44a3-9c9f-cc04fb9e42da",
   "metadata": {},
   "outputs": [],
   "source": [
    "def nv_signal(ω, κ, γ, r, g, S):\n",
    "    \"\"\"\n",
    "    function for calculating the number of signal photons in the output port of the cavity-NV ensemble setup\n",
    "    :param ω:         the frequency range over which the integration is performed\n",
    "    :param κ:         the coupling rate of the input port\n",
    "    ;param γ:         the internal loss rate of the cavity\n",
    "    :param r:         the inhomogenous broadening of the spins\n",
    "    :param g:         the collective coupling strength of the NV ensemble to the cavity\n",
    "    :param S:         the power spectral density of the input signal\n",
    "    :return:          the number of signal photons in the output port\n",
    "    \"\"\"\n",
    "    # Define the numerator\n",
    "    num = (r ** 2 / 4 + ω ** 2) * κ ** 2\n",
    "\n",
    "    # Define the denominator\n",
    "    den = np.abs(((κ + γ) / 2 - 1j * ω) * (r / 2 - 1j * ω) + g ** 2) ** 2\n",
    "\n",
    "    return integrate.simpson(1 / (2 * np.pi) * num / den * S, x=ω, axis=0)"
   ]
  },
  {
   "cell_type": "code",
   "execution_count": 7,
   "id": "18f4e637-65e6-48ee-a27a-33a23005105e",
   "metadata": {},
   "outputs": [],
   "source": [
    "def nv_output(ω, κ, γ, r, g, nT, nc, S):\n",
    "    num = (r ** 2 / 4 + ω ** 2) * (κ * γ * nT + κ ** 2 * S) + κ * r * g ** 2 * nc\n",
    "    den = np.abs(((κ + γ) / 2 - 1j * ω) * (r / 2 - 1j * ω) + g ** 2) ** 2\n",
    "    return integrate.simpson(1 / (2 * np.pi) * num / den, x=ω, axis=0)"
   ]
  },
  {
   "cell_type": "code",
   "execution_count": 8,
   "id": "99c22b4d-e713-45ab-b2f0-e83b944834fc",
   "metadata": {},
   "outputs": [],
   "source": [
    "def bare_cav_noise(ω, κ, γ, nT):\n",
    "    num = κ * γ * nT\n",
    "    den = np.abs((κ + γ) / 2 - 1j * ω) ** 2\n",
    "    return integrate.simpson(1 / (2 * np.pi) * num / den, x=ω, axis=0)"
   ]
  },
  {
   "cell_type": "code",
   "execution_count": 9,
   "id": "93291aac-06f8-427e-bae8-78fca7585efe",
   "metadata": {},
   "outputs": [],
   "source": [
    "def bare_cav_signal(ω, κ, γ, S):\n",
    "    num = κ ** 2 * S\n",
    "    den = np.abs((κ + γ) / 2 - 1j * ω) ** 2\n",
    "    return integrate.simpson(1 / (2 * np.pi) * num / den, x=ω, axis=0)"
   ]
  },
  {
   "cell_type": "code",
   "execution_count": 10,
   "id": "63e9195a-1d7f-45b0-9b94-98e164ba8385",
   "metadata": {},
   "outputs": [],
   "source": [
    "def bare_cav_output(ω, κ, γ, nT, S):\n",
    "    num = κ * γ * nT + κ ** 2 * S\n",
    "    den = np.abs((κ + γ) / 2 - 1j * ω) ** 2\n",
    "    return integrate.simpson(1 / (2 * np.pi) * num / den, x=ω, axis=0)"
   ]
  },
  {
   "cell_type": "markdown",
   "id": "7df8d5e2-4174-4055-8a52-48b18c15ccae",
   "metadata": {},
   "source": [
    "## Bare Cavity Results"
   ]
  },
  {
   "cell_type": "code",
   "execution_count": 11,
   "id": "eccbb9b6-4aa9-49f2-9ee9-0a7a29eeeb93",
   "metadata": {},
   "outputs": [],
   "source": [
    "# Define cavity parameters\n",
    "ωc = 2 * np.pi * 2.87e9\n",
    "Q = 1e6\n",
    "γ = ωc / Q\n",
    "\n",
    "# Define temperature\n",
    "T = 300\n",
    "nT = photons_from_temp(ωc, T)\n",
    "\n",
    "# Define signal\n",
    "S = 10 * nT"
   ]
  },
  {
   "cell_type": "code",
   "execution_count": 12,
   "id": "ca8718fa-4806-41cf-ac5a-e9ceb949acdb",
   "metadata": {},
   "outputs": [],
   "source": [
    "# Define frequency range\n",
    "ω = 2 * np.pi * np.linspace(-5, 5, 1000) * 1e4\n",
    "\n",
    "# Calculate the input noise and signal over this bandwidth\n",
    "input_noise = 2 * ω[-1] * nT / (2 * np.pi)\n",
    "input_signal = 2 * ω[-1] * S / (2 * np.pi)"
   ]
  },
  {
   "cell_type": "code",
   "execution_count": 13,
   "id": "9a177755-bca2-4b37-966a-66a90cde1ea7",
   "metadata": {},
   "outputs": [],
   "source": [
    "# Define ranges for κ\n",
    "κ = np.logspace(3, 6, 100)\n",
    "\n",
    "# Create meshgrid\n",
    "κm, ωm = np.meshgrid(κ, ω)"
   ]
  },
  {
   "cell_type": "code",
   "execution_count": 14,
   "id": "15681c49-592b-487c-b700-797647e903a7",
   "metadata": {},
   "outputs": [],
   "source": [
    "# Calculate the signal and noise\n",
    "bc_signal = bare_cav_signal(ωm, κm, γ, S)\n",
    "bc_noise = bare_cav_noise(ωm, κm, γ, nT)\n",
    "\n",
    "# Also calculate the signal if the cavity has zero noise to obtain the reflected portion\n",
    "# Actually, this isn't required because its just the same as the signal term\n",
    "# bc_zero_temp = bare_cav_output(ωm, κm, γ, 0, S)"
   ]
  },
  {
   "cell_type": "code",
   "execution_count": 15,
   "id": "15a387af-8ebf-48f3-8638-1c95d596dee4",
   "metadata": {},
   "outputs": [],
   "source": [
    "# Define our attenuation factor using the ratio of the output signal to the input signal\n",
    "α_bc = bc_signal / input_signal"
   ]
  },
  {
   "cell_type": "code",
   "execution_count": 16,
   "id": "f1c6c939-ef6c-431a-81ad-c23f323d4ef8",
   "metadata": {},
   "outputs": [
    {
     "data": {
      "text/plain": [
       "Text(0, 0.5, 'Noise')"
      ]
     },
     "execution_count": 16,
     "metadata": {},
     "output_type": "execute_result"
    },
    {
     "data": {
      "image/png": "[encoded data removed]",
      "text/plain": [
       "<Figure size 640x480 with 1 Axes>"
      ]
     },
     "metadata": {},
     "output_type": "display_data"
    }
   ],
   "source": [
    "# Plot the attenuation coefficient vs the noise\n",
    "plt.plot(α_bc, bc_noise)\n",
    "plt.xlabel(\"Attenuation factor\")\n",
    "plt.ylabel(\"Noise\")"
   ]
  },
  {
   "cell_type": "markdown",
   "id": "452f0174-68d4-456f-b622-b10408e00309",
   "metadata": {},
   "source": [
    "## NV Ensemble Results"
   ]
  },
  {
   "cell_type": "code",
   "execution_count": 17,
   "id": "fd394376-bacc-437e-ad39-d7a7913bdd2f",
   "metadata": {},
   "outputs": [],
   "source": [
    "# We'll start with a good NV ensemble setup\n",
    "g = 1e6\n",
    "r = 2 * g\n",
    "P = 0.8\n",
    "nc = 0.5 * (1 - P) / P"
   ]
  },
  {
   "cell_type": "code",
   "execution_count": 19,
   "id": "613eba4c-ad05-48f6-9729-6b8b6f13d1a8",
   "metadata": {},
   "outputs": [],
   "source": [
    "# Calculate the noise and signal photons over the same sweep used above\n",
    "nv_noise = nv_noise(ωm, κm, γ, g, r, nT, nc)\n",
    "nv_signal = nv_signal(ωm, κm, γ, g, r, S)"
   ]
  },
  {
   "cell_type": "code",
   "execution_count": 20,
   "id": "deccca04-159e-4e21-a5e5-45cef1068356",
   "metadata": {},
   "outputs": [],
   "source": [
    "# Define our attenuation factor using the ratio of the output signal to the input signal\n",
    "α_nv = nv_signal / input_signal"
   ]
  },
  {
   "cell_type": "code",
   "execution_count": 21,
   "id": "72f621df-e98c-4589-85af-fb2cba00eda1",
   "metadata": {},
   "outputs": [
    {
     "data": {
      "text/plain": [
       "Text(0, 0.5, 'Noise')"
      ]
     },
     "execution_count": 21,
     "metadata": {},
     "output_type": "execute_result"
    },
    {
     "data": {
      "image/png": "[encoded data removed]",
      "text/plain": [
       "<Figure size 640x480 with 1 Axes>"
      ]
     },
     "metadata": {},
     "output_type": "display_data"
    }
   ],
   "source": [
    "# Plot the attenuation coefficient vs the noise\n",
    "plt.plot(α_nv, nv_noise)\n",
    "plt.xlabel(\"Attenuation factor\")\n",
    "plt.ylabel(\"Noise\")"
   ]
  },
  {
   "cell_type": "markdown",
   "id": "e09c535f-caf5-4ebf-98c0-37a3d17a081c",
   "metadata": {},
   "source": [
    "## Comparison"
   ]
  },
  {
   "cell_type": "markdown",
   "id": "2de7e247-99f8-4791-b9cb-12f2d494fb0b",
   "metadata": {},
   "source": [
    "Let's try defining an attenuation coefficient as the ratio of the output signal to the original and then plotting that against the noise and signal levels."
   ]
  },
  {
   "cell_type": "code",
   "execution_count": null,
   "id": "8f971b87-adda-4360-a268-dc4725afcb35",
   "metadata": {},
   "outputs": [],
   "source": []
  }
 ],
 "metadata": {
  "kernelspec": {
   "display_name": "Python 3 (ipykernel)",
   "language": "python",
   "name": "python3"
  },
  "language_info": {
   "codemirror_mode": {
    "name": "ipython",
    "version": 3
   },
   "file_extension": ".py",
   "mimetype": "text/x-python",
   "name": "python",
   "nbconvert_exporter": "python",
   "pygments_lexer": "ipython3",
   "version": "3.11.10"
  }
 },
 "nbformat": 4,
 "nbformat_minor": 5
}
